{
 "cells": [
  {
   "attachments": {},
   "cell_type": "markdown",
   "id": "0ec03939",
   "metadata": {},
   "source": [
    "<font size=\"85\">New Brunswick $27^\\circ$ Gable Roof Building: Wind Tunnel Test</font> <br>\n",
    "***\n",
    "Feb 25, 2023\n",
    "\n",
    "# Project description\n",
    "\n",
    "The study building is a 27 degree gable roof building with ridge height 9.8 m, width 14 m, and length 41 m. It is situated in a suburban surrounding all around except the North end. The North is exposed to an open terrain from the airport except for a couple of houses immediately next to it. \n",
    "\n",
    "| Parameter | Value |\n",
    "| --- | --- |\n",
    "| Geometric scale | 1:100 |\n",
    "| Velocity scale | TBD |\n",
    "| Sampling period | 180s |\n",
    "| Sampling frequency | 500Hz |\n",
    "| Reference wind tunnel speed | 60fps |\n",
    "| Number of exposures to be tested | Two exposures |\n",
    "| Profile measurement | Not required |\n",
    "| Tunnel setup | The tunnel configurations for the two exposures are given in Table 1 |\n",
    "| Pressure taps | 440 taps (see Figure 3 for the layout) |\n",
    "| Number of scanners required | 30 |\n",
    "| Test angles, $\\theta$ | 0° to 350° at 10°; 45°; 135°; 225°; and 315°. (40 directions) |\n",
    "| Number of runs | 8 (2 field conditions of Case 1, 6 for the other cases) |\n",
    "| Other instrumentation | None |\n",
    "| Dummy models | The dummy models will be built from the dense foam typically used by BLWTL to model surrounding buildings. |\n",
    "| Turntable setup | Several neighboring buildings and trees close to the study building will be crudely modeled for Case 1. |\n",
    "\n",
    "\n",
    "**Case matrix**\n",
    "| Case | Name | Surround | Exp-2 | Exp-4 |\n",
    "| --- | --- | --- | --- | --- |\n",
    "| 1 | fld | X | X | X |\n",
    "| 2 | iso |  | X |  |\n",
    "| 3 | xd |  | X |  |\n",
    "| 4 | xdd |  | X |  |\n",
    "| 5 | dxd |  | X |  |\n",
    "| 6 | xddd |  | X |  |\n",
    "| 7 | dxdd |  | X |  |\n",
    "\n"
   ]
  },
  {
   "attachments": {},
   "cell_type": "markdown",
   "id": "9dfa7533",
   "metadata": {},
   "source": [
    "## Basic definitions"
   ]
  },
  {
   "cell_type": "code",
   "execution_count": 1,
   "id": "0802ed98",
   "metadata": {},
   "outputs": [],
   "source": [
    "%load_ext autoreload\n",
    "%autoreload 2"
   ]
  },
  {
   "cell_type": "code",
   "execution_count": 2,
   "id": "a3f35768",
   "metadata": {
    "tags": []
   },
   "outputs": [],
   "source": [
    "import numpy as np\n",
    "import os\n",
    "import pandas as pd\n",
    "import matplotlib.pyplot as plt\n",
    "import json\n",
    "\n",
    "import wind\n",
    "import windBLWT as wt\n",
    "import windCAD\n",
    "import foam\n"
   ]
  },
  {
   "attachments": {},
   "cell_type": "markdown",
   "id": "25ed0a05",
   "metadata": {},
   "source": [
    "### Files and directories"
   ]
  },
  {
   "cell_type": "code",
   "execution_count": 3,
   "id": "243664c3",
   "metadata": {},
   "outputs": [],
   "source": [
    "# Directories\n",
    "rawHFPIdir = r\"\"\n",
    "workDir = r\"D:/OneDrive - The University of Western Ontario/Documents/Projects/NRC_fieldMonitoring/NRC_gable27deg/\"\n",
    "profileDir = workDir + r\"Data/windTunnel/profiles/\"\n",
    "outputDir = workDir + r\"Data/windTunnel/\"\n",
    "figDir = outputDir + r\"__plots/\"\n",
    "\n",
    "# Files\n",
    "tapFile = workDir + r\"Drawings/nrcNBwtTapDefinition.csv\"\n"
   ]
  },
  {
   "attachments": {},
   "cell_type": "markdown",
   "id": "4387a398",
   "metadata": {},
   "source": [
    "### General parameters"
   ]
  },
  {
   "cell_type": "code",
   "execution_count": 4,
   "id": "c43f39d7",
   "metadata": {},
   "outputs": [],
   "source": [
    "saveFigs = False\n",
    "caseNames = ['fld', 'iso', 'xd', 'xdd', 'dxd', 'xddd', 'dxdd']"
   ]
  },
  {
   "attachments": {},
   "cell_type": "markdown",
   "id": "4a2c5c32",
   "metadata": {},
   "source": [
    "### Scaling\n",
    "The geometric length scale is decided based on the optimal fitting the model in the wind tunnel.\n",
    "$$ \\lambda_L=1:100 $$\n",
    "\n",
    "The velocity scale is calculated by assuming the design wind speed according to NBCC 2020. The values for Moncton, NB (the nearest available location to Dieppe, NB), are:\n",
    "$$ q_{1/50}=0.5 kPa $$\n",
    "$$ U_{10}=\\sqrt{\\frac{2q}{\\rho}}=27.8 m/s $$\n",
    "\n",
    "Assuming an approximate roof height wind speed at the model scale to be $U_H^{WT}=10m/s$ (will be updated after the test) and considering the roof height ($H=8m/s$) close enough to $10m$:\n",
    "$$ \\lambda_V= \\frac{U_H^{WT}}{U_{10}}=1:2.78 $$\n",
    "\n",
    "Thus, the time scale is:\n",
    "$$ \\lambda_T = \\frac{\\lambda_L}{\\lambda_V} = 1:36 $$\n",
    "\n",
    "This means the model scale duration equivalent to the full-scale $1hr$ is $100s$."
   ]
  },
  {
   "attachments": {},
   "cell_type": "markdown",
   "id": "a65acec9",
   "metadata": {},
   "source": [
    "## Building Geometry"
   ]
  },
  {
   "attachments": {},
   "cell_type": "markdown",
   "id": "9c6eae99",
   "metadata": {},
   "source": [
    "### Basic geometry\n",
    "\n",
    "| Dimension | Unit |\n",
    "| --- | --- |\n",
    "| Length | $mm$ |\n",
    "| Time | $s$ |\n",
    "| Velocity | $m/s$ |\n",
    "| Density | $kg/m^3$ |"
   ]
  },
  {
   "cell_type": "code",
   "execution_count": 5,
   "id": "94f02808",
   "metadata": {},
   "outputs": [
    {
     "name": "stdout",
     "output_type": "stream",
     "text": [
      "0.08\n"
     ]
    }
   ],
   "source": [
    "H = 80*wind.mm2m  # average roof height\n",
    "Hr = 97.5*wind.mm2m  # ridge height\n",
    "He = 62.5*wind.mm2m  # eaves height\n",
    "Havg = np.mean([Hr, He])\n",
    "B = 410*wind.mm2m\n",
    "D = 138.7*wind.mm2m\n",
    "alpha = 26.1  # roof slope\n",
    "\n",
    "lScl=1/100.0\n",
    "vScl=1/2.78\n",
    "tScl=lScl\n",
    "\n",
    "badTaps = {\n",
    "    caseNames[0]: [],\n",
    "    caseNames[1]: [],\n",
    "    caseNames[2]: [],\n",
    "    caseNames[3]: [],\n",
    "    caseNames[4]: [],\n",
    "    caseNames[5]: [],\n",
    "    caseNames[6]: [],\n",
    "}\n",
    "\n",
    "print(Havg)"
   ]
  },
  {
   "attachments": {},
   "cell_type": "markdown",
   "id": "31ad4aa7",
   "metadata": {},
   "source": [
    "### Basics of faces"
   ]
  },
  {
   "cell_type": "code",
   "execution_count": 6,
   "id": "56bc2dbc",
   "metadata": {
    "tags": []
   },
   "outputs": [],
   "source": [
    "\n",
    "tapData = pd.read_csv(tapFile, na_filter=False)\n",
    "\n",
    "faceID = [1,2,3,4,5,6]\n",
    "name = ['West_roof','East_roof','East_wall','North_wall','West_wall','South_wall']\n",
    "note = ['','','','','','']\n",
    "origin = [[0, -71.6, 62.5], [0, 71.6, 62.5], [0, 69.35, 0], [-205, 0, 0], [0, -69.35, 0], [205, 0, 0], ]\n",
    "\n",
    "basisVectors = [\n",
    "            [[1, 0, 0], [0, 0.898027575760616, 0.439939169855915], [0, -0.439939169855915, 0.898027575760616]], \n",
    "            [[-1, 0, 0], [0, -0.898027575760616, 0.439939169855915], [0, 0.439939169855915, 0.898027575760616]], \n",
    "            [[-1, 0, 0], [0, 0, 1], [0, 1, 0]], \n",
    "            [[0, -1, 0], [0, 0, 1], [-1, 0, 0]], \n",
    "            [[1, 0, 0], [0, 0, 1], [0, -1, 0]], \n",
    "            [[0, 1, 0], [0, 0, 1], [1, 0, 0]], \n",
    "            ]\n",
    "\n",
    "# origin_plt = [[0, 79.6967], [0, -79.6967], [0, -223.5182], [-357.0189, 0], [0, -223.5182], [357.0189, 0], ]\n",
    "origin_plt = [[0, -79.6967], [0, -79.6967], [0, -150], [0, -320], [0, -150], [0, -320], ]\n",
    "\n",
    "basisVectors_plt = [\n",
    "            [[1, 0], [0, 1]],       # Face 1 (West_roof)\n",
    "            [[-1, 0], [0, -1]],     # Face 2 (East_roof)\n",
    "            [[-1, 0], [0, -1]],     # Face 3 (East_wall)\n",
    "            [[0, 1], [-1, 0]],      # Face 4 (North_wall)\n",
    "            [[1, 0], [0, 1]],       # Face 5 (West_wall)\n",
    "            [[0, -1], [1, 0]],      # Face 6 (South_wall)\n",
    "            ]\n",
    "\n",
    "vertices_basic = [\n",
    "            [[-207.25, 0], [-207.25, 79.6967], [207.25, 79.6967], [207.25, 0], [-207.25, 0], ],  # Face 1\n",
    "            [[-207.25, 0], [-207.25, 79.6967], [207.25, 79.6967], [207.25, 0], [-207.25, 0], ],  # Face 2\n",
    "            [[-205, 0], [-205, 60.76], [205, 60.76], [205, 0], [-205, 0], ],  # Face 3\n",
    "            [[-69.35, 0], [-69.35, 61.8599], [0, 95.76], [69.35, 61.8599], [69.35, 0], [-69.35, 0], ],  # Face 4\n",
    "            [[-205, 0], [-205, 60.76], [205, 60.76], [205, 0], [-205, 0], ],  # Face 5\n",
    "            [[-69.35, 0], [-69.35, 61.8599], [0, 95.76], [69.35, 61.8599], [69.35, 0], [-69.35, 0], ],  # Face 6\n",
    "            ]\n",
    "\n",
    "vertices_full = [\n",
    "            [[-207.25, 0], [-207.25, 79.6967], [207.25, 79.6967], [207.25, 0], [-207.25, 0], ],  # Face 1\n",
    "            [[-207.25, 0], [-207.25, 79.6967], [207.25, 79.6967], [207.25, 0], [72.4, 0], [51.85, 24.6713], [31.3, 0], [-55.6, 0], [-83.05, 24.6713], [-110.5, 0], [-207.25, 0], ],  # Face 2\n",
    "            [[-205, 0], [-205, 60.76], [205, 60.76], [205, 0], [-205, 0], ],  # Face 3\n",
    "            [[-69.35, 0], [-69.35, 61.8599], [0, 95.76], [69.35, 61.8599], [69.35, 69.35], [-69.35, 0], ],  # Face 4\n",
    "            [],  # Not sure what to do with this yet because it's broken into 3 parts\n",
    "            [[-69.35, 0], [-69.35, 61.8599], [0, 95.76], [69.35, 61.8599], [69.35, 69.35], [-69.35, 0], ],  # Face 6\n",
    "            ]"
   ]
  },
  {
   "attachments": {},
   "cell_type": "markdown",
   "id": "d72be241",
   "metadata": {},
   "source": [
    "### Zone dictionary"
   ]
  },
  {
   "cell_type": "code",
   "execution_count": 7,
   "id": "b4a4dd6d",
   "metadata": {},
   "outputs": [],
   "source": [
    "zoneDict_basic = [\n",
    "        {   # Face 1\n",
    "            0:['NBCC 2020', 'Zone c', np.array([[193.38, 0, ], [193.38, 13.87, ], [207.25, 13.87, ], [207.25, 0, ], [193.38, 0, ], ])],\n",
    "            1:['NBCC 2020', 'Zone c', np.array([[193.38, 65.8267, ], [193.38, 79.6967, ], [207.25, 79.6967, ], [207.25, 65.8267, ], [193.38, 65.8267, ], ])],\n",
    "            2:['NBCC 2020', 'Zone c', np.array([[-193.38, 0, ], [-193.38, 13.87, ], [-207.25, 13.87, ], [-207.25, 0, ], [-193.38, 0, ], ])],\n",
    "            3:['NBCC 2020', 'Zone c', np.array([[-193.38, 65.8267, ], [-193.38, 79.6967, ], [-207.25, 79.6967, ], [-207.25, 65.8267, ], [-193.38, 65.8267, ], ])],\n",
    "            4:['NBCC 2020', 'Zone sp', np.array([[179.51, 65.8267, ], [179.51, 79.6967, ], [193.38, 79.6967, ], [193.38, 65.8267, ], [179.51, 65.8267, ], ])],\n",
    "            5:['NBCC 2020', 'Zone sp', np.array([[193.38, 13.87, ], [193.38, 65.8267, ], [207.25, 65.8267, ], [207.25, 13.87, ], [193.38, 13.87, ], ])],\n",
    "            6:['NBCC 2020', 'Zone sp', np.array([[-179.51, 65.8267, ], [-179.51, 79.6967, ], [-193.38, 79.6967, ], [-193.38, 65.8267, ], [-179.51, 65.8267, ], ])],\n",
    "            7:['NBCC 2020', 'Zone sp', np.array([[-193.38, 13.87, ], [-193.38, 65.8267, ], [-207.25, 65.8267, ], [-207.25, 13.87, ], [-193.38, 13.87, ], ])],\n",
    "            8:['NBCC 2020', 'Zone s', np.array([[-179.51, 65.8267, ], [-179.51, 79.6967, ], [179.51, 79.6967, ], [179.51, 65.8267, ], [-179.51, 65.8267, ], ])],\n",
    "            9:['NBCC 2020', 'Zone s', np.array([[-193.38, 0, ], [-193.38, 13.87, ], [193.38, 13.87, ], [193.38, 0, ], [-193.38, 0, ], ])],\n",
    "           10:['NBCC 2020', 'Zone r', np.array([[-193.38, 13.87, ], [-193.38, 65.8267, ], [193.38, 65.8267, ], [193.38, 13.87, ], [-193.38, 13.87, ], ])],\n",
    "        #    11:['ASCE 7-22', 'Zone 3', np.array([[-207.25, 79.6967, ], [-207.25, 65.8267, ], [-193.38, 65.8267, ], [-193.38, 79.6967, ], [-207.25, 79.6967, ], ])],\n",
    "        #    12:['ASCE 7-22', 'Zone 3', np.array([[207.25, 79.6967, ], [207.25, 65.8267, ], [193.38, 65.8267, ], [193.38, 79.6967, ], [207.25, 79.6967, ], ])],\n",
    "        #    13:['ASCE 7-22', 'Zone 2', np.array([[-207.25, 65.8267, ], [-207.25, 0, ], [-193.38, 0, ], [-193.38, 65.8267, ], [-207.25, 65.8267, ], ])],\n",
    "        #    14:['ASCE 7-22', 'Zone 2', np.array([[207.25, 65.8267, ], [207.25, 0, ], [193.38, 0, ], [193.38, 65.8267, ], [207.25, 65.8267, ], ])],\n",
    "        #    15:['ASCE 7-22', 'Zone 2', np.array([[-193.38, 79.6967, ], [-193.38, 65.8267, ], [193.38, 65.8267, ], [193.38, 79.6967, ], [-193.38, 79.6967, ], ])],\n",
    "        #    16:['ASCE 7-22', 'Zone 1', np.array([[-193.38, 65.8267, ], [-193.38, 0, ], [193.38, 0, ], [193.38, 65.8267, ], [-193.38, 65.8267, ], ])],\n",
    "        },\n",
    "        {   # Face 2\n",
    "            0:['NBCC 2020', 'Zone c', np.array([[193.38, 0, ], [193.38, 13.87, ], [207.25, 13.87, ], [207.25, 0, ], [193.38, 0, ], ])],\n",
    "            1:['NBCC 2020', 'Zone c', np.array([[193.38, 65.8267, ], [193.38, 79.6967, ], [207.25, 79.6967, ], [207.25, 65.8267, ], [193.38, 65.8267, ], ])],\n",
    "            2:['NBCC 2020', 'Zone c', np.array([[-193.38, 0, ], [-193.38, 13.87, ], [-207.25, 13.87, ], [-207.25, 0, ], [-193.38, 0, ], ])],\n",
    "            3:['NBCC 2020', 'Zone c', np.array([[-193.38, 65.8267, ], [-193.38, 79.6967, ], [-207.25, 79.6967, ], [-207.25, 65.8267, ], [-193.38, 65.8267, ], ])],\n",
    "            4:['NBCC 2020', 'Zone sp', np.array([[179.51, 65.8267, ], [179.51, 79.6967, ], [193.38, 79.6967, ], [193.38, 65.8267, ], [179.51, 65.8267, ], ])],\n",
    "            5:['NBCC 2020', 'Zone sp', np.array([[193.38, 13.87, ], [193.38, 65.8267, ], [207.25, 65.8267, ], [207.25, 13.87, ], [193.38, 13.87, ], ])],\n",
    "            6:['NBCC 2020', 'Zone sp', np.array([[-179.51, 65.8267, ], [-179.51, 79.6967, ], [-193.38, 79.6967, ], [-193.38, 65.8267, ], [-179.51, 65.8267, ], ])],\n",
    "            7:['NBCC 2020', 'Zone sp', np.array([[-193.38, 13.87, ], [-193.38, 65.8267, ], [-207.25, 65.8267, ], [-207.25, 13.87, ], [-193.38, 13.87, ], ])],\n",
    "            8:['NBCC 2020', 'Zone s', np.array([[-179.51, 65.8267, ], [-179.51, 79.6967, ], [179.51, 79.6967, ], [179.51, 65.8267, ], [-179.51, 65.8267, ], ])],\n",
    "            9:['NBCC 2020', 'Zone s', np.array([[-193.38, 0, ], [-193.38, 13.87, ], [193.38, 13.87, ], [193.38, 0, ], [-193.38, 0, ], ])],\n",
    "           10:['NBCC 2020', 'Zone r', np.array([[-193.38, 13.87, ], [-193.38, 65.8267, ], [193.38, 65.8267, ], [193.38, 13.87, ], [-193.38, 13.87, ], ])],\n",
    "        #    11:['ASCE 7-22', 'Zone 3', np.array([[-207.25, 79.6967, ], [-207.25, 65.8267, ], [-193.38, 65.8267, ], [-193.38, 79.6967, ], [-207.25, 79.6967, ], ])],\n",
    "        #    12:['ASCE 7-22', 'Zone 3', np.array([[207.25, 79.6967, ], [207.25, 65.8267, ], [193.38, 65.8267, ], [193.38, 79.6967, ], [207.25, 79.6967, ], ])],\n",
    "        #    13:['ASCE 7-22', 'Zone 2', np.array([[-207.25, 65.8267, ], [-207.25, 0, ], [-193.38, 0, ], [-193.38, 65.8267, ], [-207.25, 65.8267, ], ])],\n",
    "        #    14:['ASCE 7-22', 'Zone 2', np.array([[207.25, 65.8267, ], [207.25, 0, ], [193.38, 0, ], [193.38, 65.8267, ], [207.25, 65.8267, ], ])],\n",
    "        #    15:['ASCE 7-22', 'Zone 2', np.array([[-193.38, 79.6967, ], [-193.38, 65.8267, ], [193.38, 65.8267, ], [193.38, 79.6967, ], [-193.38, 79.6967, ], ])],\n",
    "        #    16:['ASCE 7-22', 'Zone 1', np.array([[-193.38, 65.8267, ], [-193.38, 0, ], [193.38, 0, ], [193.38, 65.8267, ], [-193.38, 65.8267, ], ])],\n",
    "        },\n",
    "        {   # Face 3\n",
    "            0:['NBCC 2020', 'Zone e', np.array([[191.13, 0, ], [191.13, 60.76, ], [205, 60.76, ], [205, 0, ], [191.13, 0, ], ])],\n",
    "            1:['NBCC 2020', 'Zone e', np.array([[-191.13, 0, ], [-191.13, 60.76, ], [-205, 60.76, ], [-205, 0, ], [-191.13, 0, ], ])],\n",
    "            2:['NBCC 2020', 'Zone w', np.array([[-191.13, 0, ], [-191.13, 60.76, ], [191.13, 60.76, ], [191.13, 0, ], [-191.13, 0, ], ])],\n",
    "            # 3:['ASCE 7-22', 'Zone 5', np.array([[-205, 60.76, ], [-205, 0, ], [-191.13, 0, ], [-191.13, 60.76, ], [-205, 60.76, ], ])],\n",
    "            # 4:['ASCE 7-22', 'Zone 5', np.array([[205, 60.76, ], [205, 0, ], [191.13, 0, ], [191.13, 60.76, ], [205, 60.76, ], ])],\n",
    "            # 5:['ASCE 7-22', 'Zone 4', np.array([[-191.13, 60.76, ], [-191.13, 0, ], [191.13, 0, ], [191.13, 60.76, ], [-191.13, 60.76, ], ])],\n",
    "        },\n",
    "        {   # Face 4\n",
    "            0:['NBCC 2020', 'Zone e', np.array([[-69.35, 0, ], [-69.35, 61.8599, ], [-55.48, 68.6399, ], [-55.48, 0, ], [-69.35, 0, ], ])],\n",
    "            1:['NBCC 2020', 'Zone e', np.array([[69.35, 0, ], [69.35, 61.8599, ], [55.48, 68.6399, ], [55.48, 0, ], [69.35, 0, ], ])],\n",
    "            2:['NBCC 2020', 'Zone w', np.array([[-55.48, 0, ], [-55.48, 68.6399, ], [0, 95.76, ], [55.48, 68.6399, ], [55.48, 0, ], [-55.48, 0, ], ])],\n",
    "            # 3:['ASCE 7-22', 'Zone 5', np.array([[-69.35, 61.8599, ], [-69.35, 0, ], [-55.48, 0, ], [-55.48, 68.6399, ], [-69.35, 61.8599, ], ])],\n",
    "            # 4:['ASCE 7-22', 'Zone 5', np.array([[69.35, 61.8599, ], [69.35, 0, ], [55.48, 0, ], [55.48, 68.6399, ], [69.35, 61.8599, ], ])],\n",
    "            # 5:['ASCE 7-22', 'Zone 4', np.array([[-55.48, 68.6399, ], [-55.48, 0, ], [55.48, 0, ], [55.48, 68.6399, ], [0, 95.76, ], [-55.48, 68.6399, ], ])],\n",
    "        },\n",
    "        {   # Face 5\n",
    "            0:['NBCC 2020', 'Zone e', np.array([[191.13, 0, ], [191.13, 60.76, ], [205, 60.76, ], [205, 0, ], [191.13, 0, ], ])],\n",
    "            1:['NBCC 2020', 'Zone e', np.array([[-191.13, 0, ], [-191.13, 60.76, ], [-205, 60.76, ], [-205, 0, ], [-191.13, 0, ], ])],\n",
    "            2:['NBCC 2020', 'Zone w', np.array([[-191.13, 0, ], [-191.13, 60.76, ], [191.13, 60.76, ], [191.13, 0, ], [-191.13, 0, ], ])],\n",
    "            # 3:['ASCE 7-22', 'Zone 5', np.array([[-205, 60.76, ], [-205, 0, ], [-191.13, 0, ], [-191.13, 60.76, ], [-205, 60.76, ], ])],\n",
    "            # 4:['ASCE 7-22', 'Zone 5', np.array([[205, 60.76, ], [205, 0, ], [191.13, 0, ], [191.13, 60.76, ], [205, 60.76, ], ])],\n",
    "            # 5:['ASCE 7-22', 'Zone 4', np.array([[-191.13, 60.76, ], [-191.13, 0, ], [191.13, 0, ], [191.13, 60.76, ], [-191.13, 60.76, ], ])],\n",
    "        },\n",
    "        {   # Face 6\n",
    "            0:['NBCC 2020', 'Zone e', np.array([[-69.35, 0, ], [-69.35, 61.8599, ], [-55.48, 68.6399, ], [-55.48, 0, ], [-69.35, 0, ], ])],\n",
    "            1:['NBCC 2020', 'Zone e', np.array([[69.35, 0, ], [69.35, 61.8599, ], [55.48, 68.6399, ], [55.48, 0, ], [69.35, 0, ], ])],\n",
    "            2:['NBCC 2020', 'Zone w', np.array([[-55.48, 0, ], [-55.48, 68.6399, ], [0, 95.76, ], [55.48, 68.6399, ], [55.48, 0, ], [-55.48, 0, ], ])],\n",
    "            # 3:['ASCE 7-22', 'Zone 5', np.array([[-69.35, 61.8599, ], [-69.35, 0, ], [-55.48, 0, ], [-55.48, 68.6399, ], [-69.35, 61.8599, ], ])],\n",
    "            # 4:['ASCE 7-22', 'Zone 5', np.array([[69.35, 61.8599, ], [69.35, 0, ], [55.48, 0, ], [55.48, 68.6399, ], [69.35, 61.8599, ], ])],\n",
    "            # 5:['ASCE 7-22', 'Zone 4', np.array([[-55.48, 68.6399, ], [-55.48, 0, ], [55.48, 0, ], [55.48, 68.6399, ], [0, 95.76, ], [-55.48, 68.6399, ], ])],\n",
    "        },\n",
    "]\n"
   ]
  },
  {
   "attachments": {},
   "cell_type": "markdown",
   "id": "0f7f13cd",
   "metadata": {},
   "source": [
    "### Face objects"
   ]
  },
  {
   "cell_type": "code",
   "execution_count": 8,
   "id": "adc99270",
   "metadata": {},
   "outputs": [
    {
     "name": "stdout",
     "output_type": "stream",
     "text": [
      "Generating panels ...\n"
     ]
    },
    {
     "name": "stderr",
     "output_type": "stream",
     "text": [
      "D:\\OneDrive - The University of Western Ontario\\Documents\\PhD\\Thesis\\CodeRepositories\\windCalc\\src\\windCAD.py:474: ShapelyDeprecationWarning: __len__ for multi-part geometries is deprecated and will be removed in Shapely 2.0. Check the length of the `geoms` property instead to get the  number of parts of a multi-part geometry.\n",
      "  print(f\"Shape of 'panels': {np.shape(np.array(self.panels,dtype=object))}\")\n",
      "D:\\OneDrive - The University of Western Ontario\\Documents\\PhD\\Thesis\\CodeRepositories\\windCalc\\src\\windCAD.py:474: ShapelyDeprecationWarning: Iteration over multi-part geometries is deprecated and will be removed in Shapely 2.0. Use the `geoms` property to access the constituent parts of a multi-part geometry.\n",
      "  print(f\"Shape of 'panels': {np.shape(np.array(self.panels,dtype=object))}\")\n"
     ]
    },
    {
     "name": "stdout",
     "output_type": "stream",
     "text": [
      "Shape of 'panels': (11, 4)\n",
      "Shape of 'panelAreas': (11, 4)\n",
      "Shape of 'pnlWeights': (11, 4)\n",
      "Shape of 'tapIdxByPnl': (11, 4)\n",
      "Indecies of nominalPanelArea per each zone with error of unequal area between total sum of panel areas vs. zone: \n",
      "\t\t\t((), (), (), (), (), (), (), (), (), (), ())\n",
      "Indecies of panels within nominalPanelArea within zone with tap weights that do not sum to 1 : \n",
      "\t\t\t(([], [], [], []), ([], [], [], []), ([], [], [], []), ([], [], [], []), ([], [], [], []), ([], [], [], []), ([], [], [], []), ([], [], [], []), ([], [], [], []), ([], [], [], []), ([], [], [], []))\n",
      "Generating panels ...\n"
     ]
    },
    {
     "name": "stderr",
     "output_type": "stream",
     "text": [
      "D:\\OneDrive - The University of Western Ontario\\Documents\\PhD\\Thesis\\CodeRepositories\\windCalc\\src\\windCAD.py:474: ShapelyDeprecationWarning: __len__ for multi-part geometries is deprecated and will be removed in Shapely 2.0. Check the length of the `geoms` property instead to get the  number of parts of a multi-part geometry.\n",
      "  print(f\"Shape of 'panels': {np.shape(np.array(self.panels,dtype=object))}\")\n",
      "D:\\OneDrive - The University of Western Ontario\\Documents\\PhD\\Thesis\\CodeRepositories\\windCalc\\src\\windCAD.py:474: ShapelyDeprecationWarning: Iteration over multi-part geometries is deprecated and will be removed in Shapely 2.0. Use the `geoms` property to access the constituent parts of a multi-part geometry.\n",
      "  print(f\"Shape of 'panels': {np.shape(np.array(self.panels,dtype=object))}\")\n"
     ]
    },
    {
     "name": "stdout",
     "output_type": "stream",
     "text": [
      "Shape of 'panels': (11, 4)\n",
      "Shape of 'panelAreas': (11, 4)\n",
      "Shape of 'pnlWeights': (11, 4)\n",
      "Shape of 'tapIdxByPnl': (11, 4)\n",
      "Indecies of nominalPanelArea per each zone with error of unequal area between total sum of panel areas vs. zone: \n",
      "\t\t\t((), (), (), (), (), (), (), (), (), (), ())\n",
      "Indecies of panels within nominalPanelArea within zone with tap weights that do not sum to 1 : \n",
      "\t\t\t(([], [], [], []), ([], [], [], []), ([], [], [], []), ([], [], [], []), ([], [], [], []), ([], [], [], []), ([], [], [], []), ([], [], [], []), ([], [], [], []), ([], [], [], []), ([], [], [], []))\n",
      "Generating panels ...\n"
     ]
    },
    {
     "name": "stderr",
     "output_type": "stream",
     "text": [
      "D:\\OneDrive - The University of Western Ontario\\Documents\\PhD\\Thesis\\CodeRepositories\\windCalc\\src\\windCAD.py:455: UserWarning: The difference between Zone area and the sum of its panel areas exceeds the tolerance level.\n",
      "  warnings.warn(f\"The difference between Zone area and the sum of its panel areas exceeds the tolerance level.\")\n",
      "D:\\OneDrive - The University of Western Ontario\\Documents\\PhD\\Thesis\\CodeRepositories\\windCalc\\src\\windCAD.py:474: ShapelyDeprecationWarning: __len__ for multi-part geometries is deprecated and will be removed in Shapely 2.0. Check the length of the `geoms` property instead to get the  number of parts of a multi-part geometry.\n",
      "  print(f\"Shape of 'panels': {np.shape(np.array(self.panels,dtype=object))}\")\n",
      "D:\\OneDrive - The University of Western Ontario\\Documents\\PhD\\Thesis\\CodeRepositories\\windCalc\\src\\windCAD.py:474: ShapelyDeprecationWarning: Iteration over multi-part geometries is deprecated and will be removed in Shapely 2.0. Use the `geoms` property to access the constituent parts of a multi-part geometry.\n",
      "  print(f\"Shape of 'panels': {np.shape(np.array(self.panels,dtype=object))}\")\n"
     ]
    },
    {
     "name": "stdout",
     "output_type": "stream",
     "text": [
      "Shape of 'panels': (3, 4)\n",
      "Shape of 'panelAreas': (3, 4)\n",
      "Shape of 'pnlWeights': (3, 4)\n",
      "Shape of 'tapIdxByPnl': (3, 4)\n",
      "Indecies of nominalPanelArea per each zone with error of unequal area between total sum of panel areas vs. zone: \n",
      "\t\t\t((), (), (3,))\n",
      "Indecies of panels within nominalPanelArea within zone with tap weights that do not sum to 1 : \n",
      "\t\t\t(([], [], [], []), ([], [], [], []), ([], [], [], []))\n",
      "Generating panels ...\n"
     ]
    },
    {
     "name": "stderr",
     "output_type": "stream",
     "text": [
      "D:\\OneDrive - The University of Western Ontario\\Documents\\PhD\\Thesis\\CodeRepositories\\windCalc\\src\\windCAD.py:455: UserWarning: The difference between Zone area and the sum of its panel areas exceeds the tolerance level.\n",
      "  warnings.warn(f\"The difference between Zone area and the sum of its panel areas exceeds the tolerance level.\")\n",
      "D:\\OneDrive - The University of Western Ontario\\Documents\\PhD\\Thesis\\CodeRepositories\\windCalc\\src\\windCAD.py:474: ShapelyDeprecationWarning: __len__ for multi-part geometries is deprecated and will be removed in Shapely 2.0. Check the length of the `geoms` property instead to get the  number of parts of a multi-part geometry.\n",
      "  print(f\"Shape of 'panels': {np.shape(np.array(self.panels,dtype=object))}\")\n",
      "D:\\OneDrive - The University of Western Ontario\\Documents\\PhD\\Thesis\\CodeRepositories\\windCalc\\src\\windCAD.py:474: ShapelyDeprecationWarning: Iteration over multi-part geometries is deprecated and will be removed in Shapely 2.0. Use the `geoms` property to access the constituent parts of a multi-part geometry.\n",
      "  print(f\"Shape of 'panels': {np.shape(np.array(self.panels,dtype=object))}\")\n"
     ]
    },
    {
     "name": "stdout",
     "output_type": "stream",
     "text": [
      "Shape of 'panels': (3, 4)\n",
      "Shape of 'panelAreas': (3, 4)\n",
      "Shape of 'pnlWeights': (3, 4)\n",
      "Shape of 'tapIdxByPnl': (3, 4)\n",
      "Indecies of nominalPanelArea per each zone with error of unequal area between total sum of panel areas vs. zone: \n",
      "\t\t\t((), (), (1,))\n",
      "Indecies of panels within nominalPanelArea within zone with tap weights that do not sum to 1 : \n",
      "\t\t\t(([], [], [], []), ([], [], [], []), ([], [], [], []))\n",
      "Generating panels ...\n"
     ]
    },
    {
     "name": "stderr",
     "output_type": "stream",
     "text": [
      "D:\\OneDrive - The University of Western Ontario\\Documents\\PhD\\Thesis\\CodeRepositories\\windCalc\\src\\windCAD.py:455: UserWarning: The difference between Zone area and the sum of its panel areas exceeds the tolerance level.\n",
      "  warnings.warn(f\"The difference between Zone area and the sum of its panel areas exceeds the tolerance level.\")\n",
      "D:\\OneDrive - The University of Western Ontario\\Documents\\PhD\\Thesis\\CodeRepositories\\windCalc\\src\\windCAD.py:474: ShapelyDeprecationWarning: __len__ for multi-part geometries is deprecated and will be removed in Shapely 2.0. Check the length of the `geoms` property instead to get the  number of parts of a multi-part geometry.\n",
      "  print(f\"Shape of 'panels': {np.shape(np.array(self.panels,dtype=object))}\")\n",
      "D:\\OneDrive - The University of Western Ontario\\Documents\\PhD\\Thesis\\CodeRepositories\\windCalc\\src\\windCAD.py:474: ShapelyDeprecationWarning: Iteration over multi-part geometries is deprecated and will be removed in Shapely 2.0. Use the `geoms` property to access the constituent parts of a multi-part geometry.\n",
      "  print(f\"Shape of 'panels': {np.shape(np.array(self.panels,dtype=object))}\")\n"
     ]
    },
    {
     "name": "stdout",
     "output_type": "stream",
     "text": [
      "Shape of 'panels': (3, 4)\n",
      "Shape of 'panelAreas': (3, 4)\n",
      "Shape of 'pnlWeights': (3, 4)\n",
      "Shape of 'tapIdxByPnl': (3, 4)\n",
      "Indecies of nominalPanelArea per each zone with error of unequal area between total sum of panel areas vs. zone: \n",
      "\t\t\t((), (), (3,))\n",
      "Indecies of panels within nominalPanelArea within zone with tap weights that do not sum to 1 : \n",
      "\t\t\t(([], [], [], []), ([], [], [], []), ([], [], [], []))\n",
      "Generating panels ...\n",
      "Shape of 'panels': (3, 4)\n",
      "Shape of 'panelAreas': (3, 4)\n",
      "Shape of 'pnlWeights': (3, 4)\n",
      "Shape of 'tapIdxByPnl': (3, 4)\n",
      "Indecies of nominalPanelArea per each zone with error of unequal area between total sum of panel areas vs. zone: \n",
      "\t\t\t((), (), (1,))\n",
      "Indecies of panels within nominalPanelArea within zone with tap weights that do not sum to 1 : \n",
      "\t\t\t(([], [], [], []), ([], [], [], []), ([], [], [], []))\n"
     ]
    },
    {
     "name": "stderr",
     "output_type": "stream",
     "text": [
      "D:\\OneDrive - The University of Western Ontario\\Documents\\PhD\\Thesis\\CodeRepositories\\windCalc\\src\\windCAD.py:455: UserWarning: The difference between Zone area and the sum of its panel areas exceeds the tolerance level.\n",
      "  warnings.warn(f\"The difference between Zone area and the sum of its panel areas exceeds the tolerance level.\")\n",
      "D:\\OneDrive - The University of Western Ontario\\Documents\\PhD\\Thesis\\CodeRepositories\\windCalc\\src\\windCAD.py:474: ShapelyDeprecationWarning: __len__ for multi-part geometries is deprecated and will be removed in Shapely 2.0. Check the length of the `geoms` property instead to get the  number of parts of a multi-part geometry.\n",
      "  print(f\"Shape of 'panels': {np.shape(np.array(self.panels,dtype=object))}\")\n",
      "D:\\OneDrive - The University of Western Ontario\\Documents\\PhD\\Thesis\\CodeRepositories\\windCalc\\src\\windCAD.py:474: ShapelyDeprecationWarning: Iteration over multi-part geometries is deprecated and will be removed in Shapely 2.0. Use the `geoms` property to access the constituent parts of a multi-part geometry.\n",
      "  print(f\"Shape of 'panels': {np.shape(np.array(self.panels,dtype=object))}\")\n"
     ]
    }
   ],
   "source": [
    "faces = []\n",
    "for i,f in enumerate(faceID):\n",
    "    idx = tapData.index[tapData.faceID == f]\n",
    "    tapCoords = np.transpose(np.array([tapData.x[idx], tapData.y[idx]]))\n",
    "    tapNos = np.array(tapData.tapNo[idx],dtype=int)\n",
    "    tapName = tapData.tapName[idx]\n",
    "    idxOrig = idx\n",
    "\n",
    "    fc = windCAD.face(\n",
    "                name=name[i],\n",
    "                ID=f,\n",
    "                origin=origin[i],\n",
    "                basisVectors=basisVectors[i],\n",
    "                origin_plt=origin_plt[i],\n",
    "                basisVectors_plt=basisVectors_plt[i],\n",
    "                vertices=vertices_basic[i],\n",
    "                tapNo=tapNos,\n",
    "                tapIdx=idxOrig,\n",
    "                tapName=tapName,\n",
    "                tapCoord=tapCoords,\n",
    "                zoneDict=zoneDict_basic[i],\n",
    "                # nominalPanelAreas=[4.4e-5, 8.15e-5, 1.3e-4, 5e-4, 6.8e-4, 1.3e-3,],   # Final! All are tested. 1.3e-3 results in blunt edge zones in the walls but no error.\n",
    "                nominalPanelAreas=[50.0, 200.0, 470, 785], \n",
    "                badTaps=badTaps,\n",
    "                allBldgTaps=np.array(tapData.tapNo, dtype=int),\n",
    "                )\n",
    "    # fc.plot(figSize=[20,15], overlayPanels=True, overlayTaps=True, overlayTribs=True, overlayZones=True)\n",
    "    faces.append(fc)\n",
    "\n",
    "# file = caseDir+'ttu_bldgGeom.json'\n",
    "# allFaces.writeToFile(file_basic=file)"
   ]
  },
  {
   "attachments": {},
   "cell_type": "markdown",
   "id": "ecbfb6bc",
   "metadata": {},
   "source": [
    "### Building objects"
   ]
  },
  {
   "cell_type": "code",
   "execution_count": 9,
   "id": "89715dcf",
   "metadata": {},
   "outputs": [
    {
     "name": "stdout",
     "output_type": "stream",
     "text": [
      "[(([], [], [], []), ([], [], [], []), ([], [], [], []), ([], [], [], []), ([], [], [], []), ([], [], [], []), ([], [], [], []), ([], [], [], []), ([], [], [], []), ([], [], [], []), ([], [], [], [])), (([], [], [], []), ([], [], [], []), ([], [], [], []), ([], [], [], []), ([], [], [], []), ([], [], [], []), ([], [], [], []), ([], [], [], []), ([], [], [], []), ([], [], [], []), ([], [], [], [])), (([], [], [], []), ([], [], [], []), ([], [], [], [])), (([], [], [], []), ([], [], [], []), ([], [], [], [])), (([], [], [], []), ([], [], [], []), ([], [], [], [])), (([], [], [], []), ([], [], [], []), ([], [], [], []))]\n",
      "[((), (), (), (), (), (), (), (), (), (), ()), ((), (), (), (), (), (), (), (), (), (), ()), ((), (), (3,)), ((), (), (1,)), ((), (), (3,)), ((), (), (1,))]\n"
     ]
    }
   ],
   "source": [
    "bldg_iso = wind.bldgCp(bldgName='NRC-NB_1to100_UWO',\n",
    "                faces=faces,\n",
    "                H=H,D=D,B=B,roofSlope=alpha,lScl=lScl,\n",
    "                caseName='Basic_No_Portico',\n",
    "                badTaps=badTaps,\n",
    "                )\n",
    "print(bldg_iso.error_in_panels)\n",
    "print(bldg_iso.error_in_zones)"
   ]
  },
  {
   "attachments": {},
   "cell_type": "markdown",
   "id": "304a782e",
   "metadata": {},
   "source": [
    "### Geometry plots"
   ]
  },
  {
   "cell_type": "code",
   "execution_count": 10,
   "id": "00841149",
   "metadata": {},
   "outputs": [
    {
     "data": {
      "text/plain": [
       "(-352.0, 352.0, -165.0, 165.0)"
      ]
     },
     "execution_count": 10,
     "metadata": {},
     "output_type": "execute_result"
    },
    {
     "data": {
      "image/png": "[encoded data removed]",
      "text/plain": [
       "<Figure size 1440x1080 with 1 Axes>"
      ]
     },
     "metadata": {
      "needs_background": "light"
     },
     "output_type": "display_data"
    }
   ],
   "source": [
    "fig = plt.figure(figsize=[20,15])\n",
    "ax = fig.add_subplot()\n",
    "\n",
    "bldg_iso.plotEdges(ax=ax,showName=False)\n",
    "bldg_iso.plotTaps(ax=ax,showTapNo=False)\n",
    "# bldg_iso.plotZones(ax=ax)\n",
    "\n",
    "bldg_iso.plotTribs(ax=ax)\n",
    "# bldg_iso.plotPanels(ax=ax,aIdx=2)\n",
    "\n",
    "ax.axis('equal')\n",
    "ax.axis('off')\n",
    "# if saveFigs:\n",
    "    # fig.savefig(figDir+\"tapLayout.svg\",format='svg',dpi=1200, bbox_inches='tight')\n",
    "\n"
   ]
  },
  {
   "attachments": {},
   "cell_type": "markdown",
   "id": "84897859",
   "metadata": {},
   "source": [
    "## Wind field\n",
    "\n",
    "### Exposure conditions\n",
    "\n",
    "Tunnel configurations for the considered exposures"
   ]
  },
  {
   "attachments": {},
   "cell_type": "markdown",
   "id": "61a6cb28",
   "metadata": {},
   "source": [
    "### Read data"
   ]
  },
  {
   "cell_type": "code",
   "execution_count": 11,
   "id": "0989f151",
   "metadata": {},
   "outputs": [],
   "source": [
    "sFreq = 1600\n",
    "dt = 1/sFreq\n",
    "\n",
    "pDir =profileDir+\"tngE2/\"\n",
    "Z = np.squeeze(pd.read_csv(pDir+\"Z.csv\"))\n",
    "U_TH = np.load(pDir+\"UofT.npy\")\n",
    "V_TH = np.load(pDir+\"VofT.npy\")\n",
    "W_TH = np.load(pDir+\"WofT.npy\")\n",
    "vel_OP = wind.profile(name=\"BLWT (Open)\", Z=Z,UofT=U_TH,VofT=V_TH,WofT=W_TH,H=H,dt=dt,nSpectAvg=32,keepTH=False)\n",
    "\n",
    "pDir =profileDir+\"tngE3/\"\n",
    "Z = np.squeeze(pd.read_csv(pDir+\"Z.csv\"))\n",
    "U_TH = np.load(pDir+\"UofT.npy\")\n",
    "V_TH = np.load(pDir+\"VofT.npy\")\n",
    "W_TH = np.load(pDir+\"WofT.npy\")\n",
    "vel_SU = wind.profile(name=\"BLWT (Suburban)\", Z=Z,UofT=U_TH.transpose(),VofT=V_TH.transpose(),WofT=W_TH.transpose(),H=H,dt=dt,nSpectAvg=32)\n",
    "\n",
    "del(U_TH, V_TH, W_TH)"
   ]
  },
  {
   "cell_type": "code",
   "execution_count": null,
   "id": "c845b8b8",
   "metadata": {},
   "outputs": [],
   "source": [
    "# # esdu_OP = wind.ESDU74(z0=0.02, Zref=H/lScl, Uref=25.0, Z=np.logspace(-1,2,100))\n",
    "# esdu_OP = wind.ESDU85(z0=0.02, Zref=H/lScl, Uref=25.0, Z=np.logspace(-1,2,100))\n",
    "\n",
    "# # esdu_SU = wind.ESDU74(z0=0.2, Zref=H/lScl, Uref=25.0, Z=np.logspace(-1,2,100))\n",
    "# esdu_SU = wind.ESDU85(z0=0.2, Zref=H/lScl, Uref=25.0, Z=np.logspace(-1,2,100))\n",
    "\n",
    "# vel = wind.Profiles([vel_OP, esdu_OP.toProfileObj(), vel_SU, esdu_SU.toProfileObj()])"
   ]
  },
  {
   "attachments": {},
   "cell_type": "markdown",
   "id": "a1b00294",
   "metadata": {},
   "source": [
    "### Plot wind field"
   ]
  },
  {
   "cell_type": "code",
   "execution_count": null,
   "id": "7a11617e",
   "metadata": {},
   "outputs": [],
   "source": [
    "# vel.plot(fig=plt.figure(figsize=[16,6]),zLim=[0,5], IuLim=[0,100], Ulim=[0,1.5],\n",
    "#         col=['r','r','b','b','g','g'],\n",
    "#         marker_Iu=   ['o','None','d','None','v','None'],\n",
    "#         linestyle_Iu=['-','-.',  '-','-.',  '-','--'],\n",
    "#         marker_U=    ['o','None','d','None','v','None'],\n",
    "#         linestyle_U= ['-','--',  '-','--',  '-','--'],\n",
    "#         marker_Spect=   ['None','None','None','None','None','None'],\n",
    "#         linestyle_Spect=['-','-.',  '-','-.',  '-','--'],\n",
    "#         IuLgndLoc='upper center', UlgndLoc='center',\n",
    "#         fontSz_axLbl=14, fontSz_axNum=12, fontSz_lgnd=12,\n",
    "#         freqLim=[1e-4, 5], rSuuLim=[1e-3,0.5]\n",
    "#         )"
   ]
  },
  {
   "attachments": {},
   "cell_type": "markdown",
   "id": "34b58683",
   "metadata": {},
   "source": [
    "## Surface pressure, $C_p$"
   ]
  },
  {
   "attachments": {},
   "cell_type": "markdown",
   "id": "e7593e1d",
   "metadata": {},
   "source": [
    "### Read data"
   ]
  },
  {
   "cell_type": "code",
   "execution_count": null,
   "id": "16be08be",
   "metadata": {},
   "outputs": [],
   "source": [
    "caseName = r\"nrcNBc1E3\"\n",
    "casedir = r\"E:/nrcNB_windTunnelData/rawHFPI/\"+caseName+r\"/\"\n",
    "analogChannels_idxs={\n",
    "                'main_pitot': 0,\n",
    "                'xref_pitot': 2,\n",
    "            }\n",
    "pressureExtraChannels_tapNos={\n",
    "                'main_pitot_zero': 2909,\n",
    "                'main_pitot_queue': 2910,\n",
    "                '20inch_pitot_zero': 2907,\n",
    "                '20inch_pitot_queue': 2908,\n",
    "                'Uh_pitot_zero': 2905,\n",
    "                'Uh_pitot_queue': 2906,\n",
    "            }\n",
    "\n",
    "peakSpecs = wind.DEFAULT_PEAK_SPECS\n",
    "# peakSpecs = {\n",
    "#                 'method':'minmax',\n",
    "#             }\n",
    "peakSpecs['Num_seg'] = 10\n",
    "peakSpecs['Duration'] = 10\n",
    "peakSpecs['prob_non_excd'] = 0.8"
   ]
  },
  {
   "cell_type": "code",
   "execution_count": null,
   "id": "1965608f",
   "metadata": {},
   "outputs": [],
   "source": [
    "\n",
    "cp_raw = wt.BLWTL_HFPI(\n",
    "    caseDir=casedir,\n",
    "    userNotes=None,\n",
    "    Z_MainPitot=1.48,\n",
    "    analogChannels_idxs=analogChannels_idxs,\n",
    "    pressureExtraChannels_tapNos=pressureExtraChannels_tapNos,\n",
    "    lowpassFreq=200.0,\n",
    "    Ntaps=440,\n",
    ")\n"
   ]
  },
  {
   "cell_type": "code",
   "execution_count": null,
   "id": "15474b4f",
   "metadata": {},
   "outputs": [],
   "source": [
    "\n",
    "cp = wind.bldgCp(\n",
    "                bldgName='NewBrunswick_Case2',\n",
    "                faces=faces,\n",
    "                H=H,D=D,B=B,roofSlope=1.2,lScl=lScl,\n",
    "                caseName=caseName,\n",
    "                refProfile=vel_SU,\n",
    "                Zref_input=cp_raw.Z_MainPitot,\n",
    "                Uref_input=cp_raw.Uref,\n",
    "                samplingFreq=cp_raw.sampleRate,\n",
    "                AoA=cp_raw.AoA,\n",
    "                CpOfT=cp_raw.CpTH,\n",
    "                badTaps=None,\n",
    "                reReferenceCpToH=True,\n",
    "                pOfT=None,\n",
    "                p0ofT=None,\n",
    "                CpStats=None,\n",
    "                peakSpecs=peakSpecs,\n",
    "                keepTH=False,\n",
    "                )\n"
   ]
  },
  {
   "cell_type": "code",
   "execution_count": 42,
   "id": "6c9ecd77",
   "metadata": {},
   "outputs": [
    {
     "name": "stdout",
     "output_type": "stream",
     "text": [
      "(44, 440)\n",
      "-1.5525001817427255\n"
     ]
    },
    {
     "data": {
      "image/png": "[encoded data removed]",
      "text/plain": [
       "<Figure size 432x288 with 1 Axes>"
      ]
     },
     "metadata": {
      "needs_background": "light"
     },
     "output_type": "display_data"
    }
   ],
   "source": [
    "print(np.shape(cp.CpStats['peakMin']))\n",
    "plt.plot(cp.AoA, cp.CpStats['mean'][:,1],'.-r')\n",
    "\n",
    "print(np.min(cp.CpStats['mean'][:,1]))\n"
   ]
  },
  {
   "cell_type": "code",
   "execution_count": 43,
   "id": "f069318e",
   "metadata": {},
   "outputs": [
    {
     "data": {
      "text/plain": [
       "(-352.0, 352.0, -165.0, 165.0)"
      ]
     },
     "execution_count": 43,
     "metadata": {},
     "output_type": "execute_result"
    },
    {
     "data": {
      "image/png": "[encoded data removed]",
      "text/plain": [
       "<Figure size 1080x720 with 1 Axes>"
      ]
     },
     "metadata": {
      "needs_background": "light"
     },
     "output_type": "display_data"
    },
    {
     "data": {
      "image/png": "[encoded data removed]",
      "text/plain": [
       "<Figure size 1080x720 with 1 Axes>"
      ]
     },
     "metadata": {
      "needs_background": "light"
     },
     "output_type": "display_data"
    }
   ],
   "source": [
    "# fldrange = [-1., 1.]\n",
    "fldrange = [-5., 3.]\n",
    "dIdx = 0\n",
    "\n",
    "cp.plotTapCpStatContour(fieldName='peakMax',dxnIdx=dIdx,figSize=[15,10],fldRange=fldrange,nLvl=15)\n",
    "\n",
    "fig = plt.figure(figsize=[15,10])\n",
    "ax = plt.subplot()\n",
    "cp.plotPanelCpStatContour(fieldName='peakMax',dxnIdx=dIdx,aIdx=2, ax=ax,fldRange=fldrange)\n",
    "cp.plotPanels(ax=ax, aIdx=2)\n",
    "ax.axis('equal')\n",
    "ax.axis('off')"
   ]
  },
  {
   "attachments": {},
   "cell_type": "markdown",
   "id": "0220a196",
   "metadata": {},
   "source": [
    "#### Wind tunnel data"
   ]
  },
  {
   "attachments": {},
   "cell_type": "markdown",
   "id": "851c9faa",
   "metadata": {},
   "source": [
    "### $C_p$ Plots"
   ]
  },
  {
   "attachments": {},
   "cell_type": "markdown",
   "id": "f0a5c65f",
   "metadata": {},
   "source": [
    "#### Local pressure"
   ]
  },
  {
   "cell_type": "code",
   "execution_count": null,
   "id": "9ebd3670",
   "metadata": {},
   "outputs": [],
   "source": [
    "\n",
    "cp.plotTapCpStatsPerAoA(xticks=np.linspace(0,360,5),pageNo_xy=(0.5,0.06),nCols=7, figsize=[20,20],mrkrs=['None','None','None'], fldRange=[-13,3])#,fields=['mean','std'])\n"
   ]
  },
  {
   "cell_type": "code",
   "execution_count": null,
   "id": "09531b14",
   "metadata": {},
   "outputs": [],
   "source": [
    "nrow, ncol = 8, 5\n",
    "\n",
    "fld = 'mean'\n",
    "fldRange=[-1.6,0.8]\n",
    "\n",
    "fig, axs = plt.subplots(nrow, ncol)\n",
    "fig.set_figheight(4*nrow)\n",
    "fig.set_figwidth(6*ncol)\n",
    "fig.subplots_adjust(wspace=0.0, hspace=0.0)\n",
    "\n",
    "for d,D in enumerate(cp.AoA):\n",
    "    ax = axs[d//ncol, d%ncol]\n",
    "    cp.plotTapCpStatContour(fieldName=fld,dxnIdx=d,ax=ax,fldRange=fldRange)\n",
    "    cp.plotEdges(ax=ax,showName=False)\n",
    "    # nrcNBc2E2.plotTaps(ax=ax,dotSz=1)\n",
    "    ax.axis('off')\n",
    "    ax.axis('equal')\n",
    "    # ax.set_title(r'$\\theta='+str(np.round(D,0))+r'^\\circ$',fontsize=16)\n",
    "\n",
    "if saveFigs:\n",
    "    fig.savefig(figDir+\"Cp_\"+fld+\".svg\",format='svg',dpi=600, bbox_inches='tight')"
   ]
  },
  {
   "cell_type": "code",
   "execution_count": 84,
   "id": "eaff6a23",
   "metadata": {},
   "outputs": [
    {
     "name": "stdout",
     "output_type": "stream",
     "text": [
      "None\n",
      "[7, 7]\n",
      "False\n"
     ]
    }
   ],
   "source": [
    "\n",
    "# file = r\"D:/temp/th.csv\"\n",
    "# x = cp_raw.CpTH[0,0,:]\n",
    "# print(np.shape(x))\n",
    "# M = pd.DataFrame(x)\n",
    "# M.to_csv(file,sep=',',header=None, index=None)\n",
    "\n",
    "# peakMin, peakMax, details = wind.peak(x=x, method='gumbel_BLUE',gumbel_N=10,debugMode=False,detailedOutput=True)\n",
    "\n",
    "# print(peakMax)\n",
    "# print(peakMin)\n",
    "# print(details)\n",
    "def func():\n",
    "    lst, lst2 = [7,], [7,]\n",
    "    lst3 = lst * 2\n",
    "    return lst3 == lst2.extend([lst])\n",
    "print(func())"
   ]
  },
  {
   "attachments": {},
   "cell_type": "markdown",
   "id": "d5e362f5",
   "metadata": {},
   "source": [
    "#### Area averaged load"
   ]
  },
  {
   "cell_type": "code",
   "execution_count": null,
   "id": "55d3d1b1",
   "metadata": {},
   "outputs": [],
   "source": [
    "NBCC_A_min = [\n",
    "            [0.1, 1, 10, 100], # c\n",
    "            [0.1, 2.2, 10, 100], # s\n",
    "            [0.1, 1, 10, 100], # r\n",
    "            ]\n",
    "NBCC_CpCg_min = np.array([\n",
    "            [-5, -5, -4, -4],\n",
    "            [-3.6, -3.6, -2.6, -2.6],\n",
    "            [-2.45, -2.45, -2, -2]\n",
    "            ],dtype=float)\n",
    "NBCC_A_max = [0.1, 1, 10, 100]\n",
    "NBCC_CpCg_max = np.array([0.75, 0.75, 0.5, 0.5],dtype=float)\n",
    "\n",
    "ft2m_sq = 0.3048**2\n",
    "\n",
    "ASCE_A_min = np.array([\n",
    "            [0.1, 10, 500, 2000], # 3\n",
    "            [0.1, 10, 500, 2000], # 2\n",
    "            [0.1, 10, 500, 2000], # 1\n",
    "            [0.1, 100, 500, 2000], # 1'\n",
    "            ],dtype=float)*ft2m_sq\n",
    "ASCE_GCp_min = np.array([\n",
    "            [-3.2, -3.2, -1.4, -1.4], # 3\n",
    "            [-2.3, -2.3, -1.4, -1.4], # 2\n",
    "            [-1.7, -1.7, -1.0, -1.0], # 1\n",
    "            [-0.9, -0.9, -0.4, -0.4], # 1'\n",
    "            ],dtype=float)\n",
    "ASCE_A_max = np.array([0.1, 100, 500, 2000],dtype=float)*ft2m_sq\n",
    "ASCE_GCp_max = np.array([0.3, 0.3, 0.2, 0.2],dtype=float)\n"
   ]
  },
  {
   "cell_type": "code",
   "execution_count": null,
   "id": "5692bb45",
   "metadata": {},
   "outputs": [],
   "source": [
    "from typing import List,Literal,Dict,Tuple,Any\n",
    "\n",
    "def CpStatsAreaAvgCollected(self, mixNominalAreas=False, \n",
    "                    envelope:Literal['max','min','none']='none', \n",
    "                    extremesPerNominalArea:Literal['max','min','none']='none'):\n",
    "    # [Nfaces][Nzones][Narea][Nflds][N_AoA,Npanels]\n",
    "    zNames = []\n",
    "    for z, zn in enumerate(self.zoneDict):\n",
    "        zNames.append(self.zoneDict[zn][0]+'_'+self.zoneDict[zn][1])\n",
    "    CpAavg = self.zoneDict\n",
    "    for zm, zone_m in enumerate(CpAavg):\n",
    "        if mixNominalAreas:\n",
    "            CpAavg[zone_m][2] = {}\n",
    "            for _, fld in enumerate(self.CpStatsAreaAvg[0][zm][0]):\n",
    "                CpAavg[zone_m][2][fld] = None                \n",
    "        else:\n",
    "            CpAavg[zone_m][2] = []\n",
    "            for a, _ in enumerate(self.faces[0].nominalPanelAreas):\n",
    "                CpAavg[zone_m][2].append({})\n",
    "                for _, fld in enumerate(self.CpStatsAreaAvg[0][zm][0]):\n",
    "                    CpAavg[zone_m][2][a][fld] = None\n",
    "\n",
    "    def envelopeFld(fld): # assumes all fields have the AoA as the first index\n",
    "        if envelope == 'max':\n",
    "            return np.max(fld,axis=0,keepdims=True) \n",
    "        elif envelope == 'min':\n",
    "            return np.min(fld,axis=0,keepdims=True)\n",
    "        elif envelope == 'none':\n",
    "            return fld\n",
    "\n",
    "    def extremePerArea(fld):\n",
    "        if extremesPerNominalArea == 'max':\n",
    "            return np.max(fld,axis=1,keepdims=True) \n",
    "        elif extremesPerNominalArea == 'min':\n",
    "            return np.min(fld,axis=1,keepdims=True)\n",
    "        elif extremesPerNominalArea == 'none':\n",
    "            return fld\n",
    "\n",
    "    for f,fc in enumerate(self.faces):\n",
    "        for z,zone in enumerate(fc.zoneDict):\n",
    "            zIdx = zNames.index(fc.zoneDict[zone][0]+'_'+fc.zoneDict[zone][1])\n",
    "            for a,_ in enumerate(fc.nominalPanelAreas):\n",
    "                for _, fld in enumerate(self.CpStatsAreaAvg[f][z][a]):\n",
    "                    if mixNominalAreas:\n",
    "                        if CpAavg[zIdx][2][fld] is None:\n",
    "                            CpAavg[zIdx][2][fld] = {}\n",
    "                            CpAavg[zIdx][2][fld] = envelopeFld(self.CpStatsAreaAvg[f][z][a][fld])\n",
    "                        else:\n",
    "                            CpAavg[zIdx][2][fld] = np.concatenate((CpAavg[zIdx][2][fld], envelopeFld(self.CpStatsAreaAvg[f][z][a][fld])), axis=1)\n",
    "                    else:\n",
    "                        if CpAavg[zIdx][2][a][fld] is None:\n",
    "                            CpAavg[zIdx][2][a][fld] = {}\n",
    "                            CpAavg[zIdx][2][a][fld] = envelopeFld(self.CpStatsAreaAvg[f][z][a][fld])\n",
    "                        else:\n",
    "                            CpAavg[zIdx][2][a][fld] = np.concatenate((CpAavg[zIdx][2][a][fld], envelopeFld(self.CpStatsAreaAvg[f][z][a][fld]) ), axis=1)\n",
    "    if not extremesPerNominalArea == 'none' and not mixNominalAreas:\n",
    "        __CpAavg = CpAavg\n",
    "        CpAavg = self.zoneDict\n",
    "        for zm, zone_m in enumerate(CpAavg):\n",
    "            CpAavg[zone_m][2] = {}\n",
    "            for _, fld in enumerate(self.CpStatsAreaAvg[0][zm][0]):\n",
    "                CpAavg[zone_m][2][fld] = np.zeros_like(self.faces[0].nominalPanelAreas)\n",
    "                for a, _ in enumerate(self.faces[0].nominalPanelAreas):\n",
    "                    CpAavg[zone_m][2][fld][a] = np.squeeze(extremePerArea(__CpAavg[zone_m][2][a][fld]))\n",
    "    return CpAavg"
   ]
  },
  {
   "cell_type": "code",
   "execution_count": 69,
   "id": "5a079c3c",
   "metadata": {},
   "outputs": [
    {
     "name": "stdout",
     "output_type": "stream",
     "text": [
      "(1, 56)\n",
      "(56,)\n"
     ]
    }
   ],
   "source": [
    "print(np.shape(cp.CpStatsAreaAvgCollected(mixNominalAreas=True,envelope='min',extremesPerNominalArea='min')[0][2]['peakMin']))\n",
    "print(np.shape(cp.panelAreas[0][2]))"
   ]
  },
  {
   "cell_type": "code",
   "execution_count": null,
   "id": "338d1b43",
   "metadata": {},
   "outputs": [],
   "source": [
    "A = np.array(bldg[0].nominalPanelAreas)\n",
    "A = np.multiply(A, np.power(1/bldg.lScl,2))\n",
    "durstFactor = 1.53**2\n",
    "ASCE_directionalityFactor = 0.85\n",
    "fact_NBCC_2_ASCE = (1/ASCE_directionalityFactor)*(1/durstFactor)\n",
    "\n",
    "nrow, ncol = 1, 3\n",
    "fig, axs = plt.subplots(nrow, ncol)\n",
    "fig.set_figheight(4*nrow)\n",
    "fig.set_figwidth(5*ncol)\n",
    "\n",
    "titles = ['Corner', 'Edge', 'Field']\n",
    "for z in range(ncol):\n",
    "    ax = axs[z]\n",
    "    cpAvg = CpStatsAreaAvgCollected(lesCp_E2, envelope='low',extremesPerNominalArea='low')\n",
    "    ax.semilogx(A, cpAvg[z][2]['peakMin']*fact_NBCC_2_ASCE,'or',label='LES')\n",
    "    cpAvg = CpStatsAreaAvgCollected(wtCp_tngE2,envelope='low',extremesPerNominalArea='low')\n",
    "    ax.semilogx(A, cpAvg[z][2]['peakMin']*fact_NBCC_2_ASCE,'db',label='BLWT')\n",
    "    ax.semilogx(NBCC_A_min[z], NBCC_CpCg_min[z]*fact_NBCC_2_ASCE,'-k',lw=2,label='NBCC-2020')\n",
    "    ax.semilogx(ASCE_A_min[z], ASCE_GCp_min[z],'--k',lw=2,label='ASCE 7-22')\n",
    "    if z == 2:\n",
    "        ax.semilogx(ASCE_A_min[z+1], ASCE_GCp_min[z+1],'--k',lw=2)\n",
    "\n",
    "    cpAvg = lesCp_E2.CpStatsAreaAvgCollected(envelope='high',extremesPerNominalArea='high')\n",
    "    ax.semilogx(A, cpAvg[z][2]['peakMax']*fact_NBCC_2_ASCE,'or')\n",
    "    cpAvg = wtCp_tngE2.CpStatsAreaAvgCollected(envelope='high',extremesPerNominalArea='high')\n",
    "    ax.semilogx(A, cpAvg[z][2]['peakMax']*fact_NBCC_2_ASCE,'db')\n",
    "    ax.semilogx(NBCC_A_max, NBCC_CpCg_max*fact_NBCC_2_ASCE,'-k',lw=2)\n",
    "    ax.semilogx(ASCE_A_max, ASCE_GCp_max,'--k',lw=2,)\n",
    "\n",
    "\n",
    "    ax.set_ylim([-6,1])\n",
    "    ax.set_xlim([0.1,100])\n",
    "    ax.tick_params(axis='both',direction='in',which='both',top=True,right=True)\n",
    "    ax.invert_yaxis()\n",
    "    ax.grid('both')\n",
    "    ax.set_ylabel(r'$GC_p$')\n",
    "    ax.set_xlabel(r'A [$m^2$]')\n",
    "    ax.set_title(titles[z])\n",
    "    if z == 2:\n",
    "        ax.legend()\n",
    "\n",
    "if saveFigs:\n",
    "    fig.savefig(figDir+\"areaAvgGCp_LESvsWTvsCode.svg\",format='svg',dpi=1200, bbox_inches='tight')"
   ]
  },
  {
   "cell_type": "code",
   "execution_count": null,
   "id": "10c9f6e4",
   "metadata": {},
   "outputs": [],
   "source": [
    "print(lesCp_E2.CpStatsAreaAvgCollected(envelope='low',extremesPerNominalArea='low'))"
   ]
  }
 ],
 "metadata": {
  "kernelspec": {
   "display_name": "Python 3.8.8 ('base')",
   "language": "python",
   "name": "python3"
  },
  "language_info": {
   "codemirror_mode": {
    "name": "ipython",
    "version": 3
   },
   "file_extension": ".py",
   "mimetype": "text/x-python",
   "name": "python",
   "nbconvert_exporter": "python",
   "pygments_lexer": "ipython3",
   "version": "3.8.8"
  },
  "vscode": {
   "interpreter": {
    "hash": "ad2bdc8ecc057115af97d19610ffacc2b4e99fae6737bb82f5d7fb13d2f2c186"
   }
  }
 },
 "nbformat": 4,
 "nbformat_minor": 5
}
