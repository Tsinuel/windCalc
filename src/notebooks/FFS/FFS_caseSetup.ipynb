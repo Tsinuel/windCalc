{
 "cells": [
  {
   "cell_type": "code",
   "execution_count": 1,
   "id": "f21dcd2e",
   "metadata": {},
   "outputs": [],
   "source": [
    "%load_ext autoreload\n",
    "%autoreload 2"
   ]
  },
  {
   "cell_type": "code",
   "execution_count": 2,
   "metadata": {},
   "outputs": [],
   "source": [
    "import numpy as np\n",
    "import os\n",
    "import pandas as pd\n",
    "import matplotlib.pyplot as plt\n",
    "\n",
    "import windIO\n",
    "import foam\n",
    "import wind"
   ]
  },
  {
   "cell_type": "code",
   "execution_count": 3,
   "id": "d7fae49d",
   "metadata": {},
   "outputs": [],
   "source": [
    "caseDir = \"D:/OneDrive - The University of Western Ontario/Documents/PhD/Thesis/01-revisitOfWindLoadEvaluation/01.02_Re_effect/Data/FFS/\""
   ]
  },
  {
   "attachments": {},
   "cell_type": "markdown",
   "id": "ec3331ea",
   "metadata": {},
   "source": [
    "### Separated shear layer"
   ]
  },
  {
   "cell_type": "code",
   "execution_count": 21,
   "id": "3da48629",
   "metadata": {},
   "outputs": [
    {
     "name": "stderr",
     "output_type": "stream",
     "text": [
      "D:\\OneDrive - The University of Western Ontario\\Documents\\PhD\\Thesis\\CodeRepositories\\windCalc\\src\\foam.py:623: UserWarning: The file D:/OneDrive - The University of Western Ontario/Documents/PhD/Thesis/01-revisitOfWindLoadEvaluation/01.02_Re_effect/Data/FFS/probes.SSL.z_0 exists and will be overwritten.\n",
      "  warnings.warn(msg)\n"
     ]
    }
   ],
   "source": [
    "zLoc = 0\n",
    "file = caseDir+\"probes.SSL.z_\"+str(zLoc)\n",
    "\n",
    "H = 0.08\n",
    "xMin, xMax = 0.0, 2.0*H\n",
    "yMin, yMax = 1.001*H, 2.0*H\n",
    "d = 0.02*H\n",
    "Nx, Ny = int(np.round((xMax-xMin)/d,0)), int(np.round((yMax-yMin)/d,0))\n",
    "\n",
    "x, y = np.meshgrid(np.linspace(xMin, xMax, Nx), np.linspace(yMin, yMax, Ny))\n",
    "x = x.flatten()\n",
    "y = y.flatten()\n",
    "z = np.ones_like(x)*zLoc\n",
    "\n",
    "pts = np.column_stack((x,y,z))\n",
    "\n",
    "foam.writeProbeDict(file,pts,overwrite=False)"
   ]
  },
  {
   "attachments": {},
   "cell_type": "markdown",
   "id": "1645dc30",
   "metadata": {},
   "source": [
    "### Frontal BL"
   ]
  },
  {
   "cell_type": "code",
   "execution_count": null,
   "id": "d4d1b0cf",
   "metadata": {},
   "outputs": [],
   "source": [
    "zLoc = 0\n",
    "file = caseDir+\"probes.FBL.z_\"+str(zLoc)\n",
    "\n",
    "H = 0.08\n",
    "xMin, xMax = -0.1*H, 0.0001*H\n",
    "yMin, yMax = 0.0, 1.0*H\n",
    "d = 0.02*H\n",
    "Nx, Ny = 50, int(np.round((yMax-yMin)/d,0))\n",
    "\n",
    "X = np.flip(-1*np.logspace(np.log10(np.abs(xMax)), np.log10(np.abs(xMin)), Nx))\n",
    "\n",
    "x, y = np.meshgrid(X, np.linspace(yMin, yMax, Ny))\n",
    "x = x.flatten()\n",
    "y = y.flatten()\n",
    "z = np.ones_like(x)*zLoc\n",
    "\n",
    "pts = np.column_stack((x,y,z))\n",
    "\n",
    "foam.writeProbeDict(file,pts,overwrite=False)"
   ]
  },
  {
   "attachments": {},
   "cell_type": "markdown",
   "id": "bead8f4f",
   "metadata": {},
   "source": [
    "### Surface pressure"
   ]
  },
  {
   "cell_type": "code",
   "execution_count": 35,
   "id": "d18380b9",
   "metadata": {},
   "outputs": [
    {
     "name": "stderr",
     "output_type": "stream",
     "text": [
      "D:\\OneDrive - The University of Western Ontario\\Documents\\PhD\\Thesis\\CodeRepositories\\windCalc\\src\\foam.py:623: UserWarning: The file D:/OneDrive - The University of Western Ontario/Documents/PhD/Thesis/01-revisitOfWindLoadEvaluation/01.02_Re_effect/Data/FFS/probes.surfPres.z_0 exists and will be overwritten.\n",
      "  warnings.warn(msg)\n"
     ]
    }
   ],
   "source": [
    "zLoc = 0\n",
    "file = caseDir+\"probes.surfPres.z_\"+str(zLoc)\n",
    "\n",
    "H = 0.08\n",
    "d = 0.02*H\n",
    "xMax = 6.0*H\n",
    "Nx, Ny = int(np.round(xMax/d,0)), int(np.round(H/d,0))\n",
    "\n",
    "y1 = np.linspace(0.0, 0.99*H, Ny)\n",
    "x1 = np.ones_like(y1)*0.0\n",
    "\n",
    "x2 = np.linspace(0.0,xMax,Nx)\n",
    "y2 = np.ones_like(x2)*H\n",
    "\n",
    "x = np.append(x1,x2)\n",
    "y = np.append(y1,y2)\n",
    "\n",
    "z = np.ones_like(x)*zLoc\n",
    "\n",
    "pts = np.column_stack((x,y,z))\n",
    "\n",
    "foam.writeProbeDict(file,pts,overwrite=False,fields=['p'])"
   ]
  },
  {
   "cell_type": "code",
   "execution_count": 65,
   "id": "3a94525d",
   "metadata": {},
   "outputs": [],
   "source": [
    "import winsound\n",
    "frequency = 100  # Set Frequency To 2500 Hertz\n",
    "duration = 1000  # Set Duration To 1000 ms == 1 second\n",
    "winsound.Beep(frequency, duration)\n",
    "# winsound.Beep(5000, 1000)\n",
    "# winsound.Beep(200, 1000)\n",
    "# winsound.Beep(1000, 1000)\n",
    "# winsound.Beep(2000, 1000)\n",
    "winsound.PlaySound()"
   ]
  },
  {
   "cell_type": "code",
   "execution_count": 1,
   "id": "a6cddee7",
   "metadata": {},
   "outputs": [],
   "source": [
    "import numpy as np\n",
    "import pyaudio\n",
    "\n",
    "# Generate a random signal with a sampling rate of 44100 Hz and a duration of 1 second\n",
    "sampling_rate = 44100\n",
    "duration = 1\n",
    "num_samples = int(sampling_rate * duration)\n",
    "signal = np.random.normal(0, 1, num_samples)\n",
    "\n",
    "# Create an audio player object\n",
    "p = pyaudio.PyAudio()\n",
    "\n",
    "# Open a stream for playing the signal\n",
    "stream = p.open(format=pyaudio.paFloat32,\n",
    "                channels=1,\n",
    "                rate=sampling_rate,\n",
    "                output=True)\n",
    "\n",
    "# Play the signal\n",
    "stream.write(signal.astype(np.float32).tobytes())\n",
    "\n",
    "# Stop the stream and close the player object\n",
    "stream.stop_stream()\n",
    "stream.close()\n",
    "p.terminate()\n"
   ]
  }
 ],
 "metadata": {
  "kernelspec": {
   "display_name": "Python 3.8.8 ('base')",
   "language": "python",
   "name": "python3"
  },
  "language_info": {
   "codemirror_mode": {
    "name": "ipython",
    "version": 3
   },
   "file_extension": ".py",
   "mimetype": "text/x-python",
   "name": "python",
   "nbconvert_exporter": "python",
   "pygments_lexer": "ipython3",
   "version": "3.8.8"
  },
  "vscode": {
   "interpreter": {
    "hash": "a101310663fe7ba3133d191ee0beb8e8ff0a9e31c81b0bc47e021bdd8a76f1c3"
   }
  }
 },
 "nbformat": 4,
 "nbformat_minor": 5
}
