{
 "cells": [
  {
   "cell_type": "code",
   "execution_count": 1,
   "id": "f21dcd2e",
   "metadata": {},
   "outputs": [],
   "source": [
    "%load_ext autoreload\n",
    "%autoreload 2"
   ]
  },
  {
   "cell_type": "code",
   "execution_count": 2,
   "metadata": {},
   "outputs": [],
   "source": [
    "import numpy as np\n",
    "import os\n",
    "import pandas as pd\n",
    "import matplotlib.pyplot as plt\n",
    "\n",
    "import windIO\n",
    "import foam\n",
    "import wind"
   ]
  },
  {
   "cell_type": "code",
   "execution_count": 3,
   "id": "d7fae49d",
   "metadata": {},
   "outputs": [],
   "source": [
    "caseDir = \"D:/OneDrive - The University of Western Ontario/Documents/PhD/Thesis/01-revisitOfWindLoadEvaluation/01.02_Re_effect/Data/FFS/\"\n",
    "overwrite = True"
   ]
  },
  {
   "attachments": {},
   "cell_type": "markdown",
   "id": "ec3331ea",
   "metadata": {},
   "source": [
    "### Separated shear layer"
   ]
  },
  {
   "cell_type": "code",
   "execution_count": 7,
   "id": "3da48629",
   "metadata": {},
   "outputs": [
    {
     "name": "stdout",
     "output_type": "stream",
     "text": [
      "Num in x: 100, Num in z: 50, Total: 5000\n"
     ]
    }
   ],
   "source": [
    "yLoc = 0\n",
    "file = caseDir+\"probes.SSL.y_\"+str(yLoc)\n",
    "\n",
    "H = 0.08\n",
    "xMin, xMax = 0.0, 2.0*H\n",
    "zMin, zMax = 1.001*H, 2.0*H\n",
    "d = 0.02*H\n",
    "Nx, Nz = int(np.round((xMax-xMin)/d,0)), int(np.round((zMax-zMin)/d,0))\n",
    "\n",
    "x, z = np.meshgrid(np.linspace(xMin, xMax, Nx), np.linspace(zMin, zMax, Nz))\n",
    "x = x.flatten()\n",
    "z = z.flatten()\n",
    "y = np.ones_like(x)*yLoc\n",
    "\n",
    "pts = np.column_stack((x,y,z))\n",
    "\n",
    "print(f\"Num in x: {Nx}, Num in z: {Nz}, Total: {Nx*Nz}\")\n",
    "# foam.writeProbeDict(file,pts,overwrite=overwrite)"
   ]
  },
  {
   "attachments": {},
   "cell_type": "markdown",
   "id": "1645dc30",
   "metadata": {},
   "source": [
    "### Frontal BL"
   ]
  },
  {
   "cell_type": "code",
   "execution_count": 8,
   "id": "d4d1b0cf",
   "metadata": {},
   "outputs": [
    {
     "name": "stdout",
     "output_type": "stream",
     "text": [
      "Num in x: 50, Num in z: 50, Total: 2500\n"
     ]
    }
   ],
   "source": [
    "yLoc = 0\n",
    "file = caseDir+\"probes.FBL.y_\"+str(yLoc)\n",
    "\n",
    "H = 0.08\n",
    "xMin, xMax = 0.0001*H, 0.1*H\n",
    "zMin, zMax = 0.0002, 1.0*H\n",
    "d = 0.02*H\n",
    "Nx, Nz = 50, int(np.round((zMax-zMin)/d,0))\n",
    "\n",
    "X = -1.0*np.flip(np.logspace(np.log10(xMin), np.log10(xMax), Nx))\n",
    "\n",
    "x, z = np.meshgrid(X, np.linspace(zMin, zMax, Nz))\n",
    "x = x.flatten()\n",
    "z = z.flatten()\n",
    "y = np.ones_like(x)*yLoc\n",
    "\n",
    "pts = np.column_stack((x,y,z))\n",
    "\n",
    "print(f\"Num in x: {Nx}, Num in z: {Nz}, Total: {Nx*Nz}\")\n",
    "# foam.writeProbeDict(file,pts,overwrite=overwrite)"
   ]
  },
  {
   "attachments": {},
   "cell_type": "markdown",
   "id": "bead8f4f",
   "metadata": {},
   "source": [
    "### Surface pressure"
   ]
  },
  {
   "cell_type": "code",
   "execution_count": 10,
   "id": "d18380b9",
   "metadata": {},
   "outputs": [
    {
     "name": "stdout",
     "output_type": "stream",
     "text": [
      "Num in x: 300, Num in z: 50, Total: 350\n"
     ]
    }
   ],
   "source": [
    "yLoc = 0\n",
    "file = caseDir+\"probes.surfPres.y_\"+str(yLoc)\n",
    "\n",
    "H = 0.08\n",
    "d = 0.02*H\n",
    "xMax = 6.0*H\n",
    "Nx, Nz = int(np.round(xMax/d,0)), int(np.round(H/d,0))\n",
    "\n",
    "z1 = np.linspace(0.001, 0.99*H, Nz)\n",
    "x1 = np.ones_like(z1)*-0.0001\n",
    "\n",
    "x2 = np.linspace(0.0,xMax,Nx)\n",
    "z2 = np.ones_like(x2)*H\n",
    "\n",
    "x = np.append(x1,x2)\n",
    "z = np.append(z1,z2)\n",
    "\n",
    "y = np.ones_like(x)*yLoc\n",
    "\n",
    "pts = np.column_stack((x,y,z))\n",
    "\n",
    "print(f\"Num in x: {Nx}, Num in z: {Nz}, Total: {Nx+Nz}\")\n",
    "\n",
    "# foam.writeProbeDict(file,pts,overwrite=overwrite,fields=['p'])"
   ]
  }
 ],
 "metadata": {
  "kernelspec": {
   "display_name": "Python 3.8.8 ('base')",
   "language": "python",
   "name": "python3"
  },
  "language_info": {
   "codemirror_mode": {
    "name": "ipython",
    "version": 3
   },
   "file_extension": ".py",
   "mimetype": "text/x-python",
   "name": "python",
   "nbconvert_exporter": "python",
   "pygments_lexer": "ipython3",
   "version": "3.8.8"
  },
  "vscode": {
   "interpreter": {
    "hash": "a101310663fe7ba3133d191ee0beb8e8ff0a9e31c81b0bc47e021bdd8a76f1c3"
   }
  }
 },
 "nbformat": 4,
 "nbformat_minor": 5
}
