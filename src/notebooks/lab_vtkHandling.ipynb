{
 "cells": [
  {
   "cell_type": "code",
   "execution_count": 1,
   "metadata": {},
   "outputs": [],
   "source": [
    "# turn auto reload on\n",
    "%load_ext autoreload\n",
    "%autoreload 2"
   ]
  },
  {
   "cell_type": "code",
   "execution_count": 2,
   "metadata": {},
   "outputs": [],
   "source": [
    "import numpy as np\n",
    "import matplotlib.pyplot as plt\n",
    "\n",
    "import wind\n",
    "import windOF as foam"
   ]
  },
  {
   "cell_type": "code",
   "execution_count": 3,
   "metadata": {},
   "outputs": [],
   "source": [
    "dataDir = r'D:/tempData_depot/simData_FFS/FFS_ABL_01_old/postProcessing/temp/sub'\n",
    "velDataDir = r'D:/tempData_depot/simData_FFS/FFS_ABL_01_old/postProcessing/sectionCuts_U/sub'\n",
    "vtkFile = dataDir + 'p_step_11964.vtk'"
   ]
  },
  {
   "cell_type": "code",
   "execution_count": 4,
   "metadata": {},
   "outputs": [],
   "source": [
    "z1 = np.linspace(0, 0.08, 100)\n",
    "x = np.full_like(z1, 0.0)\n",
    "y = np.full_like(z1, 0.0)\n",
    "\n",
    "x2 = np.linspace(0, 1.6, 1000)\n",
    "x = np.append(x, x2)\n",
    "y = np.append(y, np.full_like(x2, 0))\n",
    "z = np.append(z1, np.full_like(x2, 0.08))\n",
    "query_points = np.column_stack([x, y, z])\n",
    "\n",
    "z1 = np.linspace(0, 0.1, 100)\n",
    "x = np.full_like(z1, -0.04)\n",
    "y = np.full_like(z1, 0.0)\n",
    "\n",
    "x2 = np.linspace(-0.04, 1.6, 1000)\n",
    "x = np.append(x, x2)\n",
    "y = np.append(y, np.full_like(x2, 0))\n",
    "z = np.append(z1, np.full_like(x2, 0.1))\n",
    "query_points_vel = np.column_stack([x, y, z])\n",
    "\n",
    "# field_at_points, dist = foam.extractDataAtPoints(vtkFile, query_points, 'p', returnDist=True, distanceTolerance=0.001)\n",
    "\n"
   ]
  },
  {
   "cell_type": "code",
   "execution_count": 5,
   "metadata": {},
   "outputs": [
    {
     "name": "stdout",
     "output_type": "stream",
     "text": [
      "3.8.8 (default, Apr 13 2021, 15:08:03) [MSC v.1916 64 bit (AMD64)]\n"
     ]
    }
   ],
   "source": [
    "# check the python version in this notebook\n",
    "import sys\n",
    "print(sys.version)\n",
    "\n",
    "# install sklearn for python\n",
    "# \n"
   ]
  },
  {
   "cell_type": "code",
   "execution_count": 22,
   "metadata": {},
   "outputs": [
    {
     "name": "stdout",
     "output_type": "stream",
     "text": [
      "Extracting field 'U' from 32 files in the directory: D:/tempData_depot/simData_FFS/FFS_ABL_01_old/postProcessing/sectionCuts_U/sub\n",
      "    File prefix: U_yNorm_\n",
      "    File suffix: \n",
      "    File extension: .vtk\n",
      "    No. of query points: 1100\n",
      "    No. of files: 32\n",
      "    Time multiplier: 0.0001\n",
      "\n",
      "  Extracting data at points\n",
      "\n",
      "  Collecting the data into pandas.DataFrame\n",
      "\n",
      "  Writing the data to file\n",
      "    D:/tempData_depot/simData_FFS/FFS_ABL_01_old/postProcessing\\CL_vel_U_yNorm__UofT_5.657_5.6632.csv\n",
      "    D:/tempData_depot/simData_FFS/FFS_ABL_01_old/postProcessing\\CL_vel_U_yNorm__VofT_5.657_5.6632.csv\n",
      "    D:/tempData_depot/simData_FFS/FFS_ABL_01_old/postProcessing\\CL_vel_U_yNorm__WofT_5.657_5.6632.csv\n",
      " Time elapsed: 10.8 s\n"
     ]
    }
   ],
   "source": [
    "# data = foam.extractDataAtPoints(vtkDir=dataDir, query_points=query_points, fieldName='p', filePrefix='p_step_', timeMultiplier=0.0001, showLog=True, num_processors=1, \n",
    "#                                 kwargs_extSingle={'distanceTolerance':1e-3}, outputDir=r'D:/tempData_depot/simData_FFS/FFS_ABL_01_old/postProcessing', numOfSplitWriteFiles=3,\n",
    "#                                 outFilePrefix='CL_SurfP_')\n",
    "vel = foam.extractDataAtPoints(vtkDir=velDataDir, query_points=query_points_vel, fieldName='U', filePrefix='U_yNorm_', timeMultiplier=0.0001, showLog=True, num_processors=4,\n",
    "                                kwargs_extSingle={'distanceTolerance':1e-3}, outputDir=r'D:/tempData_depot/simData_FFS/FFS_ABL_01_old/postProcessing', numOfSplitWriteFiles=1,\n",
    "                                outFilePrefix='CL_vel_')"
   ]
  },
  {
   "cell_type": "code",
   "execution_count": null,
   "metadata": {},
   "outputs": [],
   "source": [
    "print(data)"
   ]
  },
  {
   "cell_type": "code",
   "execution_count": null,
   "metadata": {},
   "outputs": [],
   "source": [
    "print(data)"
   ]
  }
 ],
 "metadata": {
  "kernelspec": {
   "display_name": "base",
   "language": "python",
   "name": "python3"
  },
  "language_info": {
   "codemirror_mode": {
    "name": "ipython",
    "version": 3
   },
   "file_extension": ".py",
   "mimetype": "text/x-python",
   "name": "python",
   "nbconvert_exporter": "python",
   "pygments_lexer": "ipython3",
   "version": "3.8.8"
  }
 },
 "nbformat": 4,
 "nbformat_minor": 2
}
