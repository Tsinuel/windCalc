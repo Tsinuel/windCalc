{
 "cells": [
  {
   "attachments": {},
   "cell_type": "markdown",
   "id": "1676f36d",
   "metadata": {},
   "source": [
    "# Extract tap data from building surface time history in VTK format\n",
    "The procedure involves the following\n",
    "1. Collect all the VTK files from their individual OpenFOAM time history folders into one folder with increasing index --- [this workbook]\n",
    "2. Convert the pressure time history from .VTK to .CSV and save the time history in individual files and one points file --- [ParaView]\n",
    "3. Map the data to the tap locations --- [this workbook]"
   ]
  },
  {
   "cell_type": "code",
   "execution_count": 68,
   "metadata": {},
   "outputs": [],
   "source": [
    "import numpy as np\n",
    "import os\n",
    "import sys\n",
    "import warnings\n",
    "import pandas as pd\n",
    "\n",
    "import wind\n",
    "import foam\n",
    "import windIO\n"
   ]
  },
  {
   "attachments": {},
   "cell_type": "markdown",
   "id": "f5252c5f",
   "metadata": {},
   "source": [
    "Only edit the following box"
   ]
  },
  {
   "cell_type": "code",
   "execution_count": 69,
   "id": "c8df96c4",
   "metadata": {},
   "outputs": [
    {
     "name": "stdout",
     "output_type": "stream",
     "text": [
      "AoA = 90 deg\n"
     ]
    }
   ],
   "source": [
    "collectVTK = False\n",
    "mapToTap = False\n",
    "\n",
    "# 'ttuE010_000.0', 'ttuE010_450.2', 'ttuE010_900.1', 'ttuE087_000.0', 'ttuE087_450.2', 'ttuE087_900.0'\n",
    "caseName = 'ttuE087_900.0'\n",
    "\n",
    "caseDir = r\"D:/tempData_depot/simData_CandC/\"+ caseName\n",
    "vtkDir = r\"I:/backup/graham/gra_20_12_13/fmGlbl/final/\"+ caseName + r\"/postProcessing/wallPressure\"\n",
    "vtkOutDir = caseDir + r\"/postProcessing/wallPressure_VTK\"\n",
    "vtkName = 'p_building.vtk'\n",
    "fldName = 'p'\n",
    "\n",
    "if caseName in ['ttuE010_000.0', 'ttuE087_000.0']:\n",
    "    tapCoordFile = r'D:/tempData_depot/simData_CandC/tapCoords3D_0deg.csv'\n",
    "    print('AoA = 0 deg')\n",
    "elif caseName in ['ttuE010_450.2', 'ttuE087_450.2']:\n",
    "    tapCoordFile = r'D:/tempData_depot/simData_CandC/tapCoords3D_45deg.csv'\n",
    "    print('AoA = 45 deg')\n",
    "elif caseName in ['ttuE010_900.1', 'ttuE087_900.0']:\n",
    "    tapCoordFile = r'D:/tempData_depot/simData_CandC/tapCoords3D_90deg.csv'\n",
    "    print('AoA = 90 deg')\n"
   ]
  },
  {
   "cell_type": "code",
   "execution_count": 70,
   "id": "b2453105",
   "metadata": {},
   "outputs": [],
   "source": [
    "# timesStr = os.listdir(vtkDir)\n",
    "# times = np.sort(np.asarray(timesStr,dtype=float))\n",
    "# timesFile = caseDir + r\"/postProcessing/wallPressure_times.npy\"\n",
    "# np.save(timesFile,times)"
   ]
  },
  {
   "attachments": {},
   "cell_type": "markdown",
   "id": "9235bfcb",
   "metadata": {},
   "source": [
    "## Collect VTK files into one directory"
   ]
  },
  {
   "cell_type": "code",
   "execution_count": 71,
   "id": "4d5e8cd5",
   "metadata": {},
   "outputs": [],
   "source": [
    "if collectVTK:\n",
    "    import shutil\n",
    "    os.makedirs(vtkOutDir, exist_ok=True)\n",
    "\n",
    "    vtkTimes = os.listdir(vtkDir)\n",
    "    vtkTimesNum = np.asarray(vtkTimes,dtype=float)\n",
    "    vtkTimesSorted = sorted(zip(vtkTimesNum,vtkTimes),key=lambda x: x[0])\n",
    "    vtkTimesSorted = list(vtkTimesSorted)\n",
    "\n",
    "    for v in vtkTimesSorted:\n",
    "        srcFile = vtkDir+'/'+v[1]+'/'+vtkName\n",
    "        newName = fldName+'_'+str(int(round(v[0]*10000,4))).zfill(7)+'.vtk'\n",
    "        destFile = vtkOutDir+'/'+newName\n",
    "        if os.path.isfile(destFile):\n",
    "            continue\n",
    "        try:\n",
    "            shutil.copy(srcFile,destFile)\n",
    "            print(srcFile+'-->'+newName)\n",
    "        except:\n",
    "            print('ERROR! Skipping '+srcFile)"
   ]
  },
  {
   "attachments": {},
   "cell_type": "markdown",
   "id": "c9834cb7",
   "metadata": {},
   "source": [
    "## Map $p$ to tap locations"
   ]
  },
  {
   "cell_type": "code",
   "execution_count": 72,
   "id": "7acc3a3b",
   "metadata": {},
   "outputs": [],
   "source": [
    "if mapToTap:\n",
    "    tapCoords = pd.read_csv(tapCoordFile)\n",
    "    tapCoords = tapCoords[['x','y','z']].to_numpy()\n",
    "\n",
    "    wallPressure_CSV_Dir = caseDir + r\"/postProcessing/wallPressure_CSV\"\n",
    "\n",
    "    p,newPts,distance = windIO.extractTapDataFromCSV(wallPressure_CSV_Dir,tapCoords,writeToFile=False,showLog=True)\n",
    "    print(f\"Point distance\\t\\t Avg.:{np.mean(distance)}\\tMax:{np.max(distance)}\")\n",
    "    print(f\"Shape of p: {p.shape}\")\n",
    "\n",
    "    outFile = caseDir + r\"/postProcessing/wallPressure_pOfT_TNGtaps.npy\"\n",
    "    np.save(outFile, p)\n"
   ]
  },
  {
   "attachments": {},
   "cell_type": "markdown",
   "id": "6fe47c6c",
   "metadata": {},
   "source": [
    "## Merge separately extracted .csv files from paraview"
   ]
  },
  {
   "cell_type": "code",
   "execution_count": 73,
   "id": "36670232",
   "metadata": {},
   "outputs": [],
   "source": [
    "# start = 5086\n",
    "# dirr = r'D:/tempData_depot/simData_CandC/ttuE087_000.0/postProcessing/wallPressure_CSV/temp_CSV/'\n",
    "# files = [filename for filename in os.listdir(dirr) if filename.startswith(\"p_\")]\n",
    "# numOrig = [int(filename.split('_')[1].split('.')[0])+start for filename in os.listdir(dirr) if filename.startswith(\"p_\")]\n",
    "# for file,id in zip(files,numOrig):\n",
    "#     os.rename(dirr+file, dirr+'p_'+str(id)+'.csv')\n",
    "# print(files)"
   ]
  },
  {
   "cell_type": "code",
   "execution_count": null,
   "id": "1af79af7",
   "metadata": {},
   "outputs": [],
   "source": []
  }
 ],
 "metadata": {
  "kernelspec": {
   "display_name": "Python 3.8.8 ('base')",
   "language": "python",
   "name": "python3"
  },
  "language_info": {
   "codemirror_mode": {
    "name": "ipython",
    "version": 3
   },
   "file_extension": ".py",
   "mimetype": "text/x-python",
   "name": "python",
   "nbconvert_exporter": "python",
   "pygments_lexer": "ipython3",
   "version": "3.8.8"
  },
  "vscode": {
   "interpreter": {
    "hash": "ad2bdc8ecc057115af97d19610ffacc2b4e99fae6737bb82f5d7fb13d2f2c186"
   }
  }
 },
 "nbformat": 4,
 "nbformat_minor": 5
}
