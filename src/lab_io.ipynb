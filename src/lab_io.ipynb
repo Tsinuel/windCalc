{
 "cells": [
  {
   "cell_type": "code",
   "execution_count": 1,
   "metadata": {},
   "outputs": [],
   "source": [
    "import numpy as np\n",
    "import os\n",
    "import sys\n",
    "import warnings\n",
    "import pandas as pd\n",
    "import matplotlib.cm as cm\n",
    "from scipy.interpolate import griddata\n",
    "from scipy.spatial import KDTree\n",
    "import scipy.interpolate as scintrp\n",
    "import matplotlib.pyplot as plt\n",
    "\n",
    "from matplotlib.backends.backend_pdf import PdfPages\n",
    "from scipy.signal import savgol_filter as smooth\n",
    "\n",
    "from multiprocessing import Pool\n",
    "\n",
    "# import vtk\n",
    "import vtkmodules.all as vtk\n",
    "from vtk.util.numpy_support import vtk_to_numpy\n",
    "\n",
    "import wind\n",
    "import foam\n",
    "import wio\n"
   ]
  },
  {
   "cell_type": "code",
   "execution_count": 2,
   "id": "852c9e68",
   "metadata": {},
   "outputs": [
    {
     "name": "stdout",
     "output_type": "stream",
     "text": [
      "10673\n"
     ]
    }
   ],
   "source": [
    "# vtkDir = r'..\\data\\ttuMSfl0450.0\\postProcessing\\wallPressure'\n",
    "\n",
    "vtkDir = r'I:\\backup\\graham\\gra_20_12_13\\fmGlbl\\final\\ttuE010_450.2\\postProcessing\\wallPressure'\n",
    "vtkTimes = os.listdir(vtkDir)\n",
    "vtkName = 'p_building.vtk'\n",
    "file = r'D:\\OneDrive - The University of Western Ontario\\Documents\\PhD\\Thesis\\CFD_simulations\\2022_08_TTU_WL_LES\\OF_inputFiles\\45deg\\WTtaps_45deg.csv'\n",
    "\n",
    "tapCoords = pd.read_csv(file)\n",
    "print(len(vtkTimes))"
   ]
  },
  {
   "cell_type": "code",
   "execution_count": 5,
   "id": "90c16e74",
   "metadata": {},
   "outputs": [
    {
     "name": "stdout",
     "output_type": "stream",
     "text": [
      "I:\\backup\\graham\\gra_20_12_13\\fmGlbl\\final\\ttuE010_450.2\\postProcessing\\wallPressure/0.0066/p_building.vtk\n",
      "(456, 1)\n",
      "(456, 1)\n",
      "I:\\backup\\graham\\gra_20_12_13\\fmGlbl\\final\\ttuE010_450.2\\postProcessing\\wallPressure/0.0099/p_building.vtk\n",
      "(456, 1)\n",
      "(456, 2)\n",
      "I:\\backup\\graham\\gra_20_12_13\\fmGlbl\\final\\ttuE010_450.2\\postProcessing\\wallPressure/0.0132/p_building.vtk\n",
      "(456, 1)\n",
      "(456, 3)\n",
      "I:\\backup\\graham\\gra_20_12_13\\fmGlbl\\final\\ttuE010_450.2\\postProcessing\\wallPressure/0.0165/p_building.vtk\n",
      "(456, 1)\n",
      "(456, 4)\n",
      "(456, 1)\n"
     ]
    }
   ],
   "source": [
    "first = True\n",
    "for vtk_i in vtkTimes[1:5]:\n",
    "    vtkFile = vtkDir+'/'+vtk_i+'/'+vtkName\n",
    "    p = wio.extractTapDataFromVTK(vtkFile=vtkFile,tapCoords=tapCoords.to_numpy()[:,1:])\n",
    "    print(np.shape(p))\n",
    "    if first:\n",
    "        p_tap = np.reshape(p,[-1,1])\n",
    "        print(np.shape(p_tap))\n",
    "        first = False\n",
    "    else:\n",
    "        p_tap = np.concatenate((p_tap, np.reshape(p,[-1,1])), axis=1)\n",
    "        print(np.shape(p_tap))\n",
    "\n",
    "print(np.shape(p_tap))"
   ]
  },
  {
   "cell_type": "code",
   "execution_count": null,
   "id": "0aebbe16",
   "metadata": {},
   "outputs": [],
   "source": [
    "# first = True\n",
    "# for vtk_i in vtkTimes[1:5]:\n",
    "#    vtkFile = vtkDir+'/'+vtk_i+'/'+vtkName\n",
    "#    print(vtkFile)\n",
    "#    reader = vtk.vtkPolyDataReader()\n",
    "#    reader.SetFileName(vtkFile)\n",
    "#    reader.ReadAllFieldsOn()\n",
    "#    reader.Update()\n",
    "#    polydata = reader.GetOutput()\n",
    "   \n",
    "#    if first:\n",
    "#       nCells = polydata.GetNumberOfCells()\n",
    "#       cellCenters = np.empty([nCells,3])\n",
    "#       cells = KDTree(cellCenters)\n",
    "#       dd,ii = cells.query(tapCoords.to_numpy()[:,1:])\n",
    "      \n",
    "\n",
    "#    for i in range(nCells):\n",
    "#       pts = polydata.GetCell(i).GetPoints()    \n",
    "#       cell_i_vrtx = np.array([pts.GetPoint(i) for i in range(pts.GetNumberOfPoints())])\n",
    "#       cellCenters[i,:] = np.mean(cell_i_vrtx,axis=0)\n",
    "\n",
    "#    p = vtk_to_numpy(polydata.GetCellData().GetArray(0))\n",
    "\n",
    "#    if first:\n",
    "#       p_tap = np.reshape(p[ii],[-1,1])\n",
    "#       first = False\n",
    "#    else:\n",
    "#       p_tap = np.concatenate((p_tap, np.reshape(p[ii],[-1,1])), axis=1)\n",
    "\n",
    "\n"
   ]
  },
  {
   "cell_type": "code",
   "execution_count": 7,
   "id": "5146ab3a",
   "metadata": {},
   "outputs": [
    {
     "data": {
      "text/plain": [
       "[<matplotlib.lines.Line2D at 0x2305960e760>]"
      ]
     },
     "execution_count": 7,
     "metadata": {},
     "output_type": "execute_result"
    },
    {
     "data": {
      "image/png": "[encoded data removed]",
      "text/plain": [
       "<Figure size 432x288 with 1 Axes>"
      ]
     },
     "metadata": {
      "needs_background": "light"
     },
     "output_type": "display_data"
    }
   ],
   "source": [
    "# time = np.array(vtkTimes[1:5],dtype=float)\n",
    "# idx = np.argsort(time)\n",
    "\n",
    "# print(np.shape(time))\n",
    "\n",
    "# p_sorted = p_tap[:,idx]\n",
    "# print(np.shape(p_sorted))\n",
    "\n",
    "# caseDir = r'D:\\tempData_depot\\simData_CandC\\ttuE010_450.2/'\n",
    "\n",
    "\n",
    "# # file = caseDir+r'postProcessing/resampledToTNGwindTunnel.npy'\n",
    "# # p_sorted = np.load(file)\n",
    "\n",
    "plt.figure()\n",
    "plt.plot(p_tap[150,:])\n",
    "plt.plot(p_tap[11,:])"
   ]
  },
  {
   "cell_type": "code",
   "execution_count": null,
   "id": "a53f22f6",
   "metadata": {},
   "outputs": [],
   "source": [
    "mainProf = foam.processVelProfile(caseDir=caseDir,probeName='probes.V1',name='ttuE010_450.2',H=0.08)\n",
    "pts,t,p0Prof = foam.readProbe(probeName='probes.V0',postProcDir=caseDir+'postProcessing/',field=\"p\")"
   ]
  },
  {
   "cell_type": "code",
   "execution_count": null,
   "id": "2454f7ec",
   "metadata": {},
   "outputs": [],
   "source": [
    "print(np.shape(p0Prof))\n"
   ]
  },
  {
   "cell_type": "code",
   "execution_count": null,
   "id": "65709aa7",
   "metadata": {},
   "outputs": [],
   "source": [
    "ttubldg = wind.building(H=0.08,tapCoord3D=tapCoords)\n",
    "p0Idx = 27\n",
    "cp = wind.Cp(name='tngE1_45deg_LES',\n",
    "                    bldg=ttubldg,\n",
    "                    refProfile=mainProf,\n",
    "                    pOfT=p_sorted[:,500:],\n",
    "                    p0ofT=p0Prof[500:-1,p0Idx])"
   ]
  },
  {
   "cell_type": "code",
   "execution_count": null,
   "id": "a594421b",
   "metadata": {},
   "outputs": [],
   "source": [
    "pDyn = 0.5*cp.airDensity*cp.refProfile.Uh**2\n",
    "print(cp.refProfile.Uh)\n",
    "print(pDyn)\n",
    "CpOfT = p_sorted*0.0\n",
    "for i in range(np.shape(p_sorted)[0]):\n",
    "    CpOfT[i,:] = np.divide(np.subtract(p_sorted[i,:], p0Prof[:-1,p0Idx]),\n",
    "                            pDyn)\n",
    "\n",
    "\n",
    "\n",
    "plt.figure()\n",
    "plt.plot(p_sorted[50,:])\n",
    "plt.plot(p_sorted[55,:])\n",
    "\n",
    "# print(cp.Uh)\n",
    "# print(np.shape(cp.CpOfT))\n",
    "# print(np.mean((cp.pOfT[50,:])))\n",
    "# print(np.mean((cp.pOfT[150,:])))\n",
    "# print(np.mean((cp.pOfT[250,:])))\n",
    "# plt.plot(cp.CpOfT[150,:],'.k')\n",
    "# plt.figure()\n",
    "# plt.plot(cp.CpMean,'.k')"
   ]
  },
  {
   "cell_type": "code",
   "execution_count": null,
   "id": "05391801",
   "metadata": {},
   "outputs": [],
   "source": [
    "# from pathlib import Path\n",
    "\n",
    "# from vtkmodules.vtkIOGeometry import (\n",
    "#     vtkBYUReader,\n",
    "#     vtkOBJReader,\n",
    "#     vtkSTLReader\n",
    "# )\n",
    "# from vtkmodules.vtkIOLegacy import vtkPolyDataReader\n",
    "# from vtkmodules.vtkIOPLY import vtkPLYReader\n",
    "# from vtkmodules.vtkIOXML import vtkXMLPolyDataReader\n",
    "\n",
    "\n",
    "# def ReadPolyData(file_name):\n",
    "#     valid_suffixes = ['.g', '.obj', '.stl', '.ply', '.vtk', '.vtp']\n",
    "#     path = Path(file_name)\n",
    "#     if path.suffix:\n",
    "#         ext = path.suffix.lower()\n",
    "#     if path.suffix not in valid_suffixes:\n",
    "#         print(f'No reader for this file suffix: {ext}')\n",
    "#         return None\n",
    "#     else:\n",
    "#         if ext == \".ply\":\n",
    "#             reader = vtkPLYReader()\n",
    "#             reader.SetFileName(file_name)\n",
    "#             reader.Update()\n",
    "#             poly_data = reader.GetOutput()\n",
    "#         elif ext == \".vtp\":\n",
    "#             reader = vtkXMLPolyDataReader()\n",
    "#             reader.SetFileName(file_name)\n",
    "#             reader.Update()\n",
    "#             poly_data = reader.GetOutput()\n",
    "#         elif ext == \".obj\":\n",
    "#             reader = vtkOBJReader()\n",
    "#             reader.SetFileName(file_name)\n",
    "#             reader.Update()\n",
    "#             poly_data = reader.GetOutput()\n",
    "#         elif ext == \".stl\":\n",
    "#             reader = vtkSTLReader()\n",
    "#             reader.SetFileName(file_name)\n",
    "#             reader.Update()\n",
    "#             poly_data = reader.GetOutput()\n",
    "#         elif ext == \".vtk\":\n",
    "#             reader = vtkPolyDataReader()\n",
    "#             reader.SetFileName(file_name)\n",
    "#             reader.Update()\n",
    "#             poly_data = reader.GetOutput()\n",
    "#         elif ext == \".g\":\n",
    "#             reader = vtkBYUReader()\n",
    "#             reader.SetGeometryFileName(file_name)\n",
    "#             reader.Update()\n",
    "#             poly_data = reader.GetOutput()\n",
    "\n",
    "#         return poly_data\n"
   ]
  },
  {
   "cell_type": "code",
   "execution_count": null,
   "id": "a7a9bbb4",
   "metadata": {},
   "outputs": [],
   "source": [
    "# pdt = ReadPolyData(vtkFile)\n",
    "\n"
   ]
  },
  {
   "cell_type": "code",
   "execution_count": null,
   "id": "a38cd63c",
   "metadata": {},
   "outputs": [],
   "source": [
    "# import matplotlib.pyplot as plt\n",
    "\n",
    "# import numpy as np\n",
    "# import vtk\n",
    "# from vtk.util.numpy_support import vtk_to_numpy\n",
    "\n",
    "# # load a vtk file as input\n",
    "# reader = vtk.vtkXMLUnstructuredGridReader()\n",
    "# reader.SetFileName(\"my_input_data.vtk\")\n",
    "# reader.Update()\n",
    "\n",
    "# # Get the coordinates of nodes in the mesh\n",
    "# nodes_vtk_array= reader.GetOutput().GetPoints().GetData()\n",
    "\n",
    "# #The \"Temperature\" field is the third scalar in my vtk file\n",
    "# temperature_vtk_array = reader.GetOutput().GetPointData().GetArray(3)\n",
    "\n",
    "# #Get the coordinates of the nodes and their temperatures\n",
    "# nodes_nummpy_array = vtk_to_numpy(nodes_vtk_array)\n",
    "# x,y,z= nodes_nummpy_array[:,0] , nodes_nummpy_array[:,1] , nodes_nummpy_array[:,2]\n",
    "\n",
    "# temperature_numpy_array = vtk_to_numpy(temperature_vtk_array)\n",
    "# T = temperature_numpy_array\n",
    "\n",
    "# #Draw contours\n",
    "# npts = 100\n",
    "# xmin, xmax = min(x), max(x)\n",
    "# ymin, ymax = min(y), max(y)\n",
    "\n",
    "# # define grid\n",
    "# xi = np.linspace(xmin, xmax, npts)\n",
    "# yi = np.linspace(ymin, ymax, npts)\n",
    "# # grid the data\n",
    "# Ti = griddata((x, y), T, (xi[None,:], yi[:,None]), method='cubic')  \n",
    "\n",
    "# ## CONTOUR: draws the boundaries of the isosurfaces\n",
    "# CS = plt.contour(xi,yi,Ti,10,linewidths=3,cmap=cm.jet) \n",
    "\n",
    "# ## CONTOUR ANNOTATION: puts a value label\n",
    "# plt.clabel(CS, inline=1,inline_spacing= 3, fontsize=12, colors='k', use_clabeltext=1)\n",
    "\n",
    "# plt.colorbar() \n",
    "# plt.show() "
   ]
  },
  {
   "cell_type": "code",
   "execution_count": null,
   "id": "ff715c90",
   "metadata": {},
   "outputs": [],
   "source": [
    "# from tvtk.api import tvtk\n",
    "# reader = tvtk.GenericDataObjectReader()\n",
    "# reader.file_name = vtkFile\n",
    "# # reader.read_all_scalars()\n",
    "# reader.read_cells(1)\n",
    "# reader.update()\n",
    "# ug = reader.output\n",
    "\n"
   ]
  },
  {
   "cell_type": "code",
   "execution_count": null,
   "id": "ee5f5823",
   "metadata": {},
   "outputs": [],
   "source": [
    "# pts = ug.points.data.to_array()\n",
    "# cells = ug.get_cell\n",
    "# p = ug.cell_data.vectors\n",
    "# # print(pts)\n",
    "# print(np.shape(cells))\n",
    "\n"
   ]
  }
 ],
 "metadata": {
  "kernelspec": {
   "display_name": "Python 3.8.8 ('base')",
   "language": "python",
   "name": "python3"
  },
  "language_info": {
   "codemirror_mode": {
    "name": "ipython",
    "version": 3
   },
   "file_extension": ".py",
   "mimetype": "text/x-python",
   "name": "python",
   "nbconvert_exporter": "python",
   "pygments_lexer": "ipython3",
   "version": "3.8.8"
  },
  "vscode": {
   "interpreter": {
    "hash": "ad2bdc8ecc057115af97d19610ffacc2b4e99fae6737bb82f5d7fb13d2f2c186"
   }
  }
 },
 "nbformat": 4,
 "nbformat_minor": 5
}
