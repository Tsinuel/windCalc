{
 "cells": [
  {
   "cell_type": "code",
   "execution_count": 1,
   "metadata": {},
   "outputs": [],
   "source": [
    "import numpy as np\n",
    "import os\n",
    "import warnings\n",
    "import pandas as pd\n",
    "import scipy.interpolate as scintrp\n",
    "import matplotlib.pyplot as plt\n",
    "from matplotlib.backends.backend_pdf import PdfPages\n",
    "from scipy.signal import savgol_filter as smooth\n",
    "\n",
    "# import sys\n",
    "# sys.path.append(r'D:/OneDrive - The University of Western Ontario/Documents/PhD/Thesis/CodeRepositories/windCalc/src')\n",
    "import foamDataHandler as foam\n",
    "import windLoadCaseProcessors as wProc\n",
    "import windPlotters as wPlt\n",
    "import windBasics as wind\n"
   ]
  },
  {
   "cell_type": "code",
   "execution_count": 2,
   "id": "5003a4cd",
   "metadata": {},
   "outputs": [
    {
     "data": {
      "text/plain": [
       "[<matplotlib.lines.Line2D at 0x21c4aa3bb80>]"
      ]
     },
     "execution_count": 2,
     "metadata": {},
     "output_type": "execute_result"
    },
    {
     "data": {
      "image/png": "[encoded data removed]",
      "text/plain": [
       "<Figure size 432x288 with 1 Axes>"
      ]
     },
     "metadata": {
      "needs_background": "light"
     },
     "output_type": "display_data"
    },
    {
     "data": {
      "image/png": "[encoded data removed]",
      "text/plain": [
       "<Figure size 432x288 with 1 Axes>"
      ]
     },
     "metadata": {
      "needs_background": "light"
     },
     "output_type": "display_data"
    }
   ],
   "source": [
    "es = wind.ESDU85(z0=0.3,Uref=15)\n",
    "# print(es.xLu())\n",
    "nn = np.logspace(-3,1,100)\n",
    "n, Svv = es.Svv(n=nn)\n",
    "rf, rSvv = es.rSvv(n=nn)\n",
    "\n",
    "\n",
    "plt.figure()\n",
    "plt.loglog(n, Svv)\n",
    "\n",
    "plt.figure()\n",
    "plt.loglog(rf, rSvv)\n",
    "\n"
   ]
  },
  {
   "cell_type": "markdown",
   "id": "f35411de",
   "metadata": {},
   "source": [
    "# Inflow scaling"
   ]
  },
  {
   "cell_type": "code",
   "execution_count": null,
   "id": "95e41dc9",
   "metadata": {},
   "outputs": [],
   "source": [
    "caseDir = \"D:/tempData_depot/simData_CandC/tngE2/\"\n",
    "wtFile = caseDir+\"tngE2Fr1_profile.csv\"\n",
    "vwtOrigFile = caseDir+\"vwtO15orig.csv\"\n",
    "\n",
    "H = 0.08\n",
    "\n",
    "target = wind.profile(name=\"BLWT\",fileName=wtFile,H=H)\n",
    "# vwtOrig = wind.profile(name=\"VWT_orig\",fileName=vwtOrigFile,H=H)\n",
    "\n",
    "# profs = wind.Profiles((target,vwtOrig))\n",
    "# profs.plotProfiles(\n",
    "#                     figSize=[15,5],\n",
    "#                     normalize=False,\n",
    "#                     xLimits=[[0,20],[0,0.4],[0,0.35],[0,0.15]],\n",
    "#                     zLimits=[0,2.3])\n",
    "\n"
   ]
  },
  {
   "cell_type": "code",
   "execution_count": null,
   "id": "7b490ce8",
   "metadata": {},
   "outputs": [],
   "source": [
    "dt = 3.7890e-04\n",
    "\n",
    "file = caseDir+\"tngE2Fr1_TH-UofT.csv\"\n",
    "U_TH = np.transpose((pd.read_csv(file)).to_numpy())\n",
    "file = caseDir+\"tngE2Fr1_TH-VofT.csv\"\n",
    "V_TH = np.transpose((pd.read_csv(file)).to_numpy())\n",
    "file = caseDir+\"tngE2Fr1_TH-WofT.csv\"\n",
    "W_TH = np.transpose((pd.read_csv(file)).to_numpy())\n",
    "\n",
    "\n"
   ]
  },
  {
   "cell_type": "code",
   "execution_count": null,
   "id": "eff19239",
   "metadata": {},
   "outputs": [],
   "source": [
    "target = wind.profile(name=\"BLWT-E2\", Z=target.Z,UofT=U_TH,VofT=V_TH,WofT=W_TH,H=H,dt=dt,nSpectAvg=64)\n",
    "\n"
   ]
  },
  {
   "cell_type": "code",
   "execution_count": null,
   "id": "21c154ca",
   "metadata": {},
   "outputs": [],
   "source": [
    "# vwtOrig = foam.processVelProfile(\n",
    "#                         caseDir='D:/tempData_depot/simData_CandC/ttuPSpcOP15.7', \n",
    "#                         probeName='probes.x0y0', \n",
    "#                         name='VWTorig',\n",
    "#                         targetProfile=None,\n",
    "#                         normalize=True,\n",
    "#                         H=H,\n",
    "#                         writeToDataFile=True,\n",
    "#                         trimTimeSegs=[[0,0.5]],\n",
    "#                         showPlots=True,\n",
    "#                         exportPlots=True)[0]\n",
    "\n",
    "# vwtOrig.nSpectAvg = 64\n",
    "# vwtOrig.reAnalyze()"
   ]
  },
  {
   "cell_type": "markdown",
   "id": "aeb3fe6a",
   "metadata": {},
   "source": [
    "## Iteration 1"
   ]
  },
  {
   "cell_type": "markdown",
   "id": "e89ec30c",
   "metadata": {},
   "source": [
    "### Calibrate the scaling factors"
   ]
  },
  {
   "cell_type": "code",
   "execution_count": null,
   "id": "8b73370f",
   "metadata": {},
   "outputs": [],
   "source": [
    "# factorFile = caseDir+\"tngE2_infScalingFactor_v0.csv\"\n",
    "# Z = np.sort(np.concatenate((target.Z[2:],vwtOrig.Z[1:-10])))\n",
    "\n",
    "# intrp_U_wt = scintrp.interp1d(target.Z, target.U, fill_value='extrapolate')\n",
    "# intrp_Iu_wt = scintrp.interp1d(target.Z, target.Iu, fill_value='extrapolate')\n",
    "# intrp_Iv_wt = scintrp.interp1d(target.Z, target.Iv, fill_value='extrapolate')\n",
    "# intrp_Iw_wt = scintrp.interp1d(target.Z, target.Iw, fill_value='extrapolate')\n",
    "\n",
    "# intrp_U_vwt = scintrp.interp1d(vwtOrig.Z, vwtOrig.U, fill_value='extrapolate')\n",
    "# intrp_Iu_vwt = scintrp.interp1d(vwtOrig.Z, vwtOrig.Iu, fill_value='extrapolate')\n",
    "# intrp_Iv_vwt = scintrp.interp1d(vwtOrig.Z, vwtOrig.Iv, fill_value='extrapolate')\n",
    "# intrp_Iw_vwt = scintrp.interp1d(vwtOrig.Z, vwtOrig.Iw, fill_value='extrapolate')\n",
    "\n",
    "# fU_0 = smooth(np.divide(intrp_U_wt(Z), intrp_U_vwt(Z)),15,3)\n",
    "# fIu_0 = smooth(np.divide(intrp_Iu_wt(Z), intrp_Iu_vwt(Z)),15,3)\n",
    "# fIv_0 = smooth(np.divide(intrp_Iv_wt(Z), intrp_Iv_vwt(Z)),15,3)\n",
    "# fIw_0 = smooth(np.divide(intrp_Iw_wt(Z), intrp_Iw_vwt(Z)),15,3)\n",
    "\n",
    "# data = pd.DataFrame(np.stack((Z,fU_0,fIu_0,fIv_0,fIw_0),axis=-1),columns=[\"Z\",\"U\",\"Iu\",\"Iv\",\"Iw\"])\n",
    "\n",
    "# # data.to_csv(factorFile,index=False)\n",
    "\n",
    "# plt.figure(figsize=[10,6])\n",
    "# plt.subplot(1,2,1)\n",
    "# plt.plot(fIu_0,Z)\n",
    "\n",
    "# plt.subplot(1,2,2)\n",
    "# plt.plot(intrp_Iu_wt(Z),Z,label=\"BLWT\")\n",
    "# plt.plot(np.multiply(intrp_Iu_vwt(Z),fIu_0),Z,label=\"VWT-scaled\")\n",
    "# plt.legend()\n",
    "# plt.show()"
   ]
  },
  {
   "cell_type": "markdown",
   "id": "e11dede1",
   "metadata": {},
   "source": [
    "### Check scaled inflow data"
   ]
  },
  {
   "cell_type": "code",
   "execution_count": null,
   "id": "d39e038e",
   "metadata": {},
   "outputs": [],
   "source": [
    "bData = \"boundaryData_v1.0\"\n",
    "tRanges = ( (\"0.0\",\"5.0\"),\n",
    "            (\"10.0\",\"15.0\"),\n",
    "            (\"30.0\",\"35.0\"),\n",
    "            (\"15.0\",\"70.0\"),\n",
    "            (\"64.0\",\"65.0\"),\n",
    "            (\"65.0\",\"70.0\"))\n",
    "U = None\n",
    "for t in tRanges:\n",
    "    fileU = caseDir+\"constant/\"+bData+\"/Scaled_\"+t[0]+\"_to_\"+t[1]+\"_U-TH.npy\"\n",
    "    fileV = caseDir+\"constant/\"+bData+\"/Scaled_\"+t[0]+\"_to_\"+t[1]+\"_V-TH.npy\"\n",
    "    fileW = caseDir+\"constant/\"+bData+\"/Scaled_\"+t[0]+\"_to_\"+t[1]+\"_W-TH.npy\"\n",
    "    if U is None:\n",
    "        U = np.load(fileU)\n",
    "        V = np.load(fileV)\n",
    "        W = np.load(fileW)\n",
    "    else:\n",
    "        U = np.concatenate((U,np.load(fileU)),axis=1)\n",
    "        V = np.concatenate((V,np.load(fileV)),axis=1)\n",
    "        W = np.concatenate((W,np.load(fileW)),axis=1)\n",
    "\n",
    "file = caseDir+\"constant/\"+bData+\"/Scaled_\"+tRanges[0][0]+\"_to_\"+tRanges[0][1]+\"_profiles.csv\"\n",
    "prfl = pd.read_csv(file)\n",
    "\n",
    "e = -1 #6500\n",
    "\n",
    "scaled_v1 = wind.profile(name=\"Infl-v1\", Z=prfl.Z,UofT=U[:,0:e],VofT=V[:,0:e],WofT=W[:,0:e],H=H,dt=0.001)\n",
    "\n",
    "profs = wind.Profiles((target,scaled_v1))\n",
    "\n",
    "profs.plotProfiles(\n",
    "                    figSize=[20,6],\n",
    "                    normalize=True,\n",
    "                    xLimits=[[0,2],[0,0.4],[0,0.35],[0,0.15]],\n",
    "                    zLimits=[0,20])\n",
    "\n",
    "# scaled_v1_0.plotTimeHistory(figSize=[20,3],xLimits=[0,8],xLabel='$t^*$',dataLabels=r'$x=\\frac{ax^2}{2y^2}$',figFile=caseDir+\"test.pdf\",alwaysShowFig=True)\n"
   ]
  },
  {
   "cell_type": "markdown",
   "id": "7b95e403",
   "metadata": {},
   "source": [
    "### Check empty domain simulation"
   ]
  },
  {
   "cell_type": "code",
   "execution_count": null,
   "id": "8e9e143b",
   "metadata": {},
   "outputs": [],
   "source": [
    "\n",
    "emtyCD_CaseDir = \"D:/tempData_depot/simData_CandC/tngE2empV0/\"\n",
    "\n",
    "file = emtyCD_CaseDir+\"_processed/tngE2empV0__U-TH.npy\"\n",
    "U = np.load(file)\n",
    "file = emtyCD_CaseDir+\"_processed/tngE2empV0__V-TH.npy\"\n",
    "V = np.load(file)\n",
    "file = emtyCD_CaseDir+\"_processed/tngE2empV0__W-TH.npy\"\n",
    "W = np.load(file)\n",
    "\n",
    "file = emtyCD_CaseDir+\"_processed/tngE2empV0__profiles.csv\"\n",
    "prfl = pd.read_csv(file)\n",
    "\n",
    "LES_E2v0 = wind.profile(name=\"LES-E2v0\", Z=prfl.Z,UofT=U,VofT=V,WofT=W,H=H,dt=0.0002,nSpectAvg=32)\n",
    "\n",
    "# LES_E2v0 = foam.processVelProfile(\n",
    "#                         caseDir='D:/tempData_depot/simData_CandC/tngE2empV0/', \n",
    "#                         probeName='sampler.zProfile_x0y0.probes', \n",
    "#                         name='LES_E2v0',\n",
    "#                         targetProfile=None,\n",
    "#                         normalize=True,\n",
    "#                         H=H,\n",
    "#                         writeToDataFile=True,\n",
    "#                         trimTimeSegs=[[0,0.5]],\n",
    "#                         showPlots=True,\n",
    "#                         exportPlots=True)[0]\n",
    "\n",
    "# LES_E2v1 = foam.processVelProfile(\n",
    "#                         caseDir='D:/tempData_depot/simData_CandC/tngE2empV1/', \n",
    "#                         probeName='sampler.zProfile_x0y0.probes', \n",
    "#                         name='LES_E2v1',\n",
    "#                         targetProfile=None,\n",
    "#                         H=H,\n",
    "#                         normalize=True,\n",
    "#                         writeToDataFile=True,\n",
    "#                         trimTimeSegs=[[0,0.2]],\n",
    "#                         showPlots=True,\n",
    "#                         exportPlots=True)[0]\n",
    "# LES_E2v1.nSpectAvg=16\n",
    "# LES_E2v1.reAnalyze()\n",
    "\n",
    "\n",
    "# profs = wind.Profiles((target,vwtOrig,scaled_v1,LES_E2v1))\n",
    "profs = wind.Profiles((target,LES_E2v0))\n"
   ]
  },
  {
   "cell_type": "code",
   "execution_count": null,
   "id": "64313f30",
   "metadata": {},
   "outputs": [],
   "source": [
    "LES_E2v0.nSpectAvg=64\n",
    "LES_E2v0.reAnalyze()\n",
    "\n",
    "# CDRFGinfl.nSpectAvg=16\n",
    "# CDRFGinfl.reAnalyze()\n",
    "\n",
    "# LES_E2v1.nSpectAvg=16\n",
    "# LES_E2v1.reAnalyze()\n",
    "# profs = wind.Profiles((target,vwtOrig,LES_E2v0))"
   ]
  },
  {
   "cell_type": "code",
   "execution_count": null,
   "id": "42898182",
   "metadata": {},
   "outputs": [],
   "source": [
    "profs.plotProfiles(\n",
    "                    figSize=[20,6],\n",
    "                    normalize=True,\n",
    "                    xLimits=[[0,1.5],[0,0.4],[0,0.3],[0,0.2]],\n",
    "                    zLimits=[0,5])"
   ]
  },
  {
   "cell_type": "code",
   "execution_count": null,
   "id": "8bde44ce",
   "metadata": {},
   "outputs": [],
   "source": [
    "ylim = [1e-5,3e0]\n",
    "profs.plotSpectra(figSize=[20,5],normalize=False,yLimits=(ylim,ylim,ylim))\n",
    "\n",
    "ylim = [1e-4,1e-2] # ylim = [1e-4,0.01] #\n",
    "profs.plotSpectra(figSize=[20,5],normalize=True,xLimits=[1e-3,1e1],yLimits=(ylim,ylim,ylim),plotType='loglog',normU='U',overlayVonK=[True,False])\n",
    "\n",
    "# profs.plotTimeHistory(figSize=[15,6], yLimits=([0,25],[-10,10],[-10,10]),xLimits=[0,180])\n"
   ]
  },
  {
   "cell_type": "code",
   "execution_count": null,
   "id": "2ac23719",
   "metadata": {},
   "outputs": [],
   "source": [
    "# CDRFGinfl = foam.processVelProfile(\n",
    "#                         caseDir='D:/tempData_depot/simData_CandC/ttuE010_900.1/', \n",
    "#                         probeName='probes.V1', \n",
    "#                         name='LES_CDRFG',\n",
    "#                         targetProfile=None,\n",
    "#                         H=H,\n",
    "#                         normalize=True,\n",
    "#                         writeToDataFile=True,\n",
    "#                         trimTimeSegs=[[0,0.5]],\n",
    "#                         showPlots=True,\n",
    "#                         exportPlots=True)[0]"
   ]
  },
  {
   "cell_type": "code",
   "execution_count": null,
   "id": "1a80bd38",
   "metadata": {},
   "outputs": [],
   "source": [
    "ylim = [2e-4,1e-2] # ylim = [1e-4,0.01] #\n",
    "target.SpectH.plotSpectra(figSize=[20,5],normalize=True,xLimits=[1e-3,1e1],plotType='loglog',normU='U',overlayVonK=True)\n",
    "\n",
    "# ylim = [5e-5,2e-3] # ylim = [1e-4,0.01] #\n",
    "# target.SpectH.plotSpectra(figSize=[20,5],normalize=True,xLimits=[1e-3,1e1],yLimits=(ylim,ylim,ylim),plotType='loglog',normU='sigUi')"
   ]
  },
  {
   "cell_type": "markdown",
   "id": "2e4c7aeb",
   "metadata": {},
   "source": [
    "## Iteration 2"
   ]
  },
  {
   "cell_type": "markdown",
   "id": "46c9bf6a",
   "metadata": {},
   "source": [
    "### Re-calibrate the scaling factors"
   ]
  },
  {
   "cell_type": "code",
   "execution_count": null,
   "id": "e09d8131",
   "metadata": {},
   "outputs": [],
   "source": [
    "x = False\n",
    "print(isinstance(x, bool))"
   ]
  },
  {
   "cell_type": "code",
   "execution_count": null,
   "id": "0a67bf04",
   "metadata": {},
   "outputs": [],
   "source": [
    "# plt.figure()\n",
    "# plt.loglog(target.SpectH.rf(), target.SpectH.Suu_vonK(normalized=True))\n",
    "\n",
    "# target.SpectH.plotSpectra(overlayVonK=True)\n",
    "# rf = (target.SpectH.rf(),)\n",
    "rf = (target.SpectH.n,)\n",
    "# rSuu = (np.multiply(target.SpectH.n,target.SpectH.Suu)/(target.SpectH.Iu * target.SpectH.U)**2,)\n",
    "rSuu = (target.SpectH.Suu,)\n",
    "\n",
    "# rf += (target.SpectH.rf(),)\n",
    "rf += (target.SpectH.n,)\n",
    "Suu = wind.vonKarmanSuu(target.SpectH.n,target.SpectH.U,target.SpectH.Iu,target.SpectH.xLu)\n",
    "# rSuu += (np.multiply(target.SpectH.n,Suu)/(target.SpectH.Iu * target.SpectH.U)**2,)\n",
    "rSuu += (Suu,)\n",
    "\n",
    "# rf += (target.SpectH.rf(),)\n",
    "# rSuu += (target.SpectH.Suu_vonK(target.SpectH.n,normalized=True,normU='sigUi'),)\n",
    "\n",
    "plotSpectra(rf,Suu=rSuu,dataLabels=['BLWT','vonK'])\n"
   ]
  }
 ],
 "metadata": {
  "kernelspec": {
   "display_name": "Python 3.8.8 ('base')",
   "language": "python",
   "name": "python3"
  },
  "language_info": {
   "codemirror_mode": {
    "name": "ipython",
    "version": 3
   },
   "file_extension": ".py",
   "mimetype": "text/x-python",
   "name": "python",
   "nbconvert_exporter": "python",
   "pygments_lexer": "ipython3",
   "version": "3.8.8"
  },
  "vscode": {
   "interpreter": {
    "hash": "a101310663fe7ba3133d191ee0beb8e8ff0a9e31c81b0bc47e021bdd8a76f1c3"
   }
  }
 },
 "nbformat": 4,
 "nbformat_minor": 5
}
