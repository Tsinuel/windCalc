{
 "cells": [
  {
   "cell_type": "code",
   "execution_count": 1,
   "id": "a3f35768",
   "metadata": {
    "tags": []
   },
   "outputs": [],
   "source": [
    "import numpy as np\n",
    "import os\n",
    "import pandas as pd\n",
    "import matplotlib.pyplot as plt\n",
    "import json\n",
    "\n",
    "import windIO\n",
    "import wind\n",
    "import windCAD\n",
    "import foam"
   ]
  },
  {
   "attachments": {},
   "cell_type": "markdown",
   "id": "a65acec9",
   "metadata": {},
   "source": [
    "## Building Geometry"
   ]
  },
  {
   "cell_type": "code",
   "execution_count": 2,
   "id": "56bc2dbc",
   "metadata": {
    "tags": []
   },
   "outputs": [],
   "source": [
    "caseDir = r\"D:\\tempData_depot\\simData_CandC\\wt_tngE2/\"\n",
    "\n",
    "tapFile = caseDir+\"tngTapDefinition.csv\"\n",
    "data = pd.read_csv(tapFile)\n",
    "\n",
    "faceID = [1,2,3,4,5,6]\n",
    "name = ['Roof_1','Roof_2','Wall_1','Wall_2','Wall_3','Wall_4']\n",
    "note = ['','','','','','']\n",
    "origin = [[0,0,0.08],\n",
    "          [0,-0.0915,0.07809375],\n",
    "          [-0.1372,0,0],\n",
    "          [0,-0.0915,0],\n",
    "          [0.1372,0,0],\n",
    "          [0,0.0915,0],]\n",
    "basisVectors = [[[1,0,0],[0,0.999783057,0.020828814],[0,-0.020828814,0.999783057]],\n",
    "                [[1,0,0],[0,0.999783057,-0.020828814],[0,0.020828814,0.999783057]],\n",
    "                [[0,0,-1],[-1,0,0],[0,1,0]],\n",
    "                [[1,0,0],[0,0,-1],[0,1,0]],\n",
    "                [[0,0,1],[1,0,0],[0,1,0]],\n",
    "                [[-1,0,0],[0,0,1],[0,1,0]],]\n",
    "# origin_plt = [[0, 0],\n",
    "#                 [0, -0.091519855],\n",
    "#                 [0, -0.2332],\n",
    "#                 [0, -0.18559375],\n",
    "#                 [0, -0.2332],\n",
    "#                 [0, -0.18559375],]\n",
    "origin_plt = [[0, 0],\n",
    "              [0, 0],\n",
    "              [0, 0],\n",
    "              [0, 0],\n",
    "              [0, 0],\n",
    "              [0, 0],\n",
    "              ]\n",
    "# basisVectors_plt = [[[0, -1], [1, 0]],\n",
    "#                     [[0, -1],[1, 0]],\n",
    "#                     [[1, 0], [0, 1]],\n",
    "#                     [[0, -1], [1, 0]],\n",
    "#                     [[-1, 0], [0, -1]],\n",
    "#                     [[0, 1], [-1, 0]],]\n",
    "# basisVectors_plt = [[[1, 0], [0, 1]],\n",
    "#                     [[1, 0], [0, 1]],\n",
    "#                     [[1, 0], [0, 1]],\n",
    "#                     [[1, 0], [0, 1]],\n",
    "#                     [[1, 0], [0, 1]],\n",
    "#                     [[1, 0], [0, 1]],\n",
    "#                     ]\n",
    "basisVectors_plt = [[[0, 1], [-1, 0]],\n",
    "                    [[0, 1], [-1, 0]],\n",
    "                    [[0, 1], [-1, 0]],\n",
    "                    [[0, 1], [-1, 0]],\n",
    "                    [[0, 1], [-1, 0]],\n",
    "                    [[0, 1], [-1, 0]],\n",
    "                    ]\n",
    "vertices = [[[-0.091519855,-0.1372],[0,-0.1372],[0,0.1372],[-0.091519855,0.1372],[-0.091519855,-0.1372]],\n",
    "            [[0,-0.1372],[0.091519855,-0.1372],[0.091519855,0.1372],[0,0.1372],[0,-0.1372]],\n",
    "            [[-0.0915,-0.2332],[0.0915,-0.2332],[0.0915,-0.15510625],[0,-0.1532],[-0.0915,-0.15510625],[-0.0915,-0.2332]],\n",
    "            [[0.107519855,-0.1372],[0.185613605,-0.1372],[0.185613605,0.1372],[0.107519855,0.1372],[0.107519855,-0.1372]],\n",
    "            [[-0.0915,0.2332],[0.0915,0.2332],[0.0915,0.15510625],[0,0.1532],[-0.0915,0.15510625],[-0.0915,0.2332]],\n",
    "            [[-0.107519855,-0.1372],[-0.185613605,-0.1372],[-0.185613605,0.1372],[-0.107519855,0.1372],[-0.107519855,-0.1372]],]\n",
    "\n",
    "H = 0.08\n",
    "B = 0.2744\n",
    "D = 0.183"
   ]
  },
  {
   "cell_type": "code",
   "execution_count": 3,
   "id": "b4a4dd6d",
   "metadata": {},
   "outputs": [],
   "source": [
    "# Zone Dict definitions\n",
    "\n",
    "zoneDict = [\n",
    "        {    # Face 1\n",
    "            0:['NBCC', 'Zone c', np.array([[-0.091519855,-0.1372],[-0.071519855,-0.1372],[-0.071519855,-0.1172],[-0.091519855,-0.1172],[-0.091519855,-0.1372]])],\n",
    "            1:['NBCC', 'Zone c', np.array([[-0.091519855,0.1172],[-0.071519855,0.1172],[-0.071519855,0.1372],[-0.091519855,0.1372],[-0.091519855,0.1172]])],\n",
    "            2:['NBCC', 'Zone s', np.array([[-0.071519855,-0.1372],[0,-0.1372],[0,-0.1172],[-0.071519855,-0.1172],[-0.071519855,-0.1372]])],\n",
    "            3:['NBCC', 'Zone s', np.array([[-0.091519855,-0.1172],[-0.071519855,-0.1172],[-0.071519855,0.1172],[-0.091519855,0.1172],[-0.091519855,-0.1172]])],\n",
    "            4:['NBCC', 'Zone s', np.array([[-0.071519855,0.1172],[0,0.1172],[0,0.1372],[-0.071519855,0.1372],[-0.071519855,0.1172]])],\n",
    "            5:['NBCC', 'Zone r', np.array([[-0.071519855,-0.1172],[0,-0.1172],[0,0.1172],[-0.071519855,0.1172],[-0.071519855,-0.1172]])],\n",
    "        },\n",
    "        {   # Face 2\n",
    "            0:['NBCC', 'Zone c', np.array([[0.091519855,-0.1372],[0.071519855,-0.1372],[0.071519855,-0.1172],[0.091519855,-0.1172],[0.091519855,-0.1372]])],\n",
    "            1:['NBCC', 'Zone c', np.array([[0.091519855,0.1172],[0.071519855,0.1172],[0.071519855,0.1372],[0.091519855,0.1372],[0.091519855,0.1172]])],\n",
    "            2:['NBCC', 'Zone s', np.array([[0.071519855,-0.1372],[0,-0.1372],[0,-0.1172],[0.071519855,-0.1172],[0.071519855,-0.1372]])],\n",
    "            3:['NBCC', 'Zone s', np.array([[0.091519855,-0.1172],[0.071519855,-0.1172],[0.071519855,0.1172],[0.091519855,0.1172],[0.091519855,-0.1172]])],\n",
    "            4:['NBCC', 'Zone s', np.array([[0.071519855,0.1172],[0,0.1172],[0,0.1372],[0.071519855,0.1372],[0.071519855,0.1172]])],\n",
    "            5:['NBCC', 'Zone r', np.array([[0.071519855,-0.1172],[0,-0.1172],[0,0.1172],[0.071519855,0.1172],[0.071519855,-0.1172]])],\n",
    "        },\n",
    "        {   # Face 3\n",
    "            0:['NBCC', 'Zone e', np.array([[-0.0915,-0.2332],[-0.0715,-0.2332],[-0.0715,-0.154689583],[-0.0915,-0.15510625],[-0.0915,-0.2332]])],\n",
    "            1:['NBCC', 'Zone e', np.array([[0.0715,-0.2332],[0.0915,-0.2332],[0.0915,-0.15510625],[0.0715,-0.154689583],[0.0715,-0.2332]])],\n",
    "            2:['NBCC', 'Zone w', np.array([[-0.0715,-0.2332],[0.0715,-0.2332],[0.0715,-0.154689583],[0,-0.1532],[-0.0715,-0.154689583],[-0.0715,-0.2332]])],\n",
    "        },\n",
    "        {   # Face 4\n",
    "            0:['NBCC', 'Zone e', np.array([[0.107519855,-0.1372],[0.185613605,-0.1372],[0.185613605,-0.1172],[0.107519855,-0.1172],[0.107519855,-0.1372]])],\n",
    "            1:['NBCC', 'Zone e', np.array([[0.107519855,0.1172],[0.185613605,0.1172],[0.185613605,0.1372],[0.107519855,0.1372],[0.107519855,0.1172]])],\n",
    "            2:['NBCC', 'Zone w', np.array([[0.107519855,-0.1172],[0.185613605,-0.1172],[0.185613605,0.1172],[0.107519855,0.1172],[0.107519855,-0.1172]])],\n",
    "        },\n",
    "        {   # Face 5\n",
    "            0:['NBCC', 'Zone e', np.array([[-0.0915,0.2332],[-0.0715,0.2332],[-0.0715,0.154689583],[-0.0915,0.15510625],[-0.0915,0.2332]])],\n",
    "            1:['NBCC', 'Zone e', np.array([[0.0715,0.2332],[0.0915,0.2332],[0.0915,0.15510625],[0.0715,0.154689583],[0.0715,0.2332]])],\n",
    "            2:['NBCC', 'Zone w', np.array([[-0.0715,0.2332],[0.0715,0.2332],[0.0715,0.154689583],[0,0.1532],[-0.0715,0.154689583],[-0.0715,0.2332]])],\n",
    "        },\n",
    "        {   # Face 6\n",
    "            0:['NBCC', 'Zone e', np.array([[-0.107519855,-0.1372],[-0.185613605,-0.1372],[-0.185613605,-0.1172],[-0.107519855,-0.1172],[-0.107519855,-0.1372]])],\n",
    "            1:['NBCC', 'Zone e', np.array([[-0.107519855,0.1172],[-0.185613605,0.1172],[-0.185613605,0.1372],[-0.107519855,0.1372],[-0.107519855,0.1172]])],\n",
    "            2:['NBCC', 'Zone w', np.array([[-0.107519855,-0.1172],[-0.185613605,-0.1172],[-0.185613605,0.1172],[-0.107519855,0.1172],[-0.107519855,-0.1172]])],\n",
    "        },\n",
    "]\n",
    "\n",
    "# file = caseDir+'NBCC_zoneDict.json'\n",
    "# with open(file, 'w') as f:\n",
    "#     json.dump(zoneDict,f, indent=4, separators=(',', ':'))"
   ]
  },
  {
   "cell_type": "code",
   "execution_count": null,
   "id": "adc99270",
   "metadata": {},
   "outputs": [],
   "source": [
    "\n",
    "faces = []\n",
    "for i,f in enumerate(faceID):\n",
    "    idx = data.index[data.faceID == f]\n",
    "    tapCoords = np.transpose(np.array([data.x[idx], data.y[idx]]))\n",
    "    tapNos = np.array(data.tapNo[idx],dtype=int)\n",
    "    idxOrig = idx\n",
    "\n",
    "    fc = windCAD.face(\n",
    "                name=name[i],\n",
    "                ID=f,\n",
    "                origin=origin[i],\n",
    "                basisVectors=basisVectors[i],\n",
    "                origin_plt=origin_plt[i],\n",
    "                basisVectors_plt=basisVectors_plt[i],\n",
    "                vertices=vertices[i],\n",
    "                tapNo=tapNos,\n",
    "                tapIdx=idxOrig,\n",
    "                tapName=None,\n",
    "                tapCoord=tapCoords,\n",
    "                zoneDict=zoneDict[i],\n",
    "                # nominalPanelAreas=[1.0e-4, 2.45e-4, 4.8e-4, 7.1e-4, 1e-3], #[5e-5, 8e-5, 1.5e-4, 5e-4],\n",
    "                nominalPanelAreas=[1.5e-5,1.0e-4, 4.8e-4, 7.1e-4, 1e-3], \n",
    "                # nominalPanelAreas=[4.8e-4, 7.2e-4, 1e-3],\n",
    "                numOfNominalPanelAreas=3,\n",
    "                )\n",
    "    # fc.plot(figSize=[20,15], overlayPanels=True, overlayTaps=True, overlayTribs=True, overlayZones=True)\n",
    "    faces.append(fc)\n",
    "\n",
    "# file = caseDir+'ttu_bldgGeom.json'\n",
    "# allFaces.writeToFile(file_basic=file)"
   ]
  },
  {
   "cell_type": "code",
   "execution_count": 6,
   "id": "89715dcf",
   "metadata": {},
   "outputs": [
    {
     "name": "stdout",
     "output_type": "stream",
     "text": [
      "[(([], [], [], [], []), ([], [], [], [], []), ([], [], [], [], []), ([], [], [], [], []), ([], [], [], [], []), ([], [], [], [], [])), (([], [], [], [], []), ([], [], [], [], []), ([], [], [], [], []), ([], [], [], [], []), ([], [], [], [], []), ([], [], [], [], [])), (([], [], [], [], []), ([], [], [], [], []), ([32, 53, 675, 692], [], [], [], [])), (([], [], [], [], []), ([], [], [], [], []), ([], [], [], [], [])), (([], [], [], [], []), ([], [], [], [], []), ([31, 32, 674, 707], [], [], [], [])), (([], [], [], [], []), ([], [], [], [], []), ([], [], [], [], []))]\n",
      "[((1, 2, 3, 4), (1, 2, 3, 4), (1, 2, 3, 4), (), (1, 2, 3, 4), ()), ((1, 2, 3, 4), (1, 2, 3, 4), (1, 2, 3, 4), (), (1, 2, 3, 4), (0, 1)), ((1, 2, 3, 4), (2, 3, 4), ()), ((1, 2, 3, 4), (1, 2, 3, 4), (3,)), ((1, 2, 3, 4), (2, 3, 4), (2,)), ((1, 2, 3, 4), (1, 2, 3, 4), ())]\n"
     ]
    },
    {
     "name": "stderr",
     "output_type": "stream",
     "text": [
      "d:\\OneDrive - The University of Western Ontario\\Documents\\PhD\\Thesis\\CodeRepositories\\windCalc\\src\\windCAD.py:464: ShapelyDeprecationWarning: __len__ for multi-part geometries is deprecated and will be removed in Shapely 2.0. Check the length of the `geoms` property instead to get the  number of parts of a multi-part geometry.\n",
      "  num[a] += len(self.panels[z][a])\n"
     ]
    }
   ],
   "source": [
    "ttu = wind.bldgCp(bldgName='TTU',\n",
    "                faces=faces,\n",
    "                H=H,D=D,B=B,roofSlope=1.2,lScl=0.02,\n",
    "                caseName='TNG-E2R1',\n",
    "                )\n",
    "print(ttu.error_in_panels)\n",
    "print(ttu.error_in_zones)"
   ]
  },
  {
   "cell_type": "code",
   "execution_count": null,
   "id": "00841149",
   "metadata": {},
   "outputs": [],
   "source": [
    "fig = plt.figure(figsize=[10,8])\n",
    "ax = fig.add_subplot()\n",
    "\n",
    "ttu.plotEdges(ax=ax)\n",
    "ttu.plotTaps(ax=ax)\n",
    "\n",
    "ax.axis('equal')\n",
    "ax.axis('off')\n",
    "\n"
   ]
  },
  {
   "attachments": {},
   "cell_type": "markdown",
   "id": "84897859",
   "metadata": {},
   "source": [
    "## Wind field"
   ]
  },
  {
   "cell_type": "code",
   "execution_count": null,
   "id": "0989f151",
   "metadata": {},
   "outputs": [],
   "source": [
    "dt = 3.7890e-04\n",
    "\n",
    "file = r'D:\\tempData_depot\\simData_CandC\\tngE2\\tngE2Fr1_profile.csv'\n",
    "temp = pd.read_csv(file)\n",
    "\n",
    "file = caseDir+'tngE2Fr1_TH-UofT.npy'\n",
    "U_TH = np.load(file)\n",
    "file = caseDir+'tngE2Fr1_TH-VofT.npy'\n",
    "V_TH = np.load(file)\n",
    "file = caseDir+'tngE2Fr1_TH-WofT.npy'\n",
    "W_TH = np.load(file)\n"
   ]
  },
  {
   "cell_type": "code",
   "execution_count": null,
   "id": "02a6cf39",
   "metadata": {},
   "outputs": [],
   "source": [
    "\n",
    "vel = wind.profile(name=\"BLWT-E2\", Z=temp.Z,UofT=U_TH,VofT=V_TH,WofT=W_TH,H=H,dt=dt,nSpectAvg=64)\n",
    "vel.plot()"
   ]
  },
  {
   "attachments": {},
   "cell_type": "markdown",
   "id": "34b58683",
   "metadata": {},
   "source": [
    "## BLWT $C_p$ data"
   ]
  },
  {
   "cell_type": "code",
   "execution_count": null,
   "id": "c6aec72f",
   "metadata": {},
   "outputs": [],
   "source": [
    "mainRefPitotChnlIdx = 2\n",
    "fps2mps = 0.3048\n",
    "Zpitot = 1.48\n",
    "Ntaps = 456\n",
    "\n",
    "dataDirHFPI = r'E:\\TNG\\rawHFPI\\tngE2p1/'\n",
    "\n",
    "N_AoA = 3\n",
    "# AoAids = [str(i).zfill(3) for i in range(1,N_AoA+1)]\n",
    "AoAids = ['001', '010', '019']\n",
    "\n",
    "AoA = np.zeros((N_AoA))\n",
    "sampleRate = np.zeros((N_AoA))\n",
    "\n",
    "for i,a in enumerate(AoAids):\n",
    "    file_pssd = dataDirHFPI+'TNGp1E02R001P'+ AoAids[i] +'a.pssd'\n",
    "    file_pssr = dataDirHFPI+'TNGp1E02R001P'+ AoAids[i] +'a.pssr'\n",
    "\n",
    "    cp_data,analog,WTTDATALOG = windIO.readPSSfile(file_pssr,file_pssd)\n",
    "\n",
    "    if i == 0:\n",
    "        N_t = np.shape(cp_data)[0]\n",
    "        CpTH = np.zeros((N_AoA,Ntaps,N_t)) # [N_AoA,Ntaps,Ntime]\n",
    "        UpitotOfT = np.zeros((N_AoA,N_t))\n",
    "    CpTH[i,:,:] = np.transpose(cp_data[:,0:Ntaps])\n",
    "    UpitotOfT[i,:] = 29.917 * np.sqrt(analog[:,mainRefPitotChnlIdx]) * fps2mps\n",
    "    AoA[i] = np.round(WTTDATALOG[\"APPSPE\"][0][0][0][0][0][0][0][16][0][0],1)\n",
    "    sampleRate[i] = WTTDATALOG[\"APPSPE\"][0][0][0][0][0][0][0][12][0][0]\n",
    "Upitot = np.mean(UpitotOfT,axis=1)\n",
    "\n"
   ]
  },
  {
   "cell_type": "code",
   "execution_count": null,
   "id": "9e9f7799",
   "metadata": {
    "tags": []
   },
   "outputs": [],
   "source": [
    "ttu = wind.bldgCp(bldgName='TTU',\n",
    "                faces=faces,\n",
    "                H=H,D=D,B=B,roofSlope=1.2,lScl=0.02,\n",
    "                caseName='TNG-E2R1',\n",
    "                refProfile=vel,\n",
    "                Zref_input=Zpitot,  # for the Cp TH being input below\n",
    "                Uref_input=Upitot,  # for the Cp TH being input below\n",
    "                samplingFreq=sampleRate[0],\n",
    "                airDensity=1.125,\n",
    "                AoA=AoA,\n",
    "                CpOfT=CpTH,  # Cp TH referenced to Uref at Zref\n",
    "                badTaps=None, # tap numbers to remove\n",
    "                reReferenceCpToH=True, # whether or not to re-reference Cp building height\n",
    "                pOfT=None,\n",
    "                p0ofT=None,\n",
    "                CpStats=None,\n",
    "                peakMethod='minmax',\n",
    "                )\n"
   ]
  },
  {
   "cell_type": "code",
   "execution_count": null,
   "id": "6425483f",
   "metadata": {},
   "outputs": [],
   "source": [
    "fig = plt.figure(figsize=[20,15])\n",
    "ax = fig.add_subplot()\n",
    "ttu.plotZones(ax=ax)\n",
    "ax.axis('equal')"
   ]
  },
  {
   "cell_type": "code",
   "execution_count": null,
   "id": "ad9a4c1e",
   "metadata": {},
   "outputs": [],
   "source": [
    "f = 1\n",
    "fc = ttu[f]\n",
    "a = 0\n",
    "d = 1\n",
    "fldRange=[-2,1]\n",
    "\n",
    "fig = plt.figure(figsize=[20,15])\n",
    "ax = fig.add_subplot()\n",
    "ttu.plotPanelCpStats(fieldName='mean',dxnIdx=d,aIdx=a,showValueText=False,ax=ax,fldRange=fldRange)\n",
    "ttu.plotPanels(ax=ax,aIdx=a)\n",
    "ttu.plotEdges(ax=ax,showName=False)\n",
    "ttu.plotZones(ax=ax)\n",
    "# ttu.plotTaps(ax=ax,showTapNo=True,fontsize=10)\n",
    "# ttu.plotTribs(ax=ax)\n",
    "ax.axis('equal')\n"
   ]
  },
  {
   "cell_type": "code",
   "execution_count": null,
   "id": "a296e6e2",
   "metadata": {},
   "outputs": [],
   "source": [
    "\n",
    "print(ttu.error_in_panels)\n",
    "print(ttu.error_in_zones)\n",
    "for i in range(5):\n",
    "    print(f\"A: {np.shape(ttu.panelAreas[i][2])}, \\tGCp:{np.shape(ttu.CpStatsAreaAvgByZone[i][2]['mean'])}\")"
   ]
  },
  {
   "cell_type": "code",
   "execution_count": null,
   "id": "27446bca",
   "metadata": {},
   "outputs": [],
   "source": [
    "i = 2\n",
    "plt.figure()\n",
    "plt.semilogx(ttu.panelAreas[i][2], ttu.CpStatsAreaAvgByZone[i][2]['peakMin'][0,:],'.k')\n",
    "plt.show()"
   ]
  },
  {
   "attachments": {},
   "cell_type": "markdown",
   "id": "36a1e8ad",
   "metadata": {},
   "source": [
    "# LES"
   ]
  },
  {
   "cell_type": "code",
   "execution_count": null,
   "id": "9ebd3670",
   "metadata": {},
   "outputs": [],
   "source": [
    "lesCase = r'D:\\tempData_depot\\simData_CandC\\ttuE087_900.0/'"
   ]
  },
  {
   "attachments": {},
   "cell_type": "markdown",
   "id": "382b7ce1",
   "metadata": {},
   "source": [
    "## Wind field"
   ]
  },
  {
   "cell_type": "code",
   "execution_count": null,
   "id": "a0f8a2a7",
   "metadata": {},
   "outputs": [],
   "source": [
    "\n",
    "lesProf = foam.processVelProfile(caseDir=lesCase, probeName='probes.V1',H=H, trimTimeSegs=[[0,1.0]])\n",
    "\n"
   ]
  },
  {
   "cell_type": "code",
   "execution_count": null,
   "id": "3bc6f6e8",
   "metadata": {},
   "outputs": [],
   "source": [
    "p0Idx = 30\n",
    "_, _, p0OfT = foam.readProbe(probeName='probes.V0', postProcDir=lesCase+'postProcessing/', field='p', trimTimeSegs=[[0,1.0]],)\n",
    "\n",
    "pOfTfile = lesCase+'postProcessing/wallPressure_VTK/all_pOfT.npy'\n",
    "pOfT = np.load(pOfTfile)\n",
    "m,n = np.shape(pOfT)\n",
    "pOfT = np.reshape(pOfT,(1,m,n))\n",
    "print(np.shape(pOfT))\n",
    "\n",
    "p0OfT = np.reshape(np.transpose(p0OfT)[p0Idx,:n],(1,-1))\n",
    "print(np.shape(p0OfT))\n"
   ]
  },
  {
   "cell_type": "code",
   "execution_count": null,
   "id": "7c5f3d40",
   "metadata": {},
   "outputs": [],
   "source": [
    "\n",
    "\n",
    "\n",
    "ttu = wind.bldgCp(bldgName='TTU',\n",
    "                faces=faces,\n",
    "                H=H,D=D,B=B,roofSlope=1.2,lScl=0.02,\n",
    "                caseName='LES-E087-90deg',\n",
    "                refProfile=lesProf,\n",
    "                Zref_input=H,  # for the Cp TH being input below\n",
    "                Uref_input=lesProf.Uh,  # for the Cp TH being input below\n",
    "                samplingFreq=lesProf.samplingFreq,\n",
    "                airDensity=1.125,\n",
    "                AoA=[90.0,],\n",
    "                # CpOfT=CpTH,  # Cp TH referenced to Uref at Zref\n",
    "                # badTaps=None, # tap numbers to remove\n",
    "                # reReferenceCpToH=True, # whether or not to re-reference Cp building height\n",
    "                pOfT=pOfT,\n",
    "                p0ofT=p0OfT,\n",
    "                # CpStats=None,\n",
    "                peakMethod='minmax',\n",
    "                )"
   ]
  },
  {
   "cell_type": "code",
   "execution_count": null,
   "id": "77a74812",
   "metadata": {},
   "outputs": [],
   "source": [
    "f = 1\n",
    "fc = ttu[f]\n",
    "a = 2\n",
    "d = 0\n",
    "fldRange=[-2,1]\n",
    "\n",
    "fig = plt.figure(figsize=[20,15])\n",
    "ax = fig.add_subplot()\n",
    "# ttu.plotPanelCpStats(fieldName='mean',dxnIdx=d,aIdx=a,showValueText=False,ax=ax,fldRange=fldRange)\n",
    "ttu.plotPanels(ax=ax,aIdx=a)\n",
    "# ttu.plotTapField(ax=ax,field='mean')\n",
    "ttu.plotEdges(ax=ax,showName=False)\n",
    "ttu.plotZones(ax=ax)\n",
    "# ttu.plotTaps(ax=ax,showTapNo=True,fontsize=10)\n",
    "# ttu.plotTribs(ax=ax)\n",
    "ax.axis('equal')\n"
   ]
  },
  {
   "cell_type": "code",
   "execution_count": null,
   "id": "19da1da8",
   "metadata": {},
   "outputs": [],
   "source": [
    "print((ttu.CpStats['std']))"
   ]
  },
  {
   "attachments": {},
   "cell_type": "markdown",
   "id": "a29b1b65",
   "metadata": {},
   "source": [
    "# CAD lab"
   ]
  },
  {
   "cell_type": "code",
   "execution_count": 37,
   "id": "945a2e49",
   "metadata": {},
   "outputs": [
    {
     "name": "stdout",
     "output_type": "stream",
     "text": [
      "[[-0.091519855, -0.1372], [-0.071519855, -0.1372], [-0.071519855, -0.1172], [-0.091519855, -0.1172], [-0.091519855, -0.1372]]\n"
     ]
    },
    {
     "ename": "Exception",
     "evalue": "Could not get last error",
     "output_type": "error",
     "traceback": [
      "\u001b[1;31m---------------------------------------------------------------------------\u001b[0m",
      "\u001b[1;31mException\u001b[0m                                 Traceback (most recent call last)",
      "\u001b[1;32m~\\AppData\\Local\\Temp\\ipykernel_32040\\1792857204.py\u001b[0m in \u001b[0;36m<cell line: 19>\u001b[1;34m()\u001b[0m\n\u001b[0;32m     17\u001b[0m \u001b[1;33m\u001b[0m\u001b[0m\n\u001b[0;32m     18\u001b[0m \u001b[1;31m# Generate the mesh\u001b[0m\u001b[1;33m\u001b[0m\u001b[1;33m\u001b[0m\u001b[1;33m\u001b[0m\u001b[0m\n\u001b[1;32m---> 19\u001b[1;33m \u001b[0mmesh\u001b[0m \u001b[1;33m=\u001b[0m \u001b[0mgenerate_mesh\u001b[0m\u001b[1;33m(\u001b[0m\u001b[0mpolygon\u001b[0m\u001b[1;33m,\u001b[0m \u001b[0mA\u001b[0m\u001b[1;33m)\u001b[0m\u001b[1;33m\u001b[0m\u001b[1;33m\u001b[0m\u001b[0m\n\u001b[0m\u001b[0;32m     20\u001b[0m \u001b[1;33m\u001b[0m\u001b[0m\n\u001b[0;32m     21\u001b[0m \u001b[1;31m# # Plot the mesh\u001b[0m\u001b[1;33m\u001b[0m\u001b[1;33m\u001b[0m\u001b[1;33m\u001b[0m\u001b[0m\n",
      "\u001b[1;32m~\\AppData\\Local\\Temp\\ipykernel_32040\\1792857204.py\u001b[0m in \u001b[0;36mgenerate_mesh\u001b[1;34m(polygon, nominal_area)\u001b[0m\n\u001b[0;32m      6\u001b[0m \u001b[1;33m\u001b[0m\u001b[0m\n\u001b[0;32m      7\u001b[0m     \u001b[0mgeom\u001b[0m \u001b[1;33m=\u001b[0m \u001b[0mpygmsh\u001b[0m\u001b[1;33m.\u001b[0m\u001b[0mgeo\u001b[0m\u001b[1;33m.\u001b[0m\u001b[0mGeometry\u001b[0m\u001b[1;33m(\u001b[0m\u001b[1;33m)\u001b[0m\u001b[1;33m\u001b[0m\u001b[1;33m\u001b[0m\u001b[0m\n\u001b[1;32m----> 8\u001b[1;33m     \u001b[0mpoly\u001b[0m \u001b[1;33m=\u001b[0m \u001b[0mgeom\u001b[0m\u001b[1;33m.\u001b[0m\u001b[0madd_polygon\u001b[0m\u001b[1;33m(\u001b[0m\u001b[0mpolygon\u001b[0m\u001b[1;33m,\u001b[0m \u001b[0mmesh_size\u001b[0m\u001b[1;33m=\u001b[0m\u001b[0mnominal_area\u001b[0m\u001b[1;33m**\u001b[0m\u001b[1;36m0.5\u001b[0m\u001b[1;33m)\u001b[0m\u001b[1;33m\u001b[0m\u001b[1;33m\u001b[0m\u001b[0m\n\u001b[0m\u001b[0;32m      9\u001b[0m     \u001b[1;31m# Generate the mesh\u001b[0m\u001b[1;33m\u001b[0m\u001b[1;33m\u001b[0m\u001b[1;33m\u001b[0m\u001b[0m\n\u001b[0;32m     10\u001b[0m     \u001b[0mmesh\u001b[0m \u001b[1;33m=\u001b[0m \u001b[0mpygmsh\u001b[0m\u001b[1;33m.\u001b[0m\u001b[0mgenerate_mesh\u001b[0m\u001b[1;33m(\u001b[0m\u001b[0mgeom\u001b[0m\u001b[1;33m)\u001b[0m\u001b[1;33m\u001b[0m\u001b[1;33m\u001b[0m\u001b[0m\n",
      "\u001b[1;32mc:\\ProgramData\\Anaconda3\\lib\\site-packages\\pygmsh\\common\\geometry.py\u001b[0m in \u001b[0;36madd_polygon\u001b[1;34m(self, *args, **kwargs)\u001b[0m\n\u001b[0;32m     99\u001b[0m \u001b[1;33m\u001b[0m\u001b[0m\n\u001b[0;32m    100\u001b[0m     \u001b[1;32mdef\u001b[0m \u001b[0madd_polygon\u001b[0m\u001b[1;33m(\u001b[0m\u001b[0mself\u001b[0m\u001b[1;33m,\u001b[0m \u001b[1;33m*\u001b[0m\u001b[0margs\u001b[0m\u001b[1;33m,\u001b[0m \u001b[1;33m**\u001b[0m\u001b[0mkwargs\u001b[0m\u001b[1;33m)\u001b[0m\u001b[1;33m:\u001b[0m\u001b[1;33m\u001b[0m\u001b[1;33m\u001b[0m\u001b[0m\n\u001b[1;32m--> 101\u001b[1;33m         \u001b[1;32mreturn\u001b[0m \u001b[0mPolygon\u001b[0m\u001b[1;33m(\u001b[0m\u001b[0mself\u001b[0m\u001b[1;33m,\u001b[0m \u001b[1;33m*\u001b[0m\u001b[0margs\u001b[0m\u001b[1;33m,\u001b[0m \u001b[1;33m**\u001b[0m\u001b[0mkwargs\u001b[0m\u001b[1;33m)\u001b[0m\u001b[1;33m\u001b[0m\u001b[1;33m\u001b[0m\u001b[0m\n\u001b[0m\u001b[0;32m    102\u001b[0m \u001b[1;33m\u001b[0m\u001b[0m\n\u001b[0;32m    103\u001b[0m     \u001b[1;32mdef\u001b[0m \u001b[0madd_physical\u001b[0m\u001b[1;33m(\u001b[0m\u001b[0mself\u001b[0m\u001b[1;33m,\u001b[0m \u001b[0mentities\u001b[0m\u001b[1;33m,\u001b[0m \u001b[0mlabel\u001b[0m\u001b[1;33m:\u001b[0m \u001b[0mstr\u001b[0m \u001b[1;33m|\u001b[0m \u001b[1;32mNone\u001b[0m \u001b[1;33m=\u001b[0m \u001b[1;32mNone\u001b[0m\u001b[1;33m)\u001b[0m\u001b[1;33m:\u001b[0m\u001b[1;33m\u001b[0m\u001b[1;33m\u001b[0m\u001b[0m\n",
      "\u001b[1;32mc:\\ProgramData\\Anaconda3\\lib\\site-packages\\pygmsh\\common\\polygon.py\u001b[0m in \u001b[0;36m__init__\u001b[1;34m(self, host, points, mesh_size, holes, make_surface)\u001b[0m\n\u001b[0;32m     32\u001b[0m \u001b[1;33m\u001b[0m\u001b[0m\n\u001b[0;32m     33\u001b[0m         \u001b[1;31m# Create points.\u001b[0m\u001b[1;33m\u001b[0m\u001b[1;33m\u001b[0m\u001b[1;33m\u001b[0m\u001b[0m\n\u001b[1;32m---> 34\u001b[1;33m         self.points = [\n\u001b[0m\u001b[0;32m     35\u001b[0m             \u001b[0mhost\u001b[0m\u001b[1;33m.\u001b[0m\u001b[0madd_point\u001b[0m\u001b[1;33m(\u001b[0m\u001b[0mx\u001b[0m\u001b[1;33m,\u001b[0m \u001b[0mmesh_size\u001b[0m\u001b[1;33m=\u001b[0m\u001b[0msize\u001b[0m\u001b[1;33m)\u001b[0m \u001b[1;32mfor\u001b[0m \u001b[0mx\u001b[0m\u001b[1;33m,\u001b[0m \u001b[0msize\u001b[0m \u001b[1;32min\u001b[0m \u001b[0mzip\u001b[0m\u001b[1;33m(\u001b[0m\u001b[0mpoints\u001b[0m\u001b[1;33m,\u001b[0m \u001b[0mmesh_size\u001b[0m\u001b[1;33m)\u001b[0m\u001b[1;33m\u001b[0m\u001b[1;33m\u001b[0m\u001b[0m\n\u001b[0;32m     36\u001b[0m         ]\n",
      "\u001b[1;32mc:\\ProgramData\\Anaconda3\\lib\\site-packages\\pygmsh\\common\\polygon.py\u001b[0m in \u001b[0;36m<listcomp>\u001b[1;34m(.0)\u001b[0m\n\u001b[0;32m     33\u001b[0m         \u001b[1;31m# Create points.\u001b[0m\u001b[1;33m\u001b[0m\u001b[1;33m\u001b[0m\u001b[1;33m\u001b[0m\u001b[0m\n\u001b[0;32m     34\u001b[0m         self.points = [\n\u001b[1;32m---> 35\u001b[1;33m             \u001b[0mhost\u001b[0m\u001b[1;33m.\u001b[0m\u001b[0madd_point\u001b[0m\u001b[1;33m(\u001b[0m\u001b[0mx\u001b[0m\u001b[1;33m,\u001b[0m \u001b[0mmesh_size\u001b[0m\u001b[1;33m=\u001b[0m\u001b[0msize\u001b[0m\u001b[1;33m)\u001b[0m \u001b[1;32mfor\u001b[0m \u001b[0mx\u001b[0m\u001b[1;33m,\u001b[0m \u001b[0msize\u001b[0m \u001b[1;32min\u001b[0m \u001b[0mzip\u001b[0m\u001b[1;33m(\u001b[0m\u001b[0mpoints\u001b[0m\u001b[1;33m,\u001b[0m \u001b[0mmesh_size\u001b[0m\u001b[1;33m)\u001b[0m\u001b[1;33m\u001b[0m\u001b[1;33m\u001b[0m\u001b[0m\n\u001b[0m\u001b[0;32m     36\u001b[0m         ]\n\u001b[0;32m     37\u001b[0m         \u001b[1;31m# Create lines\u001b[0m\u001b[1;33m\u001b[0m\u001b[1;33m\u001b[0m\u001b[1;33m\u001b[0m\u001b[0m\n",
      "\u001b[1;32mc:\\ProgramData\\Anaconda3\\lib\\site-packages\\pygmsh\\common\\geometry.py\u001b[0m in \u001b[0;36madd_point\u001b[1;34m(self, *args, **kwargs)\u001b[0m\n\u001b[0;32m     84\u001b[0m \u001b[1;33m\u001b[0m\u001b[0m\n\u001b[0;32m     85\u001b[0m     \u001b[1;32mdef\u001b[0m \u001b[0madd_point\u001b[0m\u001b[1;33m(\u001b[0m\u001b[0mself\u001b[0m\u001b[1;33m,\u001b[0m \u001b[1;33m*\u001b[0m\u001b[0margs\u001b[0m\u001b[1;33m,\u001b[0m \u001b[1;33m**\u001b[0m\u001b[0mkwargs\u001b[0m\u001b[1;33m)\u001b[0m\u001b[1;33m:\u001b[0m\u001b[1;33m\u001b[0m\u001b[1;33m\u001b[0m\u001b[0m\n\u001b[1;32m---> 86\u001b[1;33m         \u001b[1;32mreturn\u001b[0m \u001b[0mPoint\u001b[0m\u001b[1;33m(\u001b[0m\u001b[0mself\u001b[0m\u001b[1;33m.\u001b[0m\u001b[0menv\u001b[0m\u001b[1;33m,\u001b[0m \u001b[1;33m*\u001b[0m\u001b[0margs\u001b[0m\u001b[1;33m,\u001b[0m \u001b[1;33m**\u001b[0m\u001b[0mkwargs\u001b[0m\u001b[1;33m)\u001b[0m\u001b[1;33m\u001b[0m\u001b[1;33m\u001b[0m\u001b[0m\n\u001b[0m\u001b[0;32m     87\u001b[0m \u001b[1;33m\u001b[0m\u001b[0m\n\u001b[0;32m     88\u001b[0m     \u001b[1;32mdef\u001b[0m \u001b[0madd_spline\u001b[0m\u001b[1;33m(\u001b[0m\u001b[0mself\u001b[0m\u001b[1;33m,\u001b[0m \u001b[1;33m*\u001b[0m\u001b[0margs\u001b[0m\u001b[1;33m,\u001b[0m \u001b[1;33m**\u001b[0m\u001b[0mkwargs\u001b[0m\u001b[1;33m)\u001b[0m\u001b[1;33m:\u001b[0m\u001b[1;33m\u001b[0m\u001b[1;33m\u001b[0m\u001b[0m\n",
      "\u001b[1;32mc:\\ProgramData\\Anaconda3\\lib\\site-packages\\pygmsh\\common\\point.py\u001b[0m in \u001b[0;36m__init__\u001b[1;34m(self, env, x, mesh_size)\u001b[0m\n\u001b[0;32m     35\u001b[0m         \u001b[1;32mif\u001b[0m \u001b[0mmesh_size\u001b[0m \u001b[1;32mis\u001b[0m \u001b[1;32mnot\u001b[0m \u001b[1;32mNone\u001b[0m\u001b[1;33m:\u001b[0m\u001b[1;33m\u001b[0m\u001b[1;33m\u001b[0m\u001b[0m\n\u001b[0;32m     36\u001b[0m             \u001b[0margs\u001b[0m\u001b[1;33m.\u001b[0m\u001b[0mappend\u001b[0m\u001b[1;33m(\u001b[0m\u001b[0mmesh_size\u001b[0m\u001b[1;33m)\u001b[0m\u001b[1;33m\u001b[0m\u001b[1;33m\u001b[0m\u001b[0m\n\u001b[1;32m---> 37\u001b[1;33m         \u001b[0mself\u001b[0m\u001b[1;33m.\u001b[0m\u001b[0m_id\u001b[0m \u001b[1;33m=\u001b[0m \u001b[0menv\u001b[0m\u001b[1;33m.\u001b[0m\u001b[0maddPoint\u001b[0m\u001b[1;33m(\u001b[0m\u001b[1;33m*\u001b[0m\u001b[0margs\u001b[0m\u001b[1;33m)\u001b[0m\u001b[1;33m\u001b[0m\u001b[1;33m\u001b[0m\u001b[0m\n\u001b[0m\u001b[0;32m     38\u001b[0m         \u001b[0mself\u001b[0m\u001b[1;33m.\u001b[0m\u001b[0mdim_tag\u001b[0m \u001b[1;33m=\u001b[0m \u001b[1;33m(\u001b[0m\u001b[1;36m0\u001b[0m\u001b[1;33m,\u001b[0m \u001b[0mself\u001b[0m\u001b[1;33m.\u001b[0m\u001b[0m_id\u001b[0m\u001b[1;33m)\u001b[0m\u001b[1;33m\u001b[0m\u001b[1;33m\u001b[0m\u001b[0m\n\u001b[0;32m     39\u001b[0m         \u001b[0mself\u001b[0m\u001b[1;33m.\u001b[0m\u001b[0mdim_tags\u001b[0m \u001b[1;33m=\u001b[0m \u001b[1;33m[\u001b[0m\u001b[0mself\u001b[0m\u001b[1;33m.\u001b[0m\u001b[0mdim_tag\u001b[0m\u001b[1;33m]\u001b[0m\u001b[1;33m\u001b[0m\u001b[1;33m\u001b[0m\u001b[0m\n",
      "\u001b[1;32mc:\\ProgramData\\Anaconda3\\lib\\site-packages\\gmsh.py\u001b[0m in \u001b[0;36maddPoint\u001b[1;34m(x, y, z, meshSize, tag)\u001b[0m\n\u001b[0;32m   5256\u001b[0m                 byref(ierr))\n\u001b[0;32m   5257\u001b[0m             \u001b[1;32mif\u001b[0m \u001b[0mierr\u001b[0m\u001b[1;33m.\u001b[0m\u001b[0mvalue\u001b[0m \u001b[1;33m!=\u001b[0m \u001b[1;36m0\u001b[0m\u001b[1;33m:\u001b[0m\u001b[1;33m\u001b[0m\u001b[1;33m\u001b[0m\u001b[0m\n\u001b[1;32m-> 5258\u001b[1;33m                 \u001b[1;32mraise\u001b[0m \u001b[0mException\u001b[0m\u001b[1;33m(\u001b[0m\u001b[0mlogger\u001b[0m\u001b[1;33m.\u001b[0m\u001b[0mgetLastError\u001b[0m\u001b[1;33m(\u001b[0m\u001b[1;33m)\u001b[0m\u001b[1;33m)\u001b[0m\u001b[1;33m\u001b[0m\u001b[1;33m\u001b[0m\u001b[0m\n\u001b[0m\u001b[0;32m   5259\u001b[0m             \u001b[1;32mreturn\u001b[0m \u001b[0mapi_result_\u001b[0m\u001b[1;33m\u001b[0m\u001b[1;33m\u001b[0m\u001b[0m\n\u001b[0;32m   5260\u001b[0m         \u001b[0madd_point\u001b[0m \u001b[1;33m=\u001b[0m \u001b[0maddPoint\u001b[0m\u001b[1;33m\u001b[0m\u001b[1;33m\u001b[0m\u001b[0m\n",
      "\u001b[1;32mc:\\ProgramData\\Anaconda3\\lib\\site-packages\\gmsh.py\u001b[0m in \u001b[0;36mgetLastError\u001b[1;34m()\u001b[0m\n\u001b[0;32m  10612\u001b[0m             byref(ierr))\n\u001b[0;32m  10613\u001b[0m         \u001b[1;32mif\u001b[0m \u001b[0mierr\u001b[0m\u001b[1;33m.\u001b[0m\u001b[0mvalue\u001b[0m \u001b[1;33m!=\u001b[0m \u001b[1;36m0\u001b[0m\u001b[1;33m:\u001b[0m\u001b[1;33m\u001b[0m\u001b[1;33m\u001b[0m\u001b[0m\n\u001b[1;32m> 10614\u001b[1;33m             \u001b[1;32mraise\u001b[0m \u001b[0mException\u001b[0m\u001b[1;33m(\u001b[0m\u001b[1;34m'Could not get last error'\u001b[0m\u001b[1;33m)\u001b[0m\u001b[1;33m\u001b[0m\u001b[1;33m\u001b[0m\u001b[0m\n\u001b[0m\u001b[0;32m  10615\u001b[0m         \u001b[1;32mreturn\u001b[0m \u001b[0m_ostring\u001b[0m\u001b[1;33m(\u001b[0m\u001b[0mapi_error_\u001b[0m\u001b[1;33m)\u001b[0m\u001b[1;33m\u001b[0m\u001b[1;33m\u001b[0m\u001b[0m\n\u001b[0;32m  10616\u001b[0m     \u001b[0mget_last_error\u001b[0m \u001b[1;33m=\u001b[0m \u001b[0mgetLastError\u001b[0m\u001b[1;33m\u001b[0m\u001b[1;33m\u001b[0m\u001b[0m\n",
      "\u001b[1;31mException\u001b[0m: Could not get last error"
     ]
    }
   ],
   "source": [
    "from shapely.geometry import MultiPolygon, Polygon\n",
    "import sfepy\n",
    "from sfepy.base.base import output\n",
    "\n",
    "def generate_mesh(polygon, nominal_area):\n",
    "    # Define the domain\n",
    "    domain = sfepy.fem.domain.FEDomain('domain', dim=2)\n",
    "    domain.create_poly_line(polygon, is_closed=True, epsilon=1e-2)\n",
    "    domain.create_mesh(mesh_size=nominal_area**0.5, mesh_type='gmsh')\n",
    "    return domain.mesh\n",
    "\n",
    "def visualize_mesh(mesh):\n",
    "    # Extract x and y coordinates of the nodes\n",
    "    x, y = mesh.coors[:,0], mesh.coors[:,1]\n",
    "    # Plot the nodes\n",
    "    plt.scatter(x, y)\n",
    "    # Plot the elements\n",
    "    for el in mesh.elements:\n",
    "        plt.plot(x[el], y[el])\n",
    "    # Show the plot\n",
    "    plt.show()\n",
    "\n",
    "\n",
    "polygon = ttu[0].zoneDict[0][2].tolist()\n",
    "A = ttu[0].nominalPanelAreas[0]\n",
    "print(polygon)\n",
    "\n",
    "# Generate the mesh\n",
    "mesh = generate_mesh(polygon, A)\n",
    "\n",
    "visualize_mesh(mesh)"
   ]
  }
 ],
 "metadata": {
  "kernelspec": {
   "display_name": "Python 3.8.8 ('base')",
   "language": "python",
   "name": "python3"
  },
  "language_info": {
   "codemirror_mode": {
    "name": "ipython",
    "version": 3
   },
   "file_extension": ".py",
   "mimetype": "text/x-python",
   "name": "python",
   "nbconvert_exporter": "python",
   "pygments_lexer": "ipython3",
   "version": "3.8.8"
  },
  "vscode": {
   "interpreter": {
    "hash": "ad2bdc8ecc057115af97d19610ffacc2b4e99fae6737bb82f5d7fb13d2f2c186"
   }
  }
 },
 "nbformat": 4,
 "nbformat_minor": 5
}
