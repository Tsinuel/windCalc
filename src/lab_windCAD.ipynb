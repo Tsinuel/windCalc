{
 "cells": [
  {
   "cell_type": "code",
   "execution_count": 1,
   "metadata": {
    "tags": []
   },
   "outputs": [],
   "source": [
    "import numpy as np\n",
    "import os\n",
    "import pandas as pd\n",
    "import matplotlib.pyplot as plt\n",
    "\n",
    "import wio\n",
    "import wind\n",
    "import windCAD"
   ]
  },
  {
   "cell_type": "code",
   "execution_count": null,
   "id": "56bc2dbc",
   "metadata": {
    "tags": []
   },
   "outputs": [],
   "source": [
    "caseDir = r\"D:\\tempData_depot\\simData_CandC\\wt_tngE2/\"\n",
    "\n",
    "tapFile = caseDir+\"tngTapDefinition.csv\"\n",
    "data = pd.read_csv(tapFile)\n",
    "\n",
    "faceID = [1,2,3,4,5,6]\n",
    "name = ['Roof_1','Roof_2','Wall_1','Wall_2','Wall_3','Wall_4']\n",
    "note = ['','','','','','']\n",
    "origin = [[0,0,0.08],\n",
    "          [0,-0.0915,0.07809375],\n",
    "          [-0.1372,0,0],\n",
    "          [0,-0.0915,0],\n",
    "          [0.1372,0,0],\n",
    "          [0,0.0915,0],]\n",
    "basisVectors = [[[1,0,0],[0,0.999783057,0.020828814],[0,-0.020828814,0.999783057]],\n",
    "                [[1,0,0],[0,0.999783057,-0.020828814],[0,0.020828814,0.999783057]],\n",
    "                [[0,0,-1],[-1,0,0],[0,1,0]],\n",
    "                [[1,0,0],[0,0,-1],[0,1,0]],\n",
    "                [[0,0,1],[1,0,0],[0,1,0]],\n",
    "                [[-1,0,0],[0,0,1],[0,1,0]],]\n",
    "vertices = [[[-0.091519855,-0.1372],[0,-0.1372],[0,0.1372],[-0.091519855,0.1372],[-0.091519855,-0.1372]],\n",
    "            [[0,-0.1372],[0.091519855,-0.1372],[0.091519855,0.1372],[0,0.1372],[0,-0.1372]],\n",
    "            [[-0.0915,-0.2332],[0.0915,-0.2332],[0.0915,-0.15510625],[0,-0.1532],[-0.0915,-0.15510625],[-0.0915,-0.2332]],\n",
    "            [[0.107519855,-0.1372],[0.185613605,-0.1372],[0.185613605,0.1372],[0.107519855,0.1372],[0.107519855,-0.1372]],\n",
    "            [[-0.0915,0.2332],[0.0915,0.2332],[0.0915,0.15510625],[0,0.1532],[-0.0915,0.15510625],[-0.0915,0.2332]],\n",
    "            [[-0.107519855,-0.1372],[-0.185613605,-0.1372],[-0.185613605,0.1372],[-0.107519855,0.1372],[-0.107519855,-0.1372]],]\n"
   ]
  },
  {
   "cell_type": "code",
   "execution_count": null,
   "id": "adc99270",
   "metadata": {},
   "outputs": [],
   "source": [
    "\n",
    "faces = []\n",
    "for i,f in enumerate(faceID):\n",
    "    idx = data.index[data.faceID == f]\n",
    "    tapCoords = np.transpose(np.array([data.x[idx], data.y[idx]]))\n",
    "    tapNos = np.array(data.tapNo[idx],dtype=int)\n",
    "    idxOrig = idx\n",
    "\n",
    "    fc = windCAD.face(\n",
    "                name=name[i],\n",
    "                ID=f,\n",
    "                origin=origin[i],\n",
    "                basisVectors=basisVectors[i],\n",
    "                vertices=vertices[i],\n",
    "                tapNo=tapNos,\n",
    "                tapIdx=idxOrig,\n",
    "                tapName=None,\n",
    "                tapCoord=tapCoords,\n",
    "                zoneDict={},\n",
    "                nominalPanelAreas=[1.0e-4, 2.45e-4, 4.8e-4, 7.8e-4, 1e-3], #[5e-5, 8e-5, 1.5e-4, 5e-4],\n",
    "                numOfNominalPanelAreas=5,\n",
    "                )\n",
    "    # fc.plot(figSize=[20,15], overlayPanels=True, overlayTaps=True, overlayTribs=True, overlayZones=True)\n",
    "    faces.append(fc)\n",
    "\n",
    "\n",
    "ttu = windCAD.building(name='TTU',faces=faces,H=0.08,D=0.187,B=0.23,roofSlope=1.2,lScl=0.02)\n",
    "\n",
    "\n",
    "# file = caseDir+'ttu_bldgGeom.json'\n",
    "# allFaces.writeToFile(file_basic=file)"
   ]
  },
  {
   "cell_type": "code",
   "execution_count": 9,
   "id": "c6aec72f",
   "metadata": {},
   "outputs": [],
   "source": [
    "mainRefPitotChnlIdx = 2\n",
    "fps2mps = 0.3048\n",
    "Zpitot = 1.48\n",
    "Ntaps = 456\n",
    "\n",
    "dataDirHFPI = r'E:\\TNG\\rawHFPI\\tngE2p1/'\n",
    "\n",
    "N_AoA = 1\n",
    "AoAids = [str(i).zfill(3) for i in range(1,N_AoA+1)]\n",
    "\n",
    "        # self.AoA:List[float] = AoA          # [N_AoA]\n",
    "        # self.CpOfT = CpOfT      # [N_AoA,Ntaps,Ntime]\n",
    "        # self.pOfT = pOfT        # [N_AoA,Ntaps,Ntime]\n",
    "        # self.p0ofT = p0ofT      # [N_AoA,Ntime]\n",
    "        # self.CpStats = CpStats          # dict{[N_AoA,Ntaps] * nFlds}\n",
    "AoA = np.zeros((N_AoA))\n",
    "CpTH = np.zeros((N_AoA,Ntaps,None)) # [N_AoA,Ntaps,Ntime]\n",
    "\n",
    "for i,a in enumerate(AoAids):\n",
    "    file_pssd = dataDirHFPI+'TNGp1E02R001P001a.pssd'\n",
    "    file_pssr = dataDirHFPI+'TNGp1E02R001P001a.pssr'\n",
    "\n",
    "    cp_data,analog,WTTDATALOG = wio.readPSSfile(file_pssr,file_pssd)\n",
    "\n",
    "    UpitotOfT = 29.917 * np.sqrt(analog[:,mainRefPitotChnlIdx]) * fps2mps\n",
    "    Upitot = np.mean(UpitotOfT)\n",
    "    AoA = WTTDATALOG[\"APPSPE\"][0][0][0][0][0][0][0][16][0][0]\n",
    "    sampleRate = WTTDATALOG[\"APPSPE\"][0][0][0][0][0][0][0][12][0][0]\n"
   ]
  },
  {
   "cell_type": "code",
   "execution_count": 16,
   "id": "9e9f7799",
   "metadata": {
    "tags": []
   },
   "outputs": [
    {
     "name": "stdout",
     "output_type": "stream",
     "text": [
      "[[0. 0.]\n",
      " [0. 0.]\n",
      " [0. 0.]\n",
      " [0. 0.]\n",
      " [0. 0.]\n",
      " [0. 0.]\n",
      " [0. 0.]\n",
      " [0. 0.]\n",
      " [0. 0.]\n",
      " [0. 0.]]\n"
     ]
    }
   ],
   "source": [
    "AoA = np.zeros((10,2))\n",
    "print(AoA)"
   ]
  },
  {
   "cell_type": "code",
   "execution_count": 7,
   "id": "bf6eb325",
   "metadata": {},
   "outputs": [],
   "source": [
    "\n"
   ]
  }
 ],
 "metadata": {
  "kernelspec": {
   "display_name": "Python 3.8.8 ('base')",
   "language": "python",
   "name": "python3"
  },
  "language_info": {
   "codemirror_mode": {
    "name": "ipython",
    "version": 3
   },
   "file_extension": ".py",
   "mimetype": "text/x-python",
   "name": "python",
   "nbconvert_exporter": "python",
   "pygments_lexer": "ipython3",
   "version": "3.8.8"
  },
  "vscode": {
   "interpreter": {
    "hash": "ad2bdc8ecc057115af97d19610ffacc2b4e99fae6737bb82f5d7fb13d2f2c186"
   }
  }
 },
 "nbformat": 4,
 "nbformat_minor": 5
}
