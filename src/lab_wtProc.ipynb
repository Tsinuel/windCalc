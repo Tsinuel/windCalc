{
 "cells": [
  {
   "cell_type": "code",
   "execution_count": 1,
   "metadata": {},
   "outputs": [],
   "source": [
    "import numpy as np\n",
    "import os\n",
    "import pandas as pd\n",
    "import matplotlib.pyplot as plt\n",
    "\n",
    "import wio\n",
    "import wind"
   ]
  },
  {
   "cell_type": "code",
   "execution_count": 2,
   "id": "b2c7aee9",
   "metadata": {},
   "outputs": [],
   "source": [
    "caseDir = r'D:\\tempData_depot\\simData_CandC\\wt_tngE2/'\n",
    "# velTH = r'E:\\TNG\\Profiles\\RawData\\tngE2Fr1/'\n",
    "dataDirHFPI = r'E:\\TNG\\rawHFPI\\tngE2p1/'"
   ]
  },
  {
   "cell_type": "code",
   "execution_count": 16,
   "id": "41a83a19",
   "metadata": {},
   "outputs": [],
   "source": [
    "file = r'D:\\tempData_depot\\simData_CandC\\tngE2\\tngE2Fr1_profile.csv'\n",
    "temp = pd.read_csv(file)\n",
    "\n",
    "dt = 3.7890e-04\n",
    "H = 0.08\n",
    "\n",
    "# file = r'D:\\tempData_depot\\simData_CandC\\tngE2\\tngE2Fr1_TH-UofT.csv'\n",
    "# U_TH = np.transpose((pd.read_csv(file)).to_numpy())\n",
    "# file = r'D:\\tempData_depot\\simData_CandC\\tngE2\\tngE2Fr1_TH-VofT.csv'\n",
    "# V_TH = np.transpose((pd.read_csv(file)).to_numpy())\n",
    "# file = r'D:\\tempData_depot\\simData_CandC\\tngE2\\tngE2Fr1_TH-WofT.csv'\n",
    "# W_TH = np.transpose((pd.read_csv(file)).to_numpy())\n",
    "\n",
    "file = caseDir+'tngE2Fr1_TH-UofT.npy'\n",
    "U_TH = np.load(file)\n",
    "file = caseDir+'tngE2Fr1_TH-VofT.npy'\n",
    "V_TH = np.load(file)\n",
    "file = caseDir+'tngE2Fr1_TH-WofT.npy'\n",
    "W_TH = np.load(file)\n",
    "\n",
    "vel = wind.profile(name=\"BLWT-E2\", Z=temp.Z,UofT=U_TH,VofT=V_TH,WofT=W_TH,H=H,dt=dt,nSpectAvg=64)\n"
   ]
  },
  {
   "cell_type": "code",
   "execution_count": 4,
   "id": "51a7fd25",
   "metadata": {},
   "outputs": [],
   "source": [
    "\n",
    "file_pssd = dataDirHFPI+'TNGp1E02R001P001a.pssd'\n",
    "file_pssr = dataDirHFPI+'TNGp1E02R001P001a.pssr'\n",
    "\n",
    "cp_data,analog,WTTDATALOG = wio.readPSSfile(file_pssr,file_pssd)\n",
    "\n",
    "\n"
   ]
  },
  {
   "cell_type": "code",
   "execution_count": 15,
   "id": "80025cba",
   "metadata": {},
   "outputs": [
    {
     "name": "stdout",
     "output_type": "stream",
     "text": [
      "(1,)\n"
     ]
    }
   ],
   "source": [
    "ttu = wind.building('TTU',H=0.08)\n",
    "cp = wind.Cp(name='tngE1_0000',bldg=ttu,)"
   ]
  }
 ],
 "metadata": {
  "kernelspec": {
   "display_name": "Python 3.8.8 ('base')",
   "language": "python",
   "name": "python3"
  },
  "language_info": {
   "codemirror_mode": {
    "name": "ipython",
    "version": 3
   },
   "file_extension": ".py",
   "mimetype": "text/x-python",
   "name": "python",
   "nbconvert_exporter": "python",
   "pygments_lexer": "ipython3",
   "version": "3.8.8"
  },
  "vscode": {
   "interpreter": {
    "hash": "ad2bdc8ecc057115af97d19610ffacc2b4e99fae6737bb82f5d7fb13d2f2c186"
   }
  }
 },
 "nbformat": 4,
 "nbformat_minor": 5
}
