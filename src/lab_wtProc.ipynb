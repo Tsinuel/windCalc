{
 "cells": [
  {
   "cell_type": "code",
   "execution_count": 1,
   "metadata": {},
   "outputs": [],
   "source": [
    "import numpy as np\n",
    "import os\n",
    "import pandas as pd\n",
    "import matplotlib.pyplot as plt\n",
    "\n",
    "import wio\n",
    "import wind"
   ]
  },
  {
   "cell_type": "code",
   "execution_count": 2,
   "id": "b2c7aee9",
   "metadata": {},
   "outputs": [],
   "source": [
    "caseDir = r'D:\\tempData_depot\\simData_CandC\\wt_tngE2/'\n",
    "# velTH = r'E:\\TNG\\Profiles\\RawData\\tngE2Fr1/'\n",
    "dataDirHFPI = r'E:\\TNG\\rawHFPI\\tngE2p1/'"
   ]
  },
  {
   "cell_type": "code",
   "execution_count": 3,
   "id": "41a83a19",
   "metadata": {},
   "outputs": [],
   "source": [
    "file = r'D:\\tempData_depot\\simData_CandC\\tngE2\\tngE2Fr1_profile.csv'\n",
    "temp = pd.read_csv(file)\n",
    "\n",
    "dt = 3.7890e-04\n",
    "H = 0.08\n",
    "\n",
    "# file = r'D:\\tempData_depot\\simData_CandC\\tngE2\\tngE2Fr1_TH-UofT.csv'\n",
    "# U_TH = np.transpose((pd.read_csv(file)).to_numpy())\n",
    "# file = r'D:\\tempData_depot\\simData_CandC\\tngE2\\tngE2Fr1_TH-VofT.csv'\n",
    "# V_TH = np.transpose((pd.read_csv(file)).to_numpy())\n",
    "# file = r'D:\\tempData_depot\\simData_CandC\\tngE2\\tngE2Fr1_TH-WofT.csv'\n",
    "# W_TH = np.transpose((pd.read_csv(file)).to_numpy())\n",
    "\n",
    "file = caseDir+'tngE2Fr1_TH-UofT.npy'\n",
    "U_TH = np.load(file)\n",
    "file = caseDir+'tngE2Fr1_TH-VofT.npy'\n",
    "V_TH = np.load(file)\n",
    "file = caseDir+'tngE2Fr1_TH-WofT.npy'\n",
    "W_TH = np.load(file)\n",
    "\n",
    "vel = wind.profile(name=\"BLWT-E2\", Z=temp.Z,UofT=U_TH,VofT=V_TH,WofT=W_TH,H=H,dt=dt,nSpectAvg=64)\n"
   ]
  },
  {
   "cell_type": "code",
   "execution_count": 4,
   "id": "51a7fd25",
   "metadata": {},
   "outputs": [],
   "source": [
    "\n",
    "\n",
    "file_pssd = dataDirHFPI+'TNGp1E02R001P001a.pssd'\n",
    "file_pssr = dataDirHFPI+'TNGp1E02R001P001a.pssr'\n",
    "\n",
    "cp_data,analog,WTTDATALOG = wio.readPSSfile(file_pssr,file_pssd)\n",
    "\n",
    "mainRefPitotChnlIdx = 2\n",
    "fps2mps = 0.3048\n",
    "UpitotOfT = 29.917 * np.sqrt(analog[:,mainRefPitotChnlIdx]) * fps2mps\n",
    "Upitot = np.mean(UpitotOfT)\n",
    "Zpitot = 1.48\n",
    "AoA = WTTDATALOG[\"APPSPE\"][0][0][0][0][0][0][0][16][0][0]\n",
    "sampleRate = WTTDATALOG[\"APPSPE\"][0][0][0][0][0][0][0][12][0][0]\n",
    "\n",
    "\n",
    "tapFile = caseDir+'tngTapDefinition.csv'\n",
    "tapGeom = pd.read_csv(tapFile)"
   ]
  },
  {
   "cell_type": "code",
   "execution_count": 5,
   "id": "19617512",
   "metadata": {},
   "outputs": [],
   "source": [
    "\n",
    "# x = UpitotOfT\n",
    "# # x = WTTDATALOG[\"APPSPE\"][0][0][0][0][0][0][0][12][0][0]\n",
    "# print(np.shape(x))\n",
    "# print(np.mean(x))\n",
    "\n",
    "# print(tapGeom.to_numpy()[:,2:4])"
   ]
  },
  {
   "cell_type": "code",
   "execution_count": 6,
   "id": "80025cba",
   "metadata": {},
   "outputs": [],
   "source": [
    "ttu = wind.building('TTU',H=0.08,B=0.2744,D=0.183,He=0.078094,\n",
    "                    tapNo=tapGeom.tapNo,tapFaceID=tapGeom.faceID,\n",
    "                    tapCoord2D=tapGeom.to_numpy()[:,2:4],\n",
    "                    lScl=1/50)\n",
    "\n",
    "cp = wind.Cp(name='tngE1_0000',bldg=ttu,refProfile=vel,AoA=AoA,\n",
    "                samplingFreq=sampleRate,CpOfT=cp_data.transpose(),Zref_input=Zpitot,\n",
    "                Uref_input=Upitot)"
   ]
  },
  {
   "cell_type": "code",
   "execution_count": 7,
   "id": "549e12fb",
   "metadata": {},
   "outputs": [
    {
     "data": {
      "text/plain": [
       "[<matplotlib.lines.Line2D at 0x2344f573880>]"
      ]
     },
     "execution_count": 7,
     "metadata": {},
     "output_type": "execute_result"
    },
    {
     "data": {
      "image/png": "[encoded data removed]",
      "text/plain": [
       "<Figure size 432x288 with 1 Axes>"
      ]
     },
     "metadata": {
      "needs_background": "light"
     },
     "output_type": "display_data"
    }
   ],
   "source": [
    "plt.plot(cp.CpStd,'.k')\n",
    "# print(cp_data.shape)"
   ]
  },
  {
   "cell_type": "code",
   "execution_count": 11,
   "id": "77ca05c5",
   "metadata": {},
   "outputs": [
    {
     "name": "stdout",
     "output_type": "stream",
     "text": [
      "(-3.0, -3.0, 6.0, 5.0)\n"
     ]
    }
   ],
   "source": [
    "# from scipy.spatial import Voronoi, voronoi_plot_2d\n",
    "\n",
    "# points = np.array([[0.1, 0], [0, 1.5], [0, 2], [1, 0], [1.2, 1], [1, 2],\n",
    "#                    [2, 0], [2, 1], [2.05, 2]])\n",
    "# vor = Voronoi(points,)\n",
    "\n",
    "# fig = voronoi_plot_2d(vor)\n",
    "# plt.show()\n",
    "\n",
    "import shapely.geometry as shp\n",
    "from shapely.ops import voronoi_diagram\n",
    "\n",
    "points =  shp.MultiPoint([(0, 0), (1, 1), (0, 2), (2, 2), (3, 1), (1, 0)])\n",
    "\n",
    "regions = voronoi_diagram(points)\n",
    "\n",
    "print(regions.bounds)\n",
    "\n",
    "# print([region.wkt for region in regions])"
   ]
  }
 ],
 "metadata": {
  "kernelspec": {
   "display_name": "Python 3.8.8 ('base')",
   "language": "python",
   "name": "python3"
  },
  "language_info": {
   "codemirror_mode": {
    "name": "ipython",
    "version": 3
   },
   "file_extension": ".py",
   "mimetype": "text/x-python",
   "name": "python",
   "nbconvert_exporter": "python",
   "pygments_lexer": "ipython3",
   "version": "3.8.8"
  },
  "vscode": {
   "interpreter": {
    "hash": "ad2bdc8ecc057115af97d19610ffacc2b4e99fae6737bb82f5d7fb13d2f2c186"
   }
  }
 },
 "nbformat": 4,
 "nbformat_minor": 5
}
