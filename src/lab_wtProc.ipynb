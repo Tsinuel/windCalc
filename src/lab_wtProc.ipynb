{
 "cells": [
  {
   "cell_type": "code",
   "execution_count": 3,
   "metadata": {},
   "outputs": [],
   "source": [
    "import numpy as np\n",
    "import os\n",
    "import pandas as pd\n",
    "import matplotlib.pyplot as plt\n",
    "\n",
    "# import windIO\n",
    "# import wind\n",
    "# import windCAD"
   ]
  },
  {
   "cell_type": "code",
   "execution_count": 5,
   "id": "23fc2193",
   "metadata": {},
   "outputs": [
    {
     "data": {
      "image/png": "[encoded data removed]",
      "text/plain": [
       "<Figure size 432x288 with 1 Axes>"
      ]
     },
     "metadata": {
      "needs_background": "light"
     },
     "output_type": "display_data"
    }
   ],
   "source": [
    "import scipy.stats as stats\n",
    "\n",
    "X = np.random.uniform(low=0, high=1, size=4500)\n",
    "U = np.random.uniform(low=0, high=1, size=4500)\n",
    "\n",
    "def pi_x(x):\n",
    "    new_x = (3/2)*(x**3)+(11/8)*(x**2)+(1/6)*(x)+(1/12)\n",
    "    return new_x\n",
    "\n",
    "\n",
    "count = 1\n",
    "accept = []\n",
    "updf = stats.uniform(0,1)\n",
    "\n",
    "while (count <= 4500 and len(accept) < 1000):\n",
    "    test_u = U[count]\n",
    "    test_x = pi_x(X[count])/(3.125*updf.pdf(X[count]))\n",
    "    if (test_u <= test_x):\n",
    "        accept.append(X[count])\n",
    "        count += 1\n",
    "    count += 1\n",
    "\n",
    "plt.figure()\n",
    "plt.hist(accept)\n",
    "plt.show()"
   ]
  },
  {
   "cell_type": "code",
   "execution_count": null,
   "id": "b2c7aee9",
   "metadata": {},
   "outputs": [],
   "source": [
    "caseDir = r'D:\\tempData_depot\\simData_CandC\\wt_tngE2/'\n",
    "# velTH = r'E:\\TNG\\Profiles\\RawData\\tngE2Fr1/'\n",
    "dataDirHFPI = r'E:\\TNG\\rawHFPI\\tngE2p1/'"
   ]
  },
  {
   "cell_type": "code",
   "execution_count": null,
   "id": "41a83a19",
   "metadata": {},
   "outputs": [],
   "source": [
    "file = r'D:\\tempData_depot\\simData_CandC\\tngE2\\tngE2Fr1_profile.csv'\n",
    "temp = pd.read_csv(file)\n",
    "\n",
    "dt = 3.7890e-04\n",
    "H = 0.08\n",
    "\n",
    "# file = r'D:\\tempData_depot\\simData_CandC\\tngE2\\tngE2Fr1_TH-UofT.csv'\n",
    "# U_TH = np.transpose((pd.read_csv(file)).to_numpy())\n",
    "# file = r'D:\\tempData_depot\\simData_CandC\\tngE2\\tngE2Fr1_TH-VofT.csv'\n",
    "# V_TH = np.transpose((pd.read_csv(file)).to_numpy())\n",
    "# file = r'D:\\tempData_depot\\simData_CandC\\tngE2\\tngE2Fr1_TH-WofT.csv'\n",
    "# W_TH = np.transpose((pd.read_csv(file)).to_numpy())\n",
    "\n",
    "file = caseDir+'tngE2Fr1_TH-UofT.npy'\n",
    "U_TH = np.load(file)\n",
    "file = caseDir+'tngE2Fr1_TH-VofT.npy'\n",
    "V_TH = np.load(file)\n",
    "file = caseDir+'tngE2Fr1_TH-WofT.npy'\n",
    "W_TH = np.load(file)\n",
    "\n",
    "vel = wind.profile(name=\"BLWT-E2\", Z=temp.Z,UofT=U_TH,VofT=V_TH,WofT=W_TH,H=H,dt=dt,nSpectAvg=64)\n"
   ]
  },
  {
   "cell_type": "code",
   "execution_count": null,
   "id": "51a7fd25",
   "metadata": {},
   "outputs": [],
   "source": [
    "\n",
    "file_pssd = dataDirHFPI+'TNGp1E02R001P001a.pssd'\n",
    "file_pssr = dataDirHFPI+'TNGp1E02R001P001a.pssr'\n",
    "\n",
    "cp_data,analog,WTTDATALOG = wio.readPSSfile(file_pssr,file_pssd)\n",
    "\n",
    "mainRefPitotChnlIdx = 2\n",
    "fps2mps = 0.3048\n",
    "UpitotOfT = 29.917 * np.sqrt(analog[:,mainRefPitotChnlIdx]) * fps2mps\n",
    "Upitot = np.mean(UpitotOfT)\n",
    "Zpitot = 1.48\n",
    "AoA = WTTDATALOG[\"APPSPE\"][0][0][0][0][0][0][0][16][0][0]\n",
    "sampleRate = WTTDATALOG[\"APPSPE\"][0][0][0][0][0][0][0][12][0][0]\n",
    "\n",
    "\n",
    "tapFile = caseDir+'tngTapDefinition.csv'\n",
    "tapGeom = pd.read_csv(tapFile)"
   ]
  },
  {
   "cell_type": "code",
   "execution_count": null,
   "id": "19617512",
   "metadata": {},
   "outputs": [],
   "source": [
    "\n",
    "# x = UpitotOfT\n",
    "# # x = WTTDATALOG[\"APPSPE\"][0][0][0][0][0][0][0][12][0][0]\n",
    "# print(np.shape(x))\n",
    "# print(np.mean(x))\n",
    "\n",
    "# print(tapGeom.to_numpy()[:,2:4])"
   ]
  },
  {
   "cell_type": "code",
   "execution_count": null,
   "id": "80025cba",
   "metadata": {},
   "outputs": [],
   "source": [
    "ttu = wind.building('TTU',H=0.08,B=0.2744,D=0.183,He=0.078094,\n",
    "                    tapNo=tapGeom.tapNo,tapFaceID=tapGeom.faceID,\n",
    "                    tapCoord2D=tapGeom.to_numpy()[:,2:4],\n",
    "                    lScl=1/50)\n",
    "\n",
    "cp = wind.Cp(name='tngE1_0000',bldg=ttu,refProfile=vel,AoA=AoA,\n",
    "                samplingFreq=sampleRate,CpOfT=cp_data.transpose(),Zref_input=Zpitot,\n",
    "                Uref_input=Upitot)"
   ]
  },
  {
   "cell_type": "code",
   "execution_count": null,
   "id": "549e12fb",
   "metadata": {},
   "outputs": [],
   "source": [
    "plt.plot(cp.CpStd,'.k')\n",
    "# print(cp_data.shape)"
   ]
  },
  {
   "cell_type": "code",
   "execution_count": null,
   "id": "8a5c3191",
   "metadata": {
    "slideshow": {
     "slide_type": "subslide"
    }
   },
   "outputs": [],
   "source": [
    "import numpy as np\n",
    "import os\n",
    "import pandas as pd\n",
    "import matplotlib.pyplot as plt\n",
    "\n",
    "import wio\n",
    "import wind\n",
    "import windCAD\n",
    "\n",
    "import shapely.geometry as shp\n",
    "\n",
    "xMin = -0.1372\n",
    "xMax = 0.1372\n",
    "yMin = 0\n",
    "yMax = 0.091519855\n",
    "bound = [(xMin, yMin), (xMin, yMax),(xMax, yMax),(xMax, yMin),(xMin, yMin),]\n",
    "\n",
    "file = r\"D:\\tempData_depot\\simData_CandC\\tapCoords2D.csv\"\n",
    "data = pd.read_csv(file)\n",
    "idx = data.index[data.Face_ID == 2]\n",
    "taps = np.transpose(np.array([data.x[idx], data.y[idx]]))\n",
    "tapNos = np.array(data.tapNo[idx],dtype=int)\n",
    "idxOrig = idx\n",
    "\n",
    "\n",
    "xMid = 0.1\n",
    "xMid2 = 0.11\n",
    "yMid = 0.02\n",
    "yMid2 = 0.025\n",
    "yMid3 = (yMid+yMax)*0.6\n",
    "\n",
    "zoneDict = {\n",
    "                0:['NBCC', 'Corner Zone', np.array([(xMid, yMin), (xMax, yMin), (xMax, yMid), (xMid, yMid), (xMid, yMin)])],\n",
    "                1:['NBCC', 'Edge Zone',   np.array([(xMin, yMin), (xMid, yMin), (xMid, yMid), (-0.05, 0.05), (xMin, yMid), (xMin, yMin)])],\n",
    "                2:['NBCC', 'Edge Zone',   np.array([(xMid, yMid3-0.01), (xMax, yMid3), (xMax, yMax), (xMid, yMax), (xMid, yMid3-0.01)])],\n",
    "                3:['NBCC', 'Edge Zone',   np.array([(xMid, yMid), (xMax, yMid), (xMax, yMid3), (xMid, yMid3-0.01), (xMid, yMid)])],\n",
    "                4:['NBCC', 'Field Zone',  np.array([(xMin, yMid), (-0.05, 0.05), (xMid, yMid), (xMid, yMax), (xMin, yMax), (xMin, yMid)])],\n",
    "            }\n",
    "\n",
    "\n",
    "\n",
    "# # problematic areas: 2e-4 (NBCC), \n",
    "# # edge zone doesn't divide properly: 3e-4 with ASCE  np.array([(xMid2, yMid2), (xMax, yMid2), (xMax, yMax), (xMid2, yMax), (xMid2, yMid2)]), # subzone 2  \n",
    "# nominalPanelAreas = [5e-5,1e-4,1.001e-4] # 7e-5, 8e-5, 9e-5] #5e-5, 1e-4]\n",
    "print(bound)\n",
    "\n",
    "myface = windCAD.face(\n",
    "                name='Roof',\n",
    "                ID=0,\n",
    "                origin=[-0.091,0.0,0.08],\n",
    "                basisVectors=[[1,0,0],[0,1,0],[0,0,1]],\n",
    "                vertices=bound,\n",
    "                tapNo=tapNos,\n",
    "                tapIdx=idxOrig,\n",
    "                tapName=None,\n",
    "                tapCoord=taps,\n",
    "                zoneDict=zoneDict,\n",
    "                nominalPanelAreas=[5e-5, 8e-5, 1.5e-4],\n",
    "                numOfNominalPanelAreas=5,\n",
    "                )\n",
    "print(myface)\n",
    "\n",
    "face2 = myface\n",
    "\n",
    "faces = windCAD.Faces(members=[myface,face2])"
   ]
  },
  {
   "cell_type": "code",
   "execution_count": null,
   "id": "d3277f24",
   "metadata": {},
   "outputs": [],
   "source": [
    "# print(myface.tapTribs)\n",
    "print(f\"Shape of 'panels': {np.shape(np.array(myface.panels,dtype=object))}\")\n",
    "print(f\"Shape of 'pnlWeights': {np.shape(np.array(myface.tapWghtPerPanel,dtype=object))}\")\n",
    "print(f\"Shape of 'tapIdxByPnl': {np.shape(np.array(myface.tapIdxPerPanel,dtype=object))}\")\n",
    "\n",
    "# print(myface.zoneDict[0][2][:,1])\n",
    "# plot panels\n",
    "for a,area in enumerate(myface.nominalPanelAreas):\n",
    "    plt.figure(figsize=[20,10])\n",
    "    plt.plot(taps[:,0],taps[:,1],'.k')\n",
    "    for t in myface.tapTribs.geoms:\n",
    "        x,y = t.exterior.xy\n",
    "        plt.plot(x,y,':r',lw=0.5)\n",
    "    for z,zone in enumerate(myface.zoneDict.values()):\n",
    "        plt.plot(zone[2][:,0],zone[2][:,1],'--k',lw=2.0)\n",
    "        print(f\"Number of panels: {np.shape(myface.panels[z][a])}\")\n",
    "        for p in myface.panels[z][a]:\n",
    "            # print(p)\n",
    "            x,y = p.exterior.xy\n",
    "            plt.plot(x,y,'-b',lw=0.5)\n",
    "    plt.axis('equal')\n",
    "    plt.show()"
   ]
  },
  {
   "cell_type": "code",
   "execution_count": null,
   "id": "2beed1ad",
   "metadata": {},
   "outputs": [],
   "source": [
    "zoneNames = {\n",
    "                0:['NBCC', 'Corner Zone', [3,4,5,6,3]],\n",
    "                1:['NBCC', 'Edge Zone', [3,4,5,6,3]],\n",
    "                2:['NBCC', 'Edge Zone', [3,4,5,6,3]],\n",
    "                3:['NBCC', 'Field Zone', [3,4,5,6,3]],\n",
    "                4:['ASCE', 'Corner Zone', [3,4,5,6,3]],\n",
    "                5:['ASCE', 'Edge Zone', [3,4,5,6,3]],\n",
    "                6:['ASCE', 'Edge Zone', [3,4,5,6,3]],\n",
    "                7:['ASCE', 'Field Zone', [3,4,5,6,3]],\n",
    "            }\n",
    "members = [myface.zoneDict, face2.zoneDict]\n",
    "\n",
    "allZones = {}\n",
    "i = 0\n",
    "for fc in members:\n",
    "    for val in fc.values():\n",
    "        isNewVal = True\n",
    "        for acceptedZone in allZones.values():\n",
    "            if val[0] == acceptedZone[0] and val[1] == acceptedZone[1]:\n",
    "                isNewVal = False\n",
    "                break\n",
    "        if isNewVal:\n",
    "            x = list(val)[0:2]\n",
    "            x.append([])\n",
    "            allZones[i] = x\n",
    "            i += 1\n",
    "# print(allZones)\n",
    "\n",
    "# for fc in faces:\n",
    "#     print(fc.zoneDict.values())\n",
    "\n",
    "# panelAreas, Weights, tapIdxs = faces.tapWghtAndIdxPerPanel()\n",
    "# print(f\"panelAreas: {np.shape(panelAreas)}\")\n",
    "# print(f\"Weights: {np.shape(Weights)}\")\n",
    "# print(f\"tapIdxs: {np.shape(tapIdxs)}\")\n",
    "\n",
    "# print(f\"panels: {np.shape(myface.panels)}\")\n",
    "# print(f\"panels: {np.shape(myface.tapWghtPerPanel)}\")\n",
    "# for z,zone in enumerate(myface.panels):\n",
    "#     for a,area in enumerate(myface.panels[z]):\n",
    "#         print(myface.panels[z][a])\n",
    "#         for p,panel in enumerate(myface.panels[z][a]):\n",
    "#             print(panel)\n",
    "#             print(f\"wghtsPerPanel: {np.shape(area)}\")\n",
    "\n",
    "# import shapely.geometry as shp\n",
    "# pts = shp.Point(taps)\n",
    "# print(pts)\n",
    "# weights, tapIdxs, overlaps = windCAD.calculateTapWeightsPerPanel(myface.panels[0][0],myface.tapTribs,idxOrig)\n",
    "\n",
    "# for i,w in enumerate(weights):\n",
    "#     print(f\"Panels: {myface.panels[0][0][i]}\")\n",
    "#     print(f\"weights: {np.shape(w)}, sum: {sum(w)}\")\n"
   ]
  },
  {
   "cell_type": "code",
   "execution_count": null,
   "id": "acd89545",
   "metadata": {},
   "outputs": [],
   "source": []
  }
 ],
 "metadata": {
  "kernelspec": {
   "display_name": "Python 3.8.8 ('base')",
   "language": "python",
   "name": "python3"
  },
  "language_info": {
   "codemirror_mode": {
    "name": "ipython",
    "version": 3
   },
   "file_extension": ".py",
   "mimetype": "text/x-python",
   "name": "python",
   "nbconvert_exporter": "python",
   "pygments_lexer": "ipython3",
   "version": "3.8.8"
  },
  "vscode": {
   "interpreter": {
    "hash": "a101310663fe7ba3133d191ee0beb8e8ff0a9e31c81b0bc47e021bdd8a76f1c3"
   }
  }
 },
 "nbformat": 4,
 "nbformat_minor": 5
}
