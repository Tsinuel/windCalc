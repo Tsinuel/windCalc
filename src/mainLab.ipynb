{
 "cells": [
  {
   "cell_type": "markdown",
   "id": "bc8a20fe",
   "metadata": {},
   "source": [
    "# Run code"
   ]
  },
  {
   "cell_type": "code",
   "execution_count": 12,
   "metadata": {},
   "outputs": [],
   "source": [
    "import numpy as np\n",
    "import os\n",
    "import warnings\n",
    "import pandas as pd\n",
    "import scipy.interpolate as scintrp\n",
    "import matplotlib.pyplot as plt\n",
    "from matplotlib.backends.backend_pdf import PdfPages\n",
    "\n",
    "import foamDataHandler as foam\n",
    "import windLoadCaseProcessors as wProc\n",
    "import windPlotters as wPlt\n",
    "import windBasics as wind"
   ]
  },
  {
   "cell_type": "code",
   "execution_count": 6,
   "id": "11a442a9",
   "metadata": {},
   "outputs": [],
   "source": [
    "caseDir = 'D:/tempData_depot/simData_CandC/ttuMSop0900.4/'\n",
    "probeName = 'probes.V1'\n",
    "targetProfile = caseDir+\"blwtProfiles_O15.csv\""
   ]
  },
  {
   "cell_type": "code",
   "execution_count": 14,
   "id": "fdf5fbc9",
   "metadata": {},
   "outputs": [
    {
     "name": "stdout",
     "output_type": "stream",
     "text": [
      "Processing OpenFOAM case: D:/tempData_depot/simData_CandC/ttuMSop0900.4/\n",
      "Probe read from: D:/tempData_depot/simData_CandC/ttuMSop0900.4//postProcessing/probes.V1\n",
      "Target profile read from: D:/tempData_depot/simData_CandC/ttuMSop0900.4/blwtProfiles_O15.csv\n"
     ]
    }
   ],
   "source": [
    "les,wt = foam.processVelProfile(caseDir,probeName,targetProfile)\n",
    "\n"
   ]
  },
  {
   "cell_type": "code",
   "execution_count": 13,
   "id": "946f540c",
   "metadata": {},
   "outputs": [],
   "source": [
    "class myClass:\n",
    "    def __init__(self) -> None:\n",
    "        print(\"Here!\")\n",
    "\n",
    "    def myFunc():\n",
    "        print(\"Here from func!\")"
   ]
  }
 ],
 "metadata": {
  "kernelspec": {
   "display_name": "Python 3.8.8 ('base')",
   "language": "python",
   "name": "python3"
  },
  "language_info": {
   "codemirror_mode": {
    "name": "ipython",
    "version": 3
   },
   "file_extension": ".py",
   "mimetype": "text/x-python",
   "name": "python",
   "nbconvert_exporter": "python",
   "pygments_lexer": "ipython3",
   "version": "3.8.8"
  },
  "vscode": {
   "interpreter": {
    "hash": "ad2bdc8ecc057115af97d19610ffacc2b4e99fae6737bb82f5d7fb13d2f2c186"
   }
  }
 },
 "nbformat": 4,
 "nbformat_minor": 5
}
