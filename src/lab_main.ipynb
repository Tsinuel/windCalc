{
 "cells": [
  {
   "cell_type": "code",
   "execution_count": 1,
   "metadata": {},
   "outputs": [],
   "source": [
    "import numpy as np\n",
    "import os\n",
    "import warnings\n",
    "import pandas as pd\n",
    "import scipy.interpolate as scintrp\n",
    "import matplotlib.pyplot as plt\n",
    "from matplotlib.backends.backend_pdf import PdfPages\n",
    "from scipy.signal import savgol_filter as smooth\n",
    "\n",
    "import foamDataHandler as foam\n",
    "import windLoadCaseProcessors as wProc\n",
    "import windPlotters as wPlt\n",
    "import windBasics as wind"
   ]
  },
  {
   "cell_type": "markdown",
   "id": "bc8a20fe",
   "metadata": {},
   "source": [
    "# Case handling"
   ]
  },
  {
   "cell_type": "code",
   "execution_count": 2,
   "id": "11a442a9",
   "metadata": {},
   "outputs": [
    {
     "name": "stdout",
     "output_type": "stream",
     "text": [
      "Processing OpenFOAM case: D:/tempData_depot/simData_CandC/ttuMSop0900.4/\n",
      "Probe read from: D:/tempData_depot/simData_CandC/ttuMSop0900.4//postProcessing/probes.V1\n",
      "Target profile read from:--- D:/tempData_depot/simData_CandC/ttuMSop0900.4/blwtProfiles_O15.csv\n"
     ]
    },
    {
     "data": {
      "text/plain": [
       "<Figure size 1008x432 with 0 Axes>"
      ]
     },
     "metadata": {},
     "output_type": "display_data"
    }
   ],
   "source": [
    "caseDir = 'D:/tempData_depot/simData_CandC/ttuMSop0900.4/'\n",
    "probeName = 'probes.V1'\n",
    "targetProfile = caseDir+\"blwtProfiles_O15.csv\"\n",
    "\n",
    "les,wt = foam.processVelProfile(caseDir,probeName,targetProfile,normalize=False,writeToDataFile=True)\n"
   ]
  },
  {
   "cell_type": "markdown",
   "id": "0fe03a37",
   "metadata": {},
   "source": [
    "# Inflow handling"
   ]
  },
  {
   "cell_type": "code",
   "execution_count": null,
   "id": "946f540c",
   "metadata": {},
   "outputs": [],
   "source": [
    "caseDir = 'D:/tempData_depot/simData_CandC/ttuPSpcOP15.7/'\n",
    "tMin = 47\n",
    "tMax = 47.3\n",
    "zRef = 0.08\n",
    "sampleName = 'testRun'\n",
    "\n",
    "inletDir = caseDir+'constant/boundaryData/inlet/'\n",
    "outPath = caseDir+'constant/boundaryData/sample_'\n",
    "figFile = caseDir+'constant/boundaryData/sampleProfiles.pdf'\n",
    "\n",
    "# foam.extractSampleProfileFromInflow(inletDir, outPath, figFile, tMax, H)\n",
    "# velUn, velSc = foam.scaleInflowData(caseDir,tMin,tMax,zRef,writeInflow=False,smplName=sampleName)\n"
   ]
  },
  {
   "cell_type": "code",
   "execution_count": null,
   "id": "57840c05",
   "metadata": {},
   "outputs": [],
   "source": [
    "import sys\n",
    "import foamDataHandler as foam\n",
    "\n",
    "caseDir = \n",
    "probeName = args[1]\n",
    "targetProfile = args[2]\n",
    "\n",
    "\n",
    "foam.processVelProfile(caseDir, probeName, targetProfile,\n",
    "                        normalize=False,\n",
    "                        writeToDataFile=False,\n",
    "                        showPlots=False,\n",
    "                        exportPlots=True,\n",
    "                        )\n"
   ]
  },
  {
   "cell_type": "code",
   "execution_count": null,
   "id": "fd178949",
   "metadata": {},
   "outputs": [],
   "source": [
    "fileDir = 'D:/tempData_depot/simData_CandC/E01v01/constant/'\n",
    "file = fileDir+'Unscaled_0.0_to_50.0_profiles.csv'\n",
    "prof = pd.read_csv(file)\n",
    "zRef = 0.08\n",
    "\n",
    "\n",
    "file = fileDir+'Unscaled_0.0_to_50.0_U-TH.npy'\n",
    "U = np.load(file)\n",
    "file = fileDir+'Unscaled_0.0_to_50.0_V-TH.npy'\n",
    "V = np.load(file)\n",
    "file = fileDir+'Unscaled_0.0_to_50.0_W-TH.npy'\n",
    "W = np.load(file)\n",
    "\n",
    "dt = 0.002\n",
    "velUn = wind.profile(name=\"Unscaled\",Z=prof.Z,dt=dt,Zref=zRef,UofT=U,VofT=V,WofT=W)\n",
    "\n",
    "file = fileDir+'Scaled_0.0_to_50.0_U-TH.npy'\n",
    "U = np.load(file)\n",
    "file = fileDir+'Scaled_0.0_to_50.0_V-TH.npy'\n",
    "V = np.load(file)\n",
    "file = fileDir+'Scaled_0.0_to_50.0_W-TH.npy'\n",
    "W = np.load(file)\n",
    "\n",
    "dt = 0.000926\n",
    "velSc = wind.profile(name=\"Scaled\",Z=prof.Z,dt=dt,Zref=zRef,UofT=U,VofT=V,WofT=W)"
   ]
  },
  {
   "cell_type": "code",
   "execution_count": null,
   "id": "85e00d93",
   "metadata": {},
   "outputs": [],
   "source": [
    "\n",
    "figFile = fileDir+'figures.pdf'\n",
    "\n",
    "allProfs = wind.Profiles((velSc,velUn))\n",
    "allProfs.plotProfiles(figFile=fileDir+'profFigures.pdf')\n",
    "allProfs.plotSpectra(figFile=fileDir+'spectFigures.pdf')\n",
    "\n",
    "# allProfs.profiles[0].name\n",
    "\n",
    "print(velUn.Spect_Zref.U)\n"
   ]
  }
 ],
 "metadata": {
  "kernelspec": {
   "display_name": "Python 3.8.8 ('base')",
   "language": "python",
   "name": "python3"
  },
  "language_info": {
   "codemirror_mode": {
    "name": "ipython",
    "version": 3
   },
   "file_extension": ".py",
   "mimetype": "text/x-python",
   "name": "python",
   "nbconvert_exporter": "python",
   "pygments_lexer": "ipython3",
   "version": "3.8.8"
  },
  "vscode": {
   "interpreter": {
    "hash": "ad2bdc8ecc057115af97d19610ffacc2b4e99fae6737bb82f5d7fb13d2f2c186"
   }
  }
 },
 "nbformat": 4,
 "nbformat_minor": 5
}
